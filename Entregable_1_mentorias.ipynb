{
  "cells": [
    {
      "cell_type": "markdown",
      "metadata": {
        "id": "aaWQazGjZzog"
      },
      "source": [
        "## Diplodatos\n",
        "---\n",
        "## Mentorias. Grupo 16\n",
        "## Analisis inteligente de jugadores de un reconocido juego electronico\n",
        "\n",
        "\n",
        "# Trabajo Práctico 1\n",
        "\n",
        "**Integrantes:**\n",
        "\n",
        "-Juan Cruz Bordón\n",
        "\n",
        "-Nicolás Ambrosis\n",
        "\n",
        "-Laura A. Feü "
      ]
    },
    {
      "cell_type": "markdown",
      "metadata": {
        "id": "SNvHCaW7aFkt"
      },
      "source": [
        "# Sección 1: Análisis inicial del dataset"
      ]
    },
    {
      "cell_type": "markdown",
      "metadata": {
        "id": "M7DzGiLFaGkd"
      },
      "source": [
        "***(1) Cargar el dataset y armar el DataFrame.***"
      ]
    },
    {
      "cell_type": "code",
      "execution_count": null,
      "metadata": {
        "id": "VfLvswnVZqu_"
      },
      "outputs": [],
      "source": [
        "#Lo primero que hacemos antes de cargar el DataSet y armar el DataFrame es realizar los import de las librerias correspondientes\n",
        "\n",
        "import numpy as np\n",
        "import pandas as pd\n",
        "import io\n",
        "import matplotlib\n",
        "import matplotlib.pyplot as plt\n",
        "from scipy.stats.mstats import mode\n",
        "from statistics import mode\n",
        "pd.set_option('display.float_format', '{:,.2f}'.format)\n",
        "import seaborn as sns\n",
        "sns.set_context('talk')\n",
        "import missingno as msno"
      ]
    },
    {
      "cell_type": "code",
      "execution_count": null,
      "metadata": {
        "id": "yCjScpWJbNZi"
      },
      "outputs": [],
      "source": [
        "#Una vez realizado la carga de las librerias comenzamos con la carga del Set\n",
        "# df = pd.read_csv('/content/drive/Shareddrives/Análisis Inteligente de Jugadores de Reconocido Juego Electrónico/lau-juan-nico/datos_jugadores.csv')\n",
        "# df.head(5)\n"
      ]
    },
    {
      "cell_type": "code",
      "execution_count": null,
      "metadata": {
        "id": "xsUPxw1csnjR",
        "outputId": "56161960-f616-455d-b585-17153662f4bd"
      },
      "outputs": [
        {
          "data": {
            "text/html": [
              "<div>\n",
              "<style scoped>\n",
              "    .dataframe tbody tr th:only-of-type {\n",
              "        vertical-align: middle;\n",
              "    }\n",
              "\n",
              "    .dataframe tbody tr th {\n",
              "        vertical-align: top;\n",
              "    }\n",
              "\n",
              "    .dataframe thead th {\n",
              "        text-align: right;\n",
              "    }\n",
              "</style>\n",
              "<table border=\"1\" class=\"dataframe\">\n",
              "  <thead>\n",
              "    <tr style=\"text-align: right;\">\n",
              "      <th></th>\n",
              "      <th>id</th>\n",
              "      <th>datetime</th>\n",
              "      <th>has_studies</th>\n",
              "      <th>gender</th>\n",
              "      <th>country</th>\n",
              "      <th>state</th>\n",
              "      <th>age</th>\n",
              "      <th>cups</th>\n",
              "    </tr>\n",
              "  </thead>\n",
              "  <tbody>\n",
              "    <tr>\n",
              "      <th>0</th>\n",
              "      <td>5316ca1c5ddca8e6ceccfce58f3b8540e540ee22f6180f...</td>\n",
              "      <td>2021-11-08 14:05:15</td>\n",
              "      <td>f</td>\n",
              "      <td>Hombre</td>\n",
              "      <td>Argentina</td>\n",
              "      <td>Santa Fe</td>\n",
              "      <td>1,997.00</td>\n",
              "      <td>1268</td>\n",
              "    </tr>\n",
              "    <tr>\n",
              "      <th>1</th>\n",
              "      <td>bbb965ab0c80d6538cf2184babad2a564a010376712012...</td>\n",
              "      <td>2021-11-08 14:05:16</td>\n",
              "      <td>t</td>\n",
              "      <td>Hombre</td>\n",
              "      <td>Argentina</td>\n",
              "      <td>Santa fe</td>\n",
              "      <td>1,999.00</td>\n",
              "      <td>1212</td>\n",
              "    </tr>\n",
              "    <tr>\n",
              "      <th>2</th>\n",
              "      <td>b4944c6ff08dc6f43da2e9c824669b7d927dd1fa976fad...</td>\n",
              "      <td>2021-11-08 14:05:16</td>\n",
              "      <td>f</td>\n",
              "      <td>Hombre</td>\n",
              "      <td>Argentina</td>\n",
              "      <td>Entre Rios</td>\n",
              "      <td>2,003.00</td>\n",
              "      <td>1343</td>\n",
              "    </tr>\n",
              "    <tr>\n",
              "      <th>3</th>\n",
              "      <td>434c9b5ae514646bbd91b50032ca579efec8f22bf0b4aa...</td>\n",
              "      <td>2021-11-08 14:05:16</td>\n",
              "      <td>t</td>\n",
              "      <td>Hombre</td>\n",
              "      <td>Venezuela</td>\n",
              "      <td>Aragua</td>\n",
              "      <td>2,000.00</td>\n",
              "      <td>1237</td>\n",
              "    </tr>\n",
              "    <tr>\n",
              "      <th>4</th>\n",
              "      <td>cd70bea023f752a0564abb6ed08d42c1440f2e33e29914...</td>\n",
              "      <td>2021-11-08 14:05:16</td>\n",
              "      <td>t</td>\n",
              "      <td>Hombre</td>\n",
              "      <td>Venezuela</td>\n",
              "      <td>Carabobo</td>\n",
              "      <td>2,000.00</td>\n",
              "      <td>1191</td>\n",
              "    </tr>\n",
              "  </tbody>\n",
              "</table>\n",
              "</div>"
            ],
            "text/plain": [
              "                                                  id             datetime  \\\n",
              "0  5316ca1c5ddca8e6ceccfce58f3b8540e540ee22f6180f...  2021-11-08 14:05:15   \n",
              "1  bbb965ab0c80d6538cf2184babad2a564a010376712012...  2021-11-08 14:05:16   \n",
              "2  b4944c6ff08dc6f43da2e9c824669b7d927dd1fa976fad...  2021-11-08 14:05:16   \n",
              "3  434c9b5ae514646bbd91b50032ca579efec8f22bf0b4aa...  2021-11-08 14:05:16   \n",
              "4  cd70bea023f752a0564abb6ed08d42c1440f2e33e29914...  2021-11-08 14:05:16   \n",
              "\n",
              "  has_studies  gender    country       state      age  cups  \n",
              "0           f  Hombre  Argentina    Santa Fe 1,997.00  1268  \n",
              "1           t  Hombre  Argentina    Santa fe 1,999.00  1212  \n",
              "2           f  Hombre  Argentina  Entre Rios 2,003.00  1343  \n",
              "3           t  Hombre  Venezuela      Aragua 2,000.00  1237  \n",
              "4           t  Hombre  Venezuela    Carabobo 2,000.00  1191  "
            ]
          },
          "execution_count": 6,
          "metadata": {},
          "output_type": "execute_result"
        }
      ],
      "source": [
        "#Una vez realizado la carga de las librerias comenzamos con la carga del Set\n",
        "df = pd.read_csv('datos_jugadores.csv')\n",
        "df.head(5)\n"
      ]
    },
    {
      "cell_type": "markdown",
      "metadata": {
        "id": "yo7xDgQ7buWw"
      },
      "source": [
        "***(2) ¿Cuántos ejemplos y cuántos features hay en el dataset? ¿Qué información indica cada uno de los features?***"
      ]
    },
    {
      "cell_type": "code",
      "execution_count": null,
      "metadata": {
        "colab": {
          "base_uri": "https://localhost:8080/"
        },
        "id": "nffyIJzLbvfN",
        "outputId": "7e11eb0e-048c-4971-c081-d828f3bad5d5"
      },
      "outputs": [
        {
          "name": "stdout",
          "output_type": "stream",
          "text": [
            "Examples:  4404492  \n",
            "Features:  8 \n",
            "Detalle de los features:  Index(['id', 'datetime', 'has_studies', 'gender', 'country', 'state', 'age',\n",
            "       'cups'],\n",
            "      dtype='object')\n"
          ]
        }
      ],
      "source": [
        "#Hacemos un conteo y detalle de columnas\n",
        "examples = len(df)\n",
        "features = df.columns\n",
        "print('Examples: ', examples,' \\nFeatures: ',len(features),'\\nDetalle de los features: ',features)"
      ]
    },
    {
      "cell_type": "markdown",
      "metadata": {
        "id": "c9nG_PxHb-w3"
      },
      "source": [
        "Por lo que podemos ver tenemos:\n",
        "\n",
        "-Un total de 44044492 registros o ejemplos\n",
        "\n",
        "-Un total de 8 tablas\n",
        "\n",
        "Los nombres de las columnas son las siguientes y representan:\n",
        "\n",
        "*   id: Código único de identficación perteneciente a cada jugador.\n",
        "*   datetime: Fecha y hora del registro\n",
        "*   has_studies: Si los jugadores tienen o no estudios\n",
        "*   gender: Género de los jugadores\n",
        "*   country: País de los jugadores\n",
        "*   state: Provincia donde reciden los jugadores\n",
        "*   age: Año de nacimiento de cada jugador\n",
        "*   cups: Copas ganadas en el juego"
      ]
    },
    {
      "cell_type": "markdown",
      "metadata": {
        "id": "m_Qu4xdHcDhv"
      },
      "source": [
        "***(3) ¿Qué valores puede tomar cada feature? ¿Son numéricos, categóricos? ¿Hay datos nulos?***"
      ]
    },
    {
      "cell_type": "code",
      "execution_count": null,
      "metadata": {
        "colab": {
          "base_uri": "https://localhost:8080/"
        },
        "id": "2laCzur-cEG8",
        "outputId": "dec48237-e811-46fd-e657-443a5e9dacc7"
      },
      "outputs": [
        {
          "data": {
            "text/plain": [
              "id              object\n",
              "datetime        object\n",
              "has_studies     object\n",
              "gender          object\n",
              "country         object\n",
              "state           object\n",
              "age            float64\n",
              "cups             int64\n",
              "dtype: object"
            ]
          },
          "execution_count": 8,
          "metadata": {},
          "output_type": "execute_result"
        }
      ],
      "source": [
        "#Revisaremos los tipos de datos que contienen cada una de las columnas\n",
        "df.dtypes"
      ]
    },
    {
      "cell_type": "code",
      "execution_count": null,
      "metadata": {
        "colab": {
          "base_uri": "https://localhost:8080/"
        },
        "id": "wzmcEHXLcS6C",
        "outputId": "f99ea15f-c7f1-4932-fe20-9d356d94be76"
      },
      "outputs": [
        {
          "data": {
            "text/plain": [
              "id                 0\n",
              "datetime           0\n",
              "has_studies    56878\n",
              "gender         39077\n",
              "country        39077\n",
              "state          59086\n",
              "age            39077\n",
              "cups               0\n",
              "dtype: int64"
            ]
          },
          "execution_count": 9,
          "metadata": {},
          "output_type": "execute_result"
        }
      ],
      "source": [
        "#Vamos a sumar los nulos en todo el DF\n",
        "df.isnull().sum()"
      ]
    },
    {
      "cell_type": "code",
      "execution_count": null,
      "metadata": {
        "colab": {
          "base_uri": "https://localhost:8080/"
        },
        "id": "aRlC-ywXcZv8",
        "outputId": "82068c30-91b5-4d5d-836e-caa3012ae92b"
      },
      "outputs": [
        {
          "data": {
            "text/plain": [
              "id                1439\n",
              "datetime       1290840\n",
              "has_studies          2\n",
              "gender               4\n",
              "country             21\n",
              "state              213\n",
              "age                 49\n",
              "cups              2001\n",
              "dtype: int64"
            ]
          },
          "execution_count": 10,
          "metadata": {},
          "output_type": "execute_result"
        }
      ],
      "source": [
        "#Ahora veamos los datos unicos delDF\n",
        "df.nunique()"
      ]
    },
    {
      "cell_type": "markdown",
      "metadata": {
        "id": "0pyQiY_uceEF"
      },
      "source": [
        "Con esto podemos observar que los tipos de datos que vamos a estar manejando con nuestro data frame es el siguiente:\n",
        "\n",
        "*   id -> object / categórico\n",
        "*   datetime -> object / categórico\n",
        "*   has_studies -> object / categórico \n",
        "*   gender -> object / categórico \n",
        "*   country -> object / categórico \n",
        "*   state -> object / categórico\n",
        "*   age -> float64 / numerico\n",
        "*   cups -> int64 / numerico\n",
        "\n",
        "Cuando sumamos los datos nulos del data frame nos encontramos con que algunas columnas con datos faltantes, por que es eso es algo en lo que se tendra que trabajar dado que son la mayoria de las columnas.\n",
        "\n",
        "Podemos notar tambien que cuando hicimos la funcion de unique para que nos traiga todos los registros unicos, nos damos cuenta que en el id, que tendría que ser un dato unico por cada jugador solo esta 1439 cuando el DF tiene un total de 44044492. Es un dato muy importante a tener en cuenta."
      ]
    },
    {
      "cell_type": "markdown",
      "metadata": {
        "id": "IMdPVBDjcgpg"
      },
      "source": [
        "***(4) ¿Es una serie temporal o no? ¿Cómo se da cuenta?***"
      ]
    },
    {
      "cell_type": "code",
      "execution_count": null,
      "metadata": {
        "colab": {
          "base_uri": "https://localhost:8080/"
        },
        "id": "f7V10P9nchRm",
        "outputId": "00f15f98-ef4a-4234-dbd1-663e1691a92f"
      },
      "outputs": [
        {
          "data": {
            "text/plain": [
              "id                     object\n",
              "datetime       datetime64[ns]\n",
              "has_studies            object\n",
              "gender                 object\n",
              "country                object\n",
              "state                  object\n",
              "age                   float64\n",
              "cups                    int64\n",
              "dtype: object"
            ]
          },
          "execution_count": 11,
          "metadata": {},
          "output_type": "execute_result"
        }
      ],
      "source": [
        "#Convertimos la columna \"datetime\" en un tipo de dato datetime ya que anteriormente notamos que un tipo objeto\n",
        "df['datetime'] = pd.to_datetime(df['datetime'])\n",
        "df.dtypes"
      ]
    },
    {
      "cell_type": "markdown",
      "metadata": {
        "id": "FHYy8GoGcpL9"
      },
      "source": [
        "No tiene una serie de tiempo dado que el campo de fecha del DF era de tipo Object por lo cual, para poder pasarlo a una serie de tiempo lo que se hizo fue pasar esa columna a datime con la funcion *'to.datetime'* de *pandas*"
      ]
    },
    {
      "cell_type": "markdown",
      "metadata": {
        "id": "hcrej-YDcp3U"
      },
      "source": [
        "# Sección 2: Análisis descriptivo"
      ]
    },
    {
      "cell_type": "markdown",
      "metadata": {
        "id": "YMje9OV1csLW"
      },
      "source": [
        "***(1) ¿Cuántos jugadores hay en el dataset?***"
      ]
    },
    {
      "cell_type": "code",
      "execution_count": null,
      "metadata": {
        "colab": {
          "base_uri": "https://localhost:8080/"
        },
        "id": "9S3gnqCZcuI1",
        "outputId": "c21ae456-42e3-45bb-a513-0014f905d3e9"
      },
      "outputs": [
        {
          "name": "stdout",
          "output_type": "stream",
          "text": [
            "Hay 1439 jugadores en el dataset\n"
          ]
        }
      ],
      "source": [
        "print(\"Hay {} jugadores en el dataset\".format(len(df.id.unique())))"
      ]
    },
    {
      "cell_type": "markdown",
      "metadata": {
        "id": "QQ9S7kSZdXSt"
      },
      "source": [
        "Cuando usamos la funcion unique() con la columna id de nuestro DF podemos ver que solo tenemos 1439 jugadores "
      ]
    },
    {
      "cell_type": "markdown",
      "metadata": {
        "id": "pPVDSaYNdZEU"
      },
      "source": [
        "***(2) Elegir un jugador cualquiera y hacerle un análisis descriptivo.***"
      ]
    },
    {
      "cell_type": "code",
      "execution_count": null,
      "metadata": {
        "colab": {
          "base_uri": "https://localhost:8080/",
          "height": 81
        },
        "id": "8gKVsaHydYNS",
        "outputId": "ded37895-0098-4ecd-91bd-43031d7fa00d"
      },
      "outputs": [
        {
          "data": {
            "text/html": [
              "<div>\n",
              "<style scoped>\n",
              "    .dataframe tbody tr th:only-of-type {\n",
              "        vertical-align: middle;\n",
              "    }\n",
              "\n",
              "    .dataframe tbody tr th {\n",
              "        vertical-align: top;\n",
              "    }\n",
              "\n",
              "    .dataframe thead th {\n",
              "        text-align: right;\n",
              "    }\n",
              "</style>\n",
              "<table border=\"1\" class=\"dataframe\">\n",
              "  <thead>\n",
              "    <tr style=\"text-align: right;\">\n",
              "      <th></th>\n",
              "      <th>id</th>\n",
              "      <th>datetime</th>\n",
              "      <th>has_studies</th>\n",
              "      <th>gender</th>\n",
              "      <th>country</th>\n",
              "      <th>state</th>\n",
              "      <th>age</th>\n",
              "      <th>cups</th>\n",
              "    </tr>\n",
              "  </thead>\n",
              "  <tbody>\n",
              "    <tr>\n",
              "      <th>2728446</th>\n",
              "      <td>c22e1a4acbd2d996ff19a852585f9434883c30124f6b11...</td>\n",
              "      <td>2022-01-21 19:36:39</td>\n",
              "      <td>f</td>\n",
              "      <td>Mujer</td>\n",
              "      <td>Argentina</td>\n",
              "      <td>santa fe</td>\n",
              "      <td>1,987.00</td>\n",
              "      <td>1164</td>\n",
              "    </tr>\n",
              "  </tbody>\n",
              "</table>\n",
              "</div>"
            ],
            "text/plain": [
              "                                                        id  \\\n",
              "2728446  c22e1a4acbd2d996ff19a852585f9434883c30124f6b11...   \n",
              "\n",
              "                   datetime has_studies gender    country     state      age  \\\n",
              "2728446 2022-01-21 19:36:39           f  Mujer  Argentina  santa fe 1,987.00   \n",
              "\n",
              "         cups  \n",
              "2728446  1164  "
            ]
          },
          "execution_count": 68,
          "metadata": {},
          "output_type": "execute_result"
        }
      ],
      "source": [
        "#Primero seleccionamos un jugador y vemos algunos de sus datos en nuestro DF\n",
        "player_x = df.sample(1)\n",
        "player_x"
      ]
    },
    {
      "cell_type": "code",
      "execution_count": null,
      "metadata": {
        "id": "wSFeZ9hbsnjc",
        "outputId": "63eb424c-4ce9-4eb0-afc4-4da026a70cec"
      },
      "outputs": [
        {
          "name": "stdout",
          "output_type": "stream",
          "text": [
            "Con estos datos podemos saber que el jugador seleccionado:\n",
            " * Terminó los estudios? f\n",
            " * Su genero es Mujer\n",
            " * Es de Argentina\n",
            " * Reside en santa fe\n",
            " * Su año de nacimiento es 1987.0\n",
            " * La cantidad de copas gandas fueron 1164\n"
          ]
        }
      ],
      "source": [
        "print('Con estos datos podemos saber que el jugador seleccionado:')\n",
        "print(' * Terminó los estudios?', player_x.iloc[0]['has_studies'])\n",
        "print(' * Su genero es', player_x.iloc[0]['gender'])\n",
        "print(' * Es de', player_x.iloc[0]['country'])\n",
        "print(' * Reside en', player_x.iloc[0]['state'])\n",
        "print(' * Su año de nacimiento es', player_x.iloc[0]['age'])\n",
        "print(' * La cantidad de copas gandas fueron', player_x.iloc[0]['cups'])"
      ]
    },
    {
      "cell_type": "code",
      "execution_count": null,
      "metadata": {
        "colab": {
          "base_uri": "https://localhost:8080/"
        },
        "id": "yqbFgdmEeC1O",
        "outputId": "cbe14f9d-be1c-4f66-85d8-e0f3e97f87dd"
      },
      "outputs": [
        {
          "name": "stdout",
          "output_type": "stream",
          "text": [
            "41cfc0d1f2d127b04555b7246d84019b4d27710a3f3aff6e7764375b1e06e05d\n"
          ]
        }
      ],
      "source": [
        "id_player_x = player_x.iloc[0]['id']\n",
        "print(id_player_x)"
      ]
    },
    {
      "cell_type": "code",
      "execution_count": null,
      "metadata": {
        "colab": {
          "base_uri": "https://localhost:8080/",
          "height": 424
        },
        "id": "0fRWbB7PeCuu",
        "outputId": "1b3fdb20-f5ed-4d92-916e-8e980d05de14"
      },
      "outputs": [
        {
          "data": {
            "text/html": [
              "<div>\n",
              "<style scoped>\n",
              "    .dataframe tbody tr th:only-of-type {\n",
              "        vertical-align: middle;\n",
              "    }\n",
              "\n",
              "    .dataframe tbody tr th {\n",
              "        vertical-align: top;\n",
              "    }\n",
              "\n",
              "    .dataframe thead th {\n",
              "        text-align: right;\n",
              "    }\n",
              "</style>\n",
              "<table border=\"1\" class=\"dataframe\">\n",
              "  <thead>\n",
              "    <tr style=\"text-align: right;\">\n",
              "      <th></th>\n",
              "      <th>id</th>\n",
              "      <th>datetime</th>\n",
              "      <th>cups</th>\n",
              "    </tr>\n",
              "  </thead>\n",
              "  <tbody>\n",
              "    <tr>\n",
              "      <th>447271</th>\n",
              "      <td>41cfc0d1f2d127b04555b7246d84019b4d27710a3f3aff...</td>\n",
              "      <td>2021-10-06 02:49:28</td>\n",
              "      <td>0</td>\n",
              "    </tr>\n",
              "    <tr>\n",
              "      <th>447285</th>\n",
              "      <td>41cfc0d1f2d127b04555b7246d84019b4d27710a3f3aff...</td>\n",
              "      <td>2021-10-06 02:50:03</td>\n",
              "      <td>1381</td>\n",
              "    </tr>\n",
              "    <tr>\n",
              "      <th>447384</th>\n",
              "      <td>41cfc0d1f2d127b04555b7246d84019b4d27710a3f3aff...</td>\n",
              "      <td>2021-10-06 03:00:08</td>\n",
              "      <td>1381</td>\n",
              "    </tr>\n",
              "    <tr>\n",
              "      <th>447499</th>\n",
              "      <td>41cfc0d1f2d127b04555b7246d84019b4d27710a3f3aff...</td>\n",
              "      <td>2021-10-06 03:15:09</td>\n",
              "      <td>1381</td>\n",
              "    </tr>\n",
              "    <tr>\n",
              "      <th>447610</th>\n",
              "      <td>41cfc0d1f2d127b04555b7246d84019b4d27710a3f3aff...</td>\n",
              "      <td>2021-10-06 03:30:09</td>\n",
              "      <td>1381</td>\n",
              "    </tr>\n",
              "    <tr>\n",
              "      <th>...</th>\n",
              "      <td>...</td>\n",
              "      <td>...</td>\n",
              "      <td>...</td>\n",
              "    </tr>\n",
              "    <tr>\n",
              "      <th>2263203</th>\n",
              "      <td>41cfc0d1f2d127b04555b7246d84019b4d27710a3f3aff...</td>\n",
              "      <td>2022-01-01 17:09:11</td>\n",
              "      <td>1587</td>\n",
              "    </tr>\n",
              "    <tr>\n",
              "      <th>2263552</th>\n",
              "      <td>41cfc0d1f2d127b04555b7246d84019b4d27710a3f3aff...</td>\n",
              "      <td>2022-01-01 17:37:36</td>\n",
              "      <td>1587</td>\n",
              "    </tr>\n",
              "    <tr>\n",
              "      <th>2264017</th>\n",
              "      <td>41cfc0d1f2d127b04555b7246d84019b4d27710a3f3aff...</td>\n",
              "      <td>2022-01-01 18:09:21</td>\n",
              "      <td>1587</td>\n",
              "    </tr>\n",
              "    <tr>\n",
              "      <th>2264742</th>\n",
              "      <td>41cfc0d1f2d127b04555b7246d84019b4d27710a3f3aff...</td>\n",
              "      <td>2022-01-01 18:45:24</td>\n",
              "      <td>1587</td>\n",
              "    </tr>\n",
              "    <tr>\n",
              "      <th>2265098</th>\n",
              "      <td>41cfc0d1f2d127b04555b7246d84019b4d27710a3f3aff...</td>\n",
              "      <td>2022-01-01 19:01:33</td>\n",
              "      <td>1587</td>\n",
              "    </tr>\n",
              "  </tbody>\n",
              "</table>\n",
              "<p>10826 rows × 3 columns</p>\n",
              "</div>"
            ],
            "text/plain": [
              "                                                        id  \\\n",
              "447271   41cfc0d1f2d127b04555b7246d84019b4d27710a3f3aff...   \n",
              "447285   41cfc0d1f2d127b04555b7246d84019b4d27710a3f3aff...   \n",
              "447384   41cfc0d1f2d127b04555b7246d84019b4d27710a3f3aff...   \n",
              "447499   41cfc0d1f2d127b04555b7246d84019b4d27710a3f3aff...   \n",
              "447610   41cfc0d1f2d127b04555b7246d84019b4d27710a3f3aff...   \n",
              "...                                                    ...   \n",
              "2263203  41cfc0d1f2d127b04555b7246d84019b4d27710a3f3aff...   \n",
              "2263552  41cfc0d1f2d127b04555b7246d84019b4d27710a3f3aff...   \n",
              "2264017  41cfc0d1f2d127b04555b7246d84019b4d27710a3f3aff...   \n",
              "2264742  41cfc0d1f2d127b04555b7246d84019b4d27710a3f3aff...   \n",
              "2265098  41cfc0d1f2d127b04555b7246d84019b4d27710a3f3aff...   \n",
              "\n",
              "                   datetime  cups  \n",
              "447271  2021-10-06 02:49:28     0  \n",
              "447285  2021-10-06 02:50:03  1381  \n",
              "447384  2021-10-06 03:00:08  1381  \n",
              "447499  2021-10-06 03:15:09  1381  \n",
              "447610  2021-10-06 03:30:09  1381  \n",
              "...                     ...   ...  \n",
              "2263203 2022-01-01 17:09:11  1587  \n",
              "2263552 2022-01-01 17:37:36  1587  \n",
              "2264017 2022-01-01 18:09:21  1587  \n",
              "2264742 2022-01-01 18:45:24  1587  \n",
              "2265098 2022-01-01 19:01:33  1587  \n",
              "\n",
              "[10826 rows x 3 columns]"
            ]
          },
          "execution_count": 15,
          "metadata": {},
          "output_type": "execute_result"
        }
      ],
      "source": [
        "df_player_x = df[df.id == id_player_x][['id','datetime','cups']].sort_values('datetime')\n",
        "df_player_x"
      ]
    },
    {
      "cell_type": "code",
      "execution_count": null,
      "metadata": {
        "colab": {
          "base_uri": "https://localhost:8080/"
        },
        "id": "RBsiXCXdeCmx",
        "outputId": "ac708994-cbdc-4667-b5da-3c07c12e8a86"
      },
      "outputs": [
        {
          "name": "stdout",
          "output_type": "stream",
          "text": [
            "El jugador 41cfc0d1f2d127b04555b7246d84019b4d27710a3f3aff6e7764375b1e06e05d tiene 10826 entradas en la base de datos\n"
          ]
        }
      ],
      "source": [
        "print(f'El jugador {id_player_x} tiene {len(df_player_x)} entradas en la base de datos')"
      ]
    },
    {
      "cell_type": "code",
      "execution_count": null,
      "metadata": {
        "colab": {
          "base_uri": "https://localhost:8080/"
        },
        "id": "HDKsHDiQeWK5",
        "outputId": "862fd141-9bc5-4baf-cf67-041b83ce8797"
      },
      "outputs": [
        {
          "data": {
            "text/plain": [
              "0          1\n",
              "1157    1331\n",
              "1174    3202\n",
              "1328       3\n",
              "1343       2\n",
              "1359       3\n",
              "1360      79\n",
              "1362       3\n",
              "1381    5361\n",
              "1398       2\n",
              "1399       2\n",
              "1413       5\n",
              "1418      87\n",
              "1428       3\n",
              "1431      48\n",
              "1432      86\n",
              "1434       3\n",
              "1441      82\n",
              "1442       2\n",
              "1456       3\n",
              "1457       3\n",
              "1458       3\n",
              "1462      27\n",
              "1464       6\n",
              "1472       3\n",
              "1473      38\n",
              "1475       2\n",
              "1481       7\n",
              "1488     155\n",
              "1496      16\n",
              "1498       3\n",
              "1505       2\n",
              "1513       3\n",
              "1517      80\n",
              "1521       3\n",
              "1527       3\n",
              "1529      19\n",
              "1532      35\n",
              "1547       2\n",
              "1552       6\n",
              "1579       2\n",
              "1587      87\n",
              "1591       3\n",
              "1609       7\n",
              "1617       3\n",
              "Name: cups, dtype: int64"
            ]
          },
          "execution_count": 17,
          "metadata": {},
          "output_type": "execute_result"
        }
      ],
      "source": [
        "df_player_x.cups.value_counts(dropna = False).sort_index()"
      ]
    },
    {
      "cell_type": "markdown",
      "metadata": {
        "id": "dFSXe0EXd5hf"
      },
      "source": [
        "***(3) Realizar un análisis descriptivo global (teniendo en cuenta a todos los jugadores).***"
      ]
    },
    {
      "cell_type": "code",
      "execution_count": null,
      "metadata": {
        "colab": {
          "base_uri": "https://localhost:8080/",
          "height": 300
        },
        "id": "eJoB869id6Bt",
        "outputId": "c3975200-9a94-4000-a349-73d27f22eb34"
      },
      "outputs": [
        {
          "data": {
            "text/html": [
              "<div>\n",
              "<style scoped>\n",
              "    .dataframe tbody tr th:only-of-type {\n",
              "        vertical-align: middle;\n",
              "    }\n",
              "\n",
              "    .dataframe tbody tr th {\n",
              "        vertical-align: top;\n",
              "    }\n",
              "\n",
              "    .dataframe thead th {\n",
              "        text-align: right;\n",
              "    }\n",
              "</style>\n",
              "<table border=\"1\" class=\"dataframe\">\n",
              "  <thead>\n",
              "    <tr style=\"text-align: right;\">\n",
              "      <th></th>\n",
              "      <th>age</th>\n",
              "      <th>cups</th>\n",
              "    </tr>\n",
              "  </thead>\n",
              "  <tbody>\n",
              "    <tr>\n",
              "      <th>count</th>\n",
              "      <td>4,365,415.00</td>\n",
              "      <td>4,404,492.00</td>\n",
              "    </tr>\n",
              "    <tr>\n",
              "      <th>mean</th>\n",
              "      <td>1,983.50</td>\n",
              "      <td>1,161.30</td>\n",
              "    </tr>\n",
              "    <tr>\n",
              "      <th>std</th>\n",
              "      <td>162.20</td>\n",
              "      <td>432.10</td>\n",
              "    </tr>\n",
              "    <tr>\n",
              "      <th>min</th>\n",
              "      <td>3.00</td>\n",
              "      <td>-4.00</td>\n",
              "    </tr>\n",
              "    <tr>\n",
              "      <th>25%</th>\n",
              "      <td>1,995.00</td>\n",
              "      <td>1,100.00</td>\n",
              "    </tr>\n",
              "    <tr>\n",
              "      <th>50%</th>\n",
              "      <td>1,998.00</td>\n",
              "      <td>1,235.00</td>\n",
              "    </tr>\n",
              "    <tr>\n",
              "      <th>75%</th>\n",
              "      <td>2,000.00</td>\n",
              "      <td>1,390.00</td>\n",
              "    </tr>\n",
              "    <tr>\n",
              "      <th>max</th>\n",
              "      <td>2,022.00</td>\n",
              "      <td>2,866.00</td>\n",
              "    </tr>\n",
              "  </tbody>\n",
              "</table>\n",
              "</div>"
            ],
            "text/plain": [
              "               age         cups\n",
              "count 4,365,415.00 4,404,492.00\n",
              "mean      1,983.50     1,161.30\n",
              "std         162.20       432.10\n",
              "min           3.00        -4.00\n",
              "25%       1,995.00     1,100.00\n",
              "50%       1,998.00     1,235.00\n",
              "75%       2,000.00     1,390.00\n",
              "max       2,022.00     2,866.00"
            ]
          },
          "execution_count": 18,
          "metadata": {},
          "output_type": "execute_result"
        }
      ],
      "source": [
        "#Hacemos una descripcion rapida\n",
        "df.describe().round(1)"
      ]
    },
    {
      "cell_type": "code",
      "execution_count": null,
      "metadata": {
        "colab": {
          "base_uri": "https://localhost:8080/",
          "height": 708
        },
        "id": "Kb2IMvM0ehB2",
        "outputId": "690a7ad4-9587-4dd9-dc6c-9f9af8ef1684"
      },
      "outputs": [
        {
          "data": {
            "text/html": [
              "<div>\n",
              "<style scoped>\n",
              "    .dataframe tbody tr th:only-of-type {\n",
              "        vertical-align: middle;\n",
              "    }\n",
              "\n",
              "    .dataframe tbody tr th {\n",
              "        vertical-align: top;\n",
              "    }\n",
              "\n",
              "    .dataframe thead th {\n",
              "        text-align: right;\n",
              "    }\n",
              "</style>\n",
              "<table border=\"1\" class=\"dataframe\">\n",
              "  <thead>\n",
              "    <tr style=\"text-align: right;\">\n",
              "      <th></th>\n",
              "      <th>Country</th>\n",
              "      <th>frequency</th>\n",
              "    </tr>\n",
              "  </thead>\n",
              "  <tbody>\n",
              "    <tr>\n",
              "      <th>0</th>\n",
              "      <td>Argentina</td>\n",
              "      <td>0.68</td>\n",
              "    </tr>\n",
              "    <tr>\n",
              "      <th>1</th>\n",
              "      <td>Venezuela</td>\n",
              "      <td>0.30</td>\n",
              "    </tr>\n",
              "    <tr>\n",
              "      <th>2</th>\n",
              "      <td>Philippines</td>\n",
              "      <td>0.01</td>\n",
              "    </tr>\n",
              "    <tr>\n",
              "      <th>3</th>\n",
              "      <td>Perú</td>\n",
              "      <td>0.00</td>\n",
              "    </tr>\n",
              "    <tr>\n",
              "      <th>4</th>\n",
              "      <td>Ecuador</td>\n",
              "      <td>0.00</td>\n",
              "    </tr>\n",
              "    <tr>\n",
              "      <th>5</th>\n",
              "      <td>venezuela</td>\n",
              "      <td>0.00</td>\n",
              "    </tr>\n",
              "    <tr>\n",
              "      <th>6</th>\n",
              "      <td>argentina</td>\n",
              "      <td>0.00</td>\n",
              "    </tr>\n",
              "    <tr>\n",
              "      <th>7</th>\n",
              "      <td>España</td>\n",
              "      <td>0.00</td>\n",
              "    </tr>\n",
              "    <tr>\n",
              "      <th>8</th>\n",
              "      <td>Colombia</td>\n",
              "      <td>0.00</td>\n",
              "    </tr>\n",
              "    <tr>\n",
              "      <th>9</th>\n",
              "      <td>Costa Rica</td>\n",
              "      <td>0.00</td>\n",
              "    </tr>\n",
              "    <tr>\n",
              "      <th>10</th>\n",
              "      <td>Uruguay</td>\n",
              "      <td>0.00</td>\n",
              "    </tr>\n",
              "    <tr>\n",
              "      <th>11</th>\n",
              "      <td>México</td>\n",
              "      <td>0.00</td>\n",
              "    </tr>\n",
              "    <tr>\n",
              "      <th>12</th>\n",
              "      <td>Bolivia</td>\n",
              "      <td>0.00</td>\n",
              "    </tr>\n",
              "    <tr>\n",
              "      <th>13</th>\n",
              "      <td>Venezuela - Maracaibo</td>\n",
              "      <td>0.00</td>\n",
              "    </tr>\n",
              "    <tr>\n",
              "      <th>14</th>\n",
              "      <td>Cuba</td>\n",
              "      <td>0.00</td>\n",
              "    </tr>\n",
              "    <tr>\n",
              "      <th>15</th>\n",
              "      <td>Chile</td>\n",
              "      <td>0.00</td>\n",
              "    </tr>\n",
              "    <tr>\n",
              "      <th>16</th>\n",
              "      <td>Venenezuela</td>\n",
              "      <td>0.00</td>\n",
              "    </tr>\n",
              "    <tr>\n",
              "      <th>17</th>\n",
              "      <td>Argentino</td>\n",
              "      <td>0.00</td>\n",
              "    </tr>\n",
              "    <tr>\n",
              "      <th>18</th>\n",
              "      <td>colombia</td>\n",
              "      <td>0.00</td>\n",
              "    </tr>\n",
              "    <tr>\n",
              "      <th>19</th>\n",
              "      <td>ARGENTINA</td>\n",
              "      <td>0.00</td>\n",
              "    </tr>\n",
              "    <tr>\n",
              "      <th>20</th>\n",
              "      <td>De Venezuela</td>\n",
              "      <td>0.00</td>\n",
              "    </tr>\n",
              "  </tbody>\n",
              "</table>\n",
              "</div>"
            ],
            "text/plain": [
              "                  Country  frequency\n",
              "0               Argentina       0.68\n",
              "1               Venezuela       0.30\n",
              "2             Philippines       0.01\n",
              "3                    Perú       0.00\n",
              "4                 Ecuador       0.00\n",
              "5               venezuela       0.00\n",
              "6               argentina       0.00\n",
              "7                  España       0.00\n",
              "8                Colombia       0.00\n",
              "9              Costa Rica       0.00\n",
              "10                Uruguay       0.00\n",
              "11                 México       0.00\n",
              "12                Bolivia       0.00\n",
              "13  Venezuela - Maracaibo       0.00\n",
              "14                   Cuba       0.00\n",
              "15                  Chile       0.00\n",
              "16            Venenezuela       0.00\n",
              "17              Argentino       0.00\n",
              "18               colombia       0.00\n",
              "19              ARGENTINA       0.00\n",
              "20           De Venezuela       0.00"
            ]
          },
          "execution_count": 19,
          "metadata": {},
          "output_type": "execute_result"
        }
      ],
      "source": [
        "#Contamos los diferentes paises que salen en el DF\n",
        "country_count = df.country.value_counts(normalize = True).reset_index().rename(columns={'index': 'Country', 'country': 'frequency'})\n",
        "country_count"
      ]
    },
    {
      "cell_type": "code",
      "execution_count": null,
      "metadata": {
        "colab": {
          "base_uri": "https://localhost:8080/",
          "height": 424
        },
        "id": "F05AFEhGeklm",
        "outputId": "2fc4a3ad-418a-4549-8ddf-654fd58edfaa"
      },
      "outputs": [
        {
          "data": {
            "text/html": [
              "<div>\n",
              "<style scoped>\n",
              "    .dataframe tbody tr th:only-of-type {\n",
              "        vertical-align: middle;\n",
              "    }\n",
              "\n",
              "    .dataframe tbody tr th {\n",
              "        vertical-align: top;\n",
              "    }\n",
              "\n",
              "    .dataframe thead th {\n",
              "        text-align: right;\n",
              "    }\n",
              "</style>\n",
              "<table border=\"1\" class=\"dataframe\">\n",
              "  <thead>\n",
              "    <tr style=\"text-align: right;\">\n",
              "      <th></th>\n",
              "      <th>State</th>\n",
              "      <th>frequency</th>\n",
              "    </tr>\n",
              "  </thead>\n",
              "  <tbody>\n",
              "    <tr>\n",
              "      <th>0</th>\n",
              "      <td>Buenos Aires</td>\n",
              "      <td>0.21</td>\n",
              "    </tr>\n",
              "    <tr>\n",
              "      <th>1</th>\n",
              "      <td>Santa Fe</td>\n",
              "      <td>0.09</td>\n",
              "    </tr>\n",
              "    <tr>\n",
              "      <th>2</th>\n",
              "      <td>Buenos aires</td>\n",
              "      <td>0.08</td>\n",
              "    </tr>\n",
              "    <tr>\n",
              "      <th>3</th>\n",
              "      <td>Zulia</td>\n",
              "      <td>0.05</td>\n",
              "    </tr>\n",
              "    <tr>\n",
              "      <th>4</th>\n",
              "      <td>Santa fe</td>\n",
              "      <td>0.04</td>\n",
              "    </tr>\n",
              "    <tr>\n",
              "      <th>...</th>\n",
              "      <td>...</td>\n",
              "      <td>...</td>\n",
              "    </tr>\n",
              "    <tr>\n",
              "      <th>208</th>\n",
              "      <td>La Habana</td>\n",
              "      <td>0.00</td>\n",
              "    </tr>\n",
              "    <tr>\n",
              "      <th>209</th>\n",
              "      <td>Atlántico</td>\n",
              "      <td>0.00</td>\n",
              "    </tr>\n",
              "    <tr>\n",
              "      <th>210</th>\n",
              "      <td>Estado Aragua</td>\n",
              "      <td>0.00</td>\n",
              "    </tr>\n",
              "    <tr>\n",
              "      <th>211</th>\n",
              "      <td>falcon</td>\n",
              "      <td>0.00</td>\n",
              "    </tr>\n",
              "    <tr>\n",
              "      <th>212</th>\n",
              "      <td>Carabobo valencia</td>\n",
              "      <td>0.00</td>\n",
              "    </tr>\n",
              "  </tbody>\n",
              "</table>\n",
              "<p>213 rows × 2 columns</p>\n",
              "</div>"
            ],
            "text/plain": [
              "                 State  frequency\n",
              "0         Buenos Aires       0.21\n",
              "1             Santa Fe       0.09\n",
              "2         Buenos aires       0.08\n",
              "3                Zulia       0.05\n",
              "4             Santa fe       0.04\n",
              "..                 ...        ...\n",
              "208          La Habana       0.00\n",
              "209          Atlántico       0.00\n",
              "210      Estado Aragua       0.00\n",
              "211             falcon       0.00\n",
              "212  Carabobo valencia       0.00\n",
              "\n",
              "[213 rows x 2 columns]"
            ]
          },
          "execution_count": 20,
          "metadata": {},
          "output_type": "execute_result"
        }
      ],
      "source": [
        "#Contamos los diferentes provincias que salen en el DF\n",
        "state_count = df.state.value_counts(normalize=True).reset_index().rename(columns={'index': 'State', 'state': 'frequency'})\n",
        "state_count"
      ]
    },
    {
      "cell_type": "code",
      "execution_count": null,
      "metadata": {
        "colab": {
          "base_uri": "https://localhost:8080/",
          "height": 175
        },
        "id": "gXL52Lx8enj2",
        "outputId": "5952d7d3-8412-406d-be41-ec0ef8efe88c"
      },
      "outputs": [
        {
          "data": {
            "text/html": [
              "<div>\n",
              "<style scoped>\n",
              "    .dataframe tbody tr th:only-of-type {\n",
              "        vertical-align: middle;\n",
              "    }\n",
              "\n",
              "    .dataframe tbody tr th {\n",
              "        vertical-align: top;\n",
              "    }\n",
              "\n",
              "    .dataframe thead th {\n",
              "        text-align: right;\n",
              "    }\n",
              "</style>\n",
              "<table border=\"1\" class=\"dataframe\">\n",
              "  <thead>\n",
              "    <tr style=\"text-align: right;\">\n",
              "      <th></th>\n",
              "      <th>Gender</th>\n",
              "      <th>frequency</th>\n",
              "    </tr>\n",
              "  </thead>\n",
              "  <tbody>\n",
              "    <tr>\n",
              "      <th>0</th>\n",
              "      <td>Hombre</td>\n",
              "      <td>0.92</td>\n",
              "    </tr>\n",
              "    <tr>\n",
              "      <th>1</th>\n",
              "      <td>Mujer</td>\n",
              "      <td>0.07</td>\n",
              "    </tr>\n",
              "    <tr>\n",
              "      <th>2</th>\n",
              "      <td>Prefiero no decir</td>\n",
              "      <td>0.00</td>\n",
              "    </tr>\n",
              "    <tr>\n",
              "      <th>3</th>\n",
              "      <td>Otro</td>\n",
              "      <td>0.00</td>\n",
              "    </tr>\n",
              "  </tbody>\n",
              "</table>\n",
              "</div>"
            ],
            "text/plain": [
              "              Gender  frequency\n",
              "0             Hombre       0.92\n",
              "1              Mujer       0.07\n",
              "2  Prefiero no decir       0.00\n",
              "3               Otro       0.00"
            ]
          },
          "execution_count": 21,
          "metadata": {},
          "output_type": "execute_result"
        }
      ],
      "source": [
        "#Contamos los diferentes generos que salen en el DF\n",
        "gender_count = df.gender.value_counts(normalize= True).reset_index().rename(columns={'index': 'Gender', 'gender': 'frequency'})\n",
        "gender_count"
      ]
    },
    {
      "cell_type": "code",
      "execution_count": null,
      "metadata": {
        "colab": {
          "base_uri": "https://localhost:8080/",
          "height": 112
        },
        "id": "HdkrRRe8eqOK",
        "outputId": "3a21ad27-f756-406e-b0dc-fa2ec0137a46"
      },
      "outputs": [
        {
          "data": {
            "text/html": [
              "<div>\n",
              "<style scoped>\n",
              "    .dataframe tbody tr th:only-of-type {\n",
              "        vertical-align: middle;\n",
              "    }\n",
              "\n",
              "    .dataframe tbody tr th {\n",
              "        vertical-align: top;\n",
              "    }\n",
              "\n",
              "    .dataframe thead th {\n",
              "        text-align: right;\n",
              "    }\n",
              "</style>\n",
              "<table border=\"1\" class=\"dataframe\">\n",
              "  <thead>\n",
              "    <tr style=\"text-align: right;\">\n",
              "      <th></th>\n",
              "      <th>has_studies</th>\n",
              "      <th>frequency</th>\n",
              "    </tr>\n",
              "  </thead>\n",
              "  <tbody>\n",
              "    <tr>\n",
              "      <th>0</th>\n",
              "      <td>t</td>\n",
              "      <td>0.67</td>\n",
              "    </tr>\n",
              "    <tr>\n",
              "      <th>1</th>\n",
              "      <td>f</td>\n",
              "      <td>0.33</td>\n",
              "    </tr>\n",
              "  </tbody>\n",
              "</table>\n",
              "</div>"
            ],
            "text/plain": [
              "  has_studies  frequency\n",
              "0           t       0.67\n",
              "1           f       0.33"
            ]
          },
          "execution_count": 22,
          "metadata": {},
          "output_type": "execute_result"
        }
      ],
      "source": [
        "#Contamos los estudios finalizados o no que salen en el DF\n",
        "has_studies_count = df.has_studies.value_counts(normalize=True).reset_index().rename(columns={'index': 'has_studies', 'has_studies': 'frequency'})\n",
        "has_studies_count"
      ]
    },
    {
      "cell_type": "markdown",
      "metadata": {
        "id": "I4Mnad2jetLL"
      },
      "source": [
        "Al realizar este analisis rapido de todo el DF podemos decir que:\n",
        "\n",
        "\n",
        "*   Argentina\ttiene una frecuencia de 0.678579\n",
        "*   Buenos Aires es la provincia que más jugadores tiene\n",
        "*   El genero mas frecuente entre los jugadores es masculino\n",
        "*   Tenemos mas jugadores que terminaron sus estudios\n",
        "*   El 50%  nacio en 1998\n",
        "*   El maximo de copas ganadas por un jugador es de 2866\n"
      ]
    },
    {
      "cell_type": "code",
      "execution_count": null,
      "metadata": {
        "colab": {
          "base_uri": "https://localhost:8080/"
        },
        "id": "FoyiZkVyet00",
        "outputId": "99c84917-fcc4-4f95-a484-35fd27284478"
      },
      "outputs": [
        {
          "data": {
            "text/plain": [
              "0          5316ca1c5ddca8e6ceccfce58f3b8540e540ee22f6180f...\n",
              "1          bbb965ab0c80d6538cf2184babad2a564a010376712012...\n",
              "2          b4944c6ff08dc6f43da2e9c824669b7d927dd1fa976fad...\n",
              "3          434c9b5ae514646bbd91b50032ca579efec8f22bf0b4aa...\n",
              "4          cd70bea023f752a0564abb6ed08d42c1440f2e33e29914...\n",
              "                                 ...                        \n",
              "4404487    6a97982dccf77dd3dafa27fcbdf75c017301f730ba186b...\n",
              "4404488    535fa30d7e25dd8a49f1536779734ec8286108d115da50...\n",
              "4404489    712dca40936b39ce670dc803736fe3735cf99311030a92...\n",
              "4404490    68722dedde84631c45b4aade9365a91aa6fd11c5766e66...\n",
              "4404491    40367c3cc999a9f9e951a1d33211545b84b2d5a63933b0...\n",
              "Name: id, Length: 4404492, dtype: object"
            ]
          },
          "execution_count": 23,
          "metadata": {},
          "output_type": "execute_result"
        }
      ],
      "source": [
        "df.id"
      ]
    },
    {
      "cell_type": "code",
      "execution_count": null,
      "metadata": {
        "colab": {
          "base_uri": "https://localhost:8080/",
          "height": 36
        },
        "id": "6QirvmCufAcY",
        "outputId": "bb9aecf3-ff62-4988-ebd5-7814382747da"
      },
      "outputs": [
        {
          "data": {
            "text/plain": [
              "'bbb965ab0c80d6538cf2184babad2a564a010376712012bd07b0af92dcd3097d'"
            ]
          },
          "execution_count": 24,
          "metadata": {},
          "output_type": "execute_result"
        }
      ],
      "source": [
        "df.id[1]"
      ]
    },
    {
      "cell_type": "code",
      "execution_count": null,
      "metadata": {
        "colab": {
          "base_uri": "https://localhost:8080/"
        },
        "id": "6C9UYCP9fC1a",
        "outputId": "669906ec-5cbe-4a55-dd8f-e27a6c268935"
      },
      "outputs": [
        {
          "data": {
            "text/plain": [
              "1439"
            ]
          },
          "execution_count": 25,
          "metadata": {},
          "output_type": "execute_result"
        }
      ],
      "source": [
        "df.id.nunique()"
      ]
    },
    {
      "cell_type": "markdown",
      "metadata": {
        "id": "Vd96skMlfFjb"
      },
      "source": [
        "Si bien el dataset tiene 4,4 millones de observciones pareciera que tenemos datos de 1439 jugadores diferentes"
      ]
    },
    {
      "cell_type": "code",
      "execution_count": null,
      "metadata": {
        "colab": {
          "base_uri": "https://localhost:8080/"
        },
        "id": "sDNfxZi8fGPL",
        "outputId": "57fa32c3-444d-46f1-85bb-a4209ea8ae2b"
      },
      "outputs": [
        {
          "data": {
            "text/plain": [
              "2fca346db656187102ce806ac732e06a62df0dbb2829e511a770556d398e1a6e    15746\n",
              "a21855da08cb102d1d217c53dc5824a3a795c1c1a44e971bf01ab9da3a2acbbf    15673\n",
              "a46e37632fa6ca51a13fe39a567b3c23b28c2f47d8af6be9bd63e030e214ba38    15505\n",
              "482d9673cfee5de391f97fde4d1c84f9f8d6f2cf0784fcffb958b4032de7236c    15486\n",
              "a68b412c4282555f15546cf6e1fc42893b7e07f271557ceb021821098dd66c1b    15287\n",
              "                                                                    ...  \n",
              "8c454536b6e2b8b29a1d839aa3c5ccf0ab57a590d619739b23a32d11585220c9        3\n",
              "9c19f29d0e6fefa21eec58f6ff4d0cf807b63d0ed146f1fea0874506b66c35ee        2\n",
              "51e1424eeb514560081905811593feb19b6594c1e79146eae6fff3bed87a3e5a        1\n",
              "1625f9db144171f78dc64afa00f5f5065f176d05eb8f9dcb11f6c8cd3624aaa6        1\n",
              "7f861bcee185de001377d79e08af62e94b1e7718e2470e08520c917f8d953602        1\n",
              "Name: id, Length: 1439, dtype: int64"
            ]
          },
          "execution_count": 26,
          "metadata": {},
          "output_type": "execute_result"
        }
      ],
      "source": [
        "df.id.value_counts()"
      ]
    },
    {
      "cell_type": "markdown",
      "metadata": {
        "id": "JG3g7nkIfMak"
      },
      "source": [
        "Hay jugadores (id's) que aparecen unas pocas veces y otros que aparecen mas de 15 mil veces"
      ]
    },
    {
      "cell_type": "code",
      "execution_count": null,
      "metadata": {
        "colab": {
          "base_uri": "https://localhost:8080/"
        },
        "id": "haExpBZJfMup",
        "outputId": "cb851f80-b907-459c-cc6e-2be2a6aa82ec"
      },
      "outputs": [
        {
          "data": {
            "text/plain": [
              "0         2021-11-08 14:05:15\n",
              "1         2021-11-08 14:05:16\n",
              "2         2021-11-08 14:05:16\n",
              "3         2021-11-08 14:05:16\n",
              "4         2021-11-08 14:05:16\n",
              "                  ...        \n",
              "4404487   2022-04-18 13:14:50\n",
              "4404488   2022-04-18 13:14:52\n",
              "4404489   2022-04-18 13:15:10\n",
              "4404490   2022-04-18 13:15:14\n",
              "4404491   2022-04-18 13:15:22\n",
              "Name: datetime, Length: 4404492, dtype: datetime64[ns]"
            ]
          },
          "execution_count": 27,
          "metadata": {},
          "output_type": "execute_result"
        }
      ],
      "source": [
        "df.datetime"
      ]
    },
    {
      "cell_type": "code",
      "execution_count": null,
      "metadata": {
        "colab": {
          "base_uri": "https://localhost:8080/"
        },
        "id": "MsjB5otAfVi5",
        "outputId": "b780c712-54af-48b9-d5a9-638715aa09d7"
      },
      "outputs": [
        {
          "name": "stdout",
          "output_type": "stream",
          "text": [
            "<class 'pandas._libs.tslibs.timestamps.Timestamp'>\n",
            "<class 'pandas._libs.tslibs.timestamps.Timestamp'>\n",
            "<class 'pandas._libs.tslibs.timestamps.Timestamp'>\n",
            "<class 'pandas._libs.tslibs.timestamps.Timestamp'>\n",
            "<class 'pandas._libs.tslibs.timestamps.Timestamp'>\n",
            "<class 'pandas._libs.tslibs.timestamps.Timestamp'>\n",
            "<class 'pandas._libs.tslibs.timestamps.Timestamp'>\n",
            "<class 'pandas._libs.tslibs.timestamps.Timestamp'>\n",
            "<class 'pandas._libs.tslibs.timestamps.Timestamp'>\n",
            "<class 'pandas._libs.tslibs.timestamps.Timestamp'>\n",
            "<class 'pandas._libs.tslibs.timestamps.Timestamp'>\n",
            "<class 'pandas._libs.tslibs.timestamps.Timestamp'>\n",
            "<class 'pandas._libs.tslibs.timestamps.Timestamp'>\n",
            "<class 'pandas._libs.tslibs.timestamps.Timestamp'>\n",
            "<class 'pandas._libs.tslibs.timestamps.Timestamp'>\n",
            "<class 'pandas._libs.tslibs.timestamps.Timestamp'>\n",
            "<class 'pandas._libs.tslibs.timestamps.Timestamp'>\n",
            "<class 'pandas._libs.tslibs.timestamps.Timestamp'>\n",
            "<class 'pandas._libs.tslibs.timestamps.Timestamp'>\n",
            "<class 'pandas._libs.tslibs.timestamps.Timestamp'>\n"
          ]
        }
      ],
      "source": [
        "df_20 = df[:20]\n",
        "for i in df_20.datetime:\n",
        "  print(type(i))"
      ]
    },
    {
      "cell_type": "code",
      "execution_count": null,
      "metadata": {
        "colab": {
          "base_uri": "https://localhost:8080/",
          "height": 424
        },
        "id": "zq5Qpow7fXCH",
        "outputId": "9f68232f-0b4f-4edd-8373-89715493982f"
      },
      "outputs": [
        {
          "data": {
            "text/html": [
              "<div>\n",
              "<style scoped>\n",
              "    .dataframe tbody tr th:only-of-type {\n",
              "        vertical-align: middle;\n",
              "    }\n",
              "\n",
              "    .dataframe tbody tr th {\n",
              "        vertical-align: top;\n",
              "    }\n",
              "\n",
              "    .dataframe thead th {\n",
              "        text-align: right;\n",
              "    }\n",
              "</style>\n",
              "<table border=\"1\" class=\"dataframe\">\n",
              "  <thead>\n",
              "    <tr style=\"text-align: right;\">\n",
              "      <th></th>\n",
              "      <th>id</th>\n",
              "      <th>datetime</th>\n",
              "      <th>has_studies</th>\n",
              "      <th>gender</th>\n",
              "      <th>country</th>\n",
              "      <th>state</th>\n",
              "      <th>age</th>\n",
              "      <th>cups</th>\n",
              "    </tr>\n",
              "  </thead>\n",
              "  <tbody>\n",
              "    <tr>\n",
              "      <th>4404056</th>\n",
              "      <td>bbb965ab0c80d6538cf2184babad2a564a010376712012...</td>\n",
              "      <td>2022-04-18 13:12:48</td>\n",
              "      <td>t</td>\n",
              "      <td>Hombre</td>\n",
              "      <td>Argentina</td>\n",
              "      <td>Santa fe</td>\n",
              "      <td>1,999.00</td>\n",
              "      <td>1498</td>\n",
              "    </tr>\n",
              "    <tr>\n",
              "      <th>4403972</th>\n",
              "      <td>bbb965ab0c80d6538cf2184babad2a564a010376712012...</td>\n",
              "      <td>2022-04-18 12:30:31</td>\n",
              "      <td>t</td>\n",
              "      <td>Hombre</td>\n",
              "      <td>Argentina</td>\n",
              "      <td>Santa fe</td>\n",
              "      <td>1,999.00</td>\n",
              "      <td>1498</td>\n",
              "    </tr>\n",
              "    <tr>\n",
              "      <th>4403515</th>\n",
              "      <td>bbb965ab0c80d6538cf2184babad2a564a010376712012...</td>\n",
              "      <td>2022-04-18 12:14:35</td>\n",
              "      <td>t</td>\n",
              "      <td>Hombre</td>\n",
              "      <td>Argentina</td>\n",
              "      <td>Santa fe</td>\n",
              "      <td>1,999.00</td>\n",
              "      <td>1498</td>\n",
              "    </tr>\n",
              "    <tr>\n",
              "      <th>4403041</th>\n",
              "      <td>bbb965ab0c80d6538cf2184babad2a564a010376712012...</td>\n",
              "      <td>2022-04-18 11:31:41</td>\n",
              "      <td>t</td>\n",
              "      <td>Hombre</td>\n",
              "      <td>Argentina</td>\n",
              "      <td>Santa fe</td>\n",
              "      <td>1,999.00</td>\n",
              "      <td>1498</td>\n",
              "    </tr>\n",
              "    <tr>\n",
              "      <th>4402913</th>\n",
              "      <td>bbb965ab0c80d6538cf2184babad2a564a010376712012...</td>\n",
              "      <td>2022-04-18 11:11:27</td>\n",
              "      <td>t</td>\n",
              "      <td>Hombre</td>\n",
              "      <td>Argentina</td>\n",
              "      <td>Santa fe</td>\n",
              "      <td>1,999.00</td>\n",
              "      <td>1498</td>\n",
              "    </tr>\n",
              "    <tr>\n",
              "      <th>...</th>\n",
              "      <td>...</td>\n",
              "      <td>...</td>\n",
              "      <td>...</td>\n",
              "      <td>...</td>\n",
              "      <td>...</td>\n",
              "      <td>...</td>\n",
              "      <td>...</td>\n",
              "      <td>...</td>\n",
              "    </tr>\n",
              "    <tr>\n",
              "      <th>447752</th>\n",
              "      <td>bbb965ab0c80d6538cf2184babad2a564a010376712012...</td>\n",
              "      <td>2021-10-06 03:45:12</td>\n",
              "      <td>t</td>\n",
              "      <td>Hombre</td>\n",
              "      <td>Argentina</td>\n",
              "      <td>Santa fe</td>\n",
              "      <td>1,999.00</td>\n",
              "      <td>1212</td>\n",
              "    </tr>\n",
              "    <tr>\n",
              "      <th>447652</th>\n",
              "      <td>bbb965ab0c80d6538cf2184babad2a564a010376712012...</td>\n",
              "      <td>2021-10-06 03:30:12</td>\n",
              "      <td>t</td>\n",
              "      <td>Hombre</td>\n",
              "      <td>Argentina</td>\n",
              "      <td>Santa fe</td>\n",
              "      <td>1,999.00</td>\n",
              "      <td>1212</td>\n",
              "    </tr>\n",
              "    <tr>\n",
              "      <th>447512</th>\n",
              "      <td>bbb965ab0c80d6538cf2184babad2a564a010376712012...</td>\n",
              "      <td>2021-10-06 03:15:11</td>\n",
              "      <td>t</td>\n",
              "      <td>Hombre</td>\n",
              "      <td>Argentina</td>\n",
              "      <td>Santa fe</td>\n",
              "      <td>1,999.00</td>\n",
              "      <td>1212</td>\n",
              "    </tr>\n",
              "    <tr>\n",
              "      <th>447418</th>\n",
              "      <td>bbb965ab0c80d6538cf2184babad2a564a010376712012...</td>\n",
              "      <td>2021-10-06 03:05:02</td>\n",
              "      <td>t</td>\n",
              "      <td>Hombre</td>\n",
              "      <td>Argentina</td>\n",
              "      <td>Santa fe</td>\n",
              "      <td>1,999.00</td>\n",
              "      <td>1212</td>\n",
              "    </tr>\n",
              "    <tr>\n",
              "      <th>447398</th>\n",
              "      <td>bbb965ab0c80d6538cf2184babad2a564a010376712012...</td>\n",
              "      <td>2021-10-06 03:02:50</td>\n",
              "      <td>t</td>\n",
              "      <td>Hombre</td>\n",
              "      <td>Argentina</td>\n",
              "      <td>Santa fe</td>\n",
              "      <td>1,999.00</td>\n",
              "      <td>0</td>\n",
              "    </tr>\n",
              "  </tbody>\n",
              "</table>\n",
              "<p>13427 rows × 8 columns</p>\n",
              "</div>"
            ],
            "text/plain": [
              "                                                        id  \\\n",
              "4404056  bbb965ab0c80d6538cf2184babad2a564a010376712012...   \n",
              "4403972  bbb965ab0c80d6538cf2184babad2a564a010376712012...   \n",
              "4403515  bbb965ab0c80d6538cf2184babad2a564a010376712012...   \n",
              "4403041  bbb965ab0c80d6538cf2184babad2a564a010376712012...   \n",
              "4402913  bbb965ab0c80d6538cf2184babad2a564a010376712012...   \n",
              "...                                                    ...   \n",
              "447752   bbb965ab0c80d6538cf2184babad2a564a010376712012...   \n",
              "447652   bbb965ab0c80d6538cf2184babad2a564a010376712012...   \n",
              "447512   bbb965ab0c80d6538cf2184babad2a564a010376712012...   \n",
              "447418   bbb965ab0c80d6538cf2184babad2a564a010376712012...   \n",
              "447398   bbb965ab0c80d6538cf2184babad2a564a010376712012...   \n",
              "\n",
              "                   datetime has_studies  gender    country     state      age  \\\n",
              "4404056 2022-04-18 13:12:48           t  Hombre  Argentina  Santa fe 1,999.00   \n",
              "4403972 2022-04-18 12:30:31           t  Hombre  Argentina  Santa fe 1,999.00   \n",
              "4403515 2022-04-18 12:14:35           t  Hombre  Argentina  Santa fe 1,999.00   \n",
              "4403041 2022-04-18 11:31:41           t  Hombre  Argentina  Santa fe 1,999.00   \n",
              "4402913 2022-04-18 11:11:27           t  Hombre  Argentina  Santa fe 1,999.00   \n",
              "...                     ...         ...     ...        ...       ...      ...   \n",
              "447752  2021-10-06 03:45:12           t  Hombre  Argentina  Santa fe 1,999.00   \n",
              "447652  2021-10-06 03:30:12           t  Hombre  Argentina  Santa fe 1,999.00   \n",
              "447512  2021-10-06 03:15:11           t  Hombre  Argentina  Santa fe 1,999.00   \n",
              "447418  2021-10-06 03:05:02           t  Hombre  Argentina  Santa fe 1,999.00   \n",
              "447398  2021-10-06 03:02:50           t  Hombre  Argentina  Santa fe 1,999.00   \n",
              "\n",
              "         cups  \n",
              "4404056  1498  \n",
              "4403972  1498  \n",
              "4403515  1498  \n",
              "4403041  1498  \n",
              "4402913  1498  \n",
              "...       ...  \n",
              "447752   1212  \n",
              "447652   1212  \n",
              "447512   1212  \n",
              "447418   1212  \n",
              "447398      0  \n",
              "\n",
              "[13427 rows x 8 columns]"
            ]
          },
          "execution_count": 29,
          "metadata": {},
          "output_type": "execute_result"
        }
      ],
      "source": [
        "player_x = df[df.id == 'bbb965ab0c80d6538cf2184babad2a564a010376712012bd07b0af92dcd3097d']\n",
        "player_x.sort_values(by=['datetime'], ascending=False)"
      ]
    },
    {
      "cell_type": "code",
      "execution_count": null,
      "metadata": {
        "colab": {
          "base_uri": "https://localhost:8080/"
        },
        "id": "cT8_Jresfc1-",
        "outputId": "d1a369b3-4c23-49fd-c4f3-648e7889d6fc"
      },
      "outputs": [
        {
          "data": {
            "text/plain": [
              "1290840"
            ]
          },
          "execution_count": 30,
          "metadata": {},
          "output_type": "execute_result"
        }
      ],
      "source": [
        "df.datetime.nunique()"
      ]
    },
    {
      "cell_type": "markdown",
      "metadata": {
        "id": "JvKoMq6UffyK"
      },
      "source": [
        "Esto quiere decir que el sistema chequeo 1,2 millones de veces el estado de los jugadores en el sistema."
      ]
    },
    {
      "cell_type": "code",
      "execution_count": null,
      "metadata": {
        "colab": {
          "base_uri": "https://localhost:8080/"
        },
        "id": "MZKW6Q72fgGI",
        "outputId": "c1e64b5a-ce47-4be7-907f-dd43470af090"
      },
      "outputs": [
        {
          "data": {
            "text/plain": [
              "0          f\n",
              "1          t\n",
              "2          f\n",
              "3          t\n",
              "4          t\n",
              "          ..\n",
              "4404487    f\n",
              "4404488    t\n",
              "4404489    t\n",
              "4404490    t\n",
              "4404491    t\n",
              "Name: has_studies, Length: 4404492, dtype: object"
            ]
          },
          "execution_count": 31,
          "metadata": {},
          "output_type": "execute_result"
        }
      ],
      "source": [
        "df.has_studies"
      ]
    },
    {
      "cell_type": "code",
      "execution_count": null,
      "metadata": {
        "colab": {
          "base_uri": "https://localhost:8080/"
        },
        "id": "hGwNWTH8fj1M",
        "outputId": "6824158c-5070-4d65-d6cb-f72a85604438"
      },
      "outputs": [
        {
          "data": {
            "text/plain": [
              "array(['f', 't', nan], dtype=object)"
            ]
          },
          "execution_count": 32,
          "metadata": {},
          "output_type": "execute_result"
        }
      ],
      "source": [
        "df.has_studies.unique()"
      ]
    },
    {
      "cell_type": "code",
      "execution_count": null,
      "metadata": {
        "colab": {
          "base_uri": "https://localhost:8080/"
        },
        "id": "_Jom85_lfjvk",
        "outputId": "0d2a874c-266c-4759-8f72-082d19742766"
      },
      "outputs": [
        {
          "data": {
            "text/plain": [
              "t      2894122\n",
              "f      1453492\n",
              "NaN      56878\n",
              "Name: has_studies, dtype: int64"
            ]
          },
          "execution_count": 33,
          "metadata": {},
          "output_type": "execute_result"
        }
      ],
      "source": [
        "df.has_studies.value_counts(dropna=False)\n",
        "# hay muchas celdas que no estan completadas."
      ]
    },
    {
      "cell_type": "markdown",
      "metadata": {
        "id": "uqb9E7NTfovf"
      },
      "source": [
        "La columna has_studies contiene dos valores t (true) y f (false). No es muy informativa acerca del nivel de estudios de la persona que esta jugando. Notar que hay bastantes datos incompletos."
      ]
    },
    {
      "cell_type": "code",
      "execution_count": null,
      "metadata": {
        "colab": {
          "base_uri": "https://localhost:8080/"
        },
        "id": "gQUp4seSfpNN",
        "outputId": "5cad83ee-22a3-44a6-d428-a2b76bb08e80"
      },
      "outputs": [
        {
          "data": {
            "text/plain": [
              "0          Hombre\n",
              "1          Hombre\n",
              "2          Hombre\n",
              "3          Hombre\n",
              "4          Hombre\n",
              "            ...  \n",
              "4404487    Hombre\n",
              "4404488    Hombre\n",
              "4404489    Hombre\n",
              "4404490    Hombre\n",
              "4404491    Hombre\n",
              "Name: gender, Length: 4404492, dtype: object"
            ]
          },
          "execution_count": 34,
          "metadata": {},
          "output_type": "execute_result"
        }
      ],
      "source": [
        "df.gender"
      ]
    },
    {
      "cell_type": "code",
      "execution_count": null,
      "metadata": {
        "colab": {
          "base_uri": "https://localhost:8080/"
        },
        "id": "lJPFrpKffskD",
        "outputId": "32df0f74-9984-4eff-b819-18de773f5a62"
      },
      "outputs": [
        {
          "data": {
            "text/plain": [
              "Hombre               4035262\n",
              "Mujer                 310705\n",
              "NaN                    39077\n",
              "Prefiero no decir      16671\n",
              "Otro                    2777\n",
              "Name: gender, dtype: int64"
            ]
          },
          "execution_count": 35,
          "metadata": {},
          "output_type": "execute_result"
        }
      ],
      "source": [
        "df.gender.value_counts(dropna = False)"
      ]
    },
    {
      "cell_type": "markdown",
      "metadata": {
        "id": "90eiDBCkfwi8"
      },
      "source": [
        "Las celdas anteriores muestran que el 92% de los datos del dataset corresponden a Hombres y solo un pequeno porcentaje a los otros genero. En analisis posteriores sera importante tener esto en cuenta para evitar llegar a conclusiones sesgadas."
      ]
    },
    {
      "cell_type": "code",
      "execution_count": null,
      "metadata": {
        "colab": {
          "base_uri": "https://localhost:8080/"
        },
        "id": "G7WeJSALfwQz",
        "outputId": "9542de5e-d6cd-48bd-a013-1cae6b35a866"
      },
      "outputs": [
        {
          "data": {
            "text/plain": [
              "0          Argentina\n",
              "1          Argentina\n",
              "2          Argentina\n",
              "3          Venezuela\n",
              "4          Venezuela\n",
              "             ...    \n",
              "4404487    Argentina\n",
              "4404488    Argentina\n",
              "4404489    Venezuela\n",
              "4404490    Argentina\n",
              "4404491    Venezuela\n",
              "Name: country, Length: 4404492, dtype: object"
            ]
          },
          "execution_count": 37,
          "metadata": {},
          "output_type": "execute_result"
        }
      ],
      "source": [
        "df.country"
      ]
    },
    {
      "cell_type": "code",
      "execution_count": null,
      "metadata": {
        "colab": {
          "base_uri": "https://localhost:8080/"
        },
        "id": "UWgyeOpff0Gj",
        "outputId": "12c9ea61-b31b-4e8f-d84b-16d39bab4619"
      },
      "outputs": [
        {
          "data": {
            "text/plain": [
              "21"
            ]
          },
          "execution_count": 38,
          "metadata": {},
          "output_type": "execute_result"
        }
      ],
      "source": [
        "df.country.nunique()"
      ]
    },
    {
      "cell_type": "code",
      "execution_count": null,
      "metadata": {
        "colab": {
          "base_uri": "https://localhost:8080/"
        },
        "id": "GhR1Iob8f2Hz",
        "outputId": "81e65bcd-080d-4791-c196-5094a3f2a1bc"
      },
      "outputs": [
        {
          "data": {
            "text/plain": [
              "Argentina                2962277\n",
              "Venezuela                1312742\n",
              "NaN                        39077\n",
              "Philippines                30906\n",
              "Perú                       13912\n",
              "Ecuador                     9603\n",
              "venezuela                   8277\n",
              "argentina                   6359\n",
              "España                      4532\n",
              "Colombia                    3567\n",
              "Costa Rica                  2990\n",
              "Uruguay                     2827\n",
              "México                      2064\n",
              "Bolivia                     2021\n",
              "Venezuela - Maracaibo        889\n",
              "Cuba                         772\n",
              "Chile                        751\n",
              "Venenezuela                  295\n",
              "Argentino                    220\n",
              "colombia                     197\n",
              "ARGENTINA                    178\n",
              "De Venezuela                  36\n",
              "Name: country, dtype: int64"
            ]
          },
          "execution_count": 39,
          "metadata": {},
          "output_type": "execute_result"
        }
      ],
      "source": [
        "df.country.value_counts(dropna=False)"
      ]
    },
    {
      "cell_type": "markdown",
      "metadata": {
        "id": "nUc6MPb8f2a9"
      },
      "source": [
        "Notar que hay paises que tienen 2 o mas formas diferentes. Ej: Argentina = ['Argentina', 'argentina', 'Argentino', 'ARGENTINA']."
      ]
    },
    {
      "cell_type": "code",
      "execution_count": null,
      "metadata": {
        "colab": {
          "base_uri": "https://localhost:8080/"
        },
        "id": "fruOK5m6f6sa",
        "outputId": "73767a6a-c1f7-47ba-d28f-63ef59ceaafb"
      },
      "outputs": [
        {
          "data": {
            "text/plain": [
              "213"
            ]
          },
          "execution_count": 40,
          "metadata": {},
          "output_type": "execute_result"
        }
      ],
      "source": [
        "df.state.nunique()"
      ]
    },
    {
      "cell_type": "code",
      "execution_count": null,
      "metadata": {
        "colab": {
          "base_uri": "https://localhost:8080/"
        },
        "id": "UTlqM_E8f9YJ",
        "outputId": "0a8dc8ff-b139-4766-c5d0-d6a757618f9b"
      },
      "outputs": [
        {
          "data": {
            "text/plain": [
              "Buenos Aires         926677\n",
              "Santa Fe             383791\n",
              "Buenos aires         345030\n",
              "Zulia                235140\n",
              "Santa fe             172305\n",
              "                      ...  \n",
              "Atlántico                49\n",
              "La Habana                49\n",
              "Estado Aragua            36\n",
              "falcon                   17\n",
              "Carabobo valencia         5\n",
              "Name: state, Length: 214, dtype: int64"
            ]
          },
          "execution_count": 41,
          "metadata": {},
          "output_type": "execute_result"
        }
      ],
      "source": [
        "df.state.value_counts(dropna=False)"
      ]
    },
    {
      "cell_type": "code",
      "execution_count": null,
      "metadata": {
        "colab": {
          "base_uri": "https://localhost:8080/"
        },
        "id": "CvXEi6Baf-nx",
        "outputId": "7c896df0-15ad-46e6-9c1e-a4f84ea3301f"
      },
      "outputs": [
        {
          "name": "stdout",
          "output_type": "stream",
          "text": [
            "Santa Fe\n",
            "Santa fe\n",
            "Entre Rios\n",
            "Aragua\n",
            "Carabobo\n",
            "Cordoba\n",
            "Buenos Aires\n",
            "C.A.B.A\n",
            "nan\n",
            "Entre Ríos\n",
            "Entre rios\n",
            "Buenos aires\n",
            "CABA\n",
            "Córdoba\n",
            "la Rioja\n",
            "santa fe\n",
            "Bueno Aires\n",
            "Santafe\n",
            "cordoba\n",
            "Chaco\n",
            "Santiago del Estero\n",
            "Neuquen\n",
            "Mendoza\n",
            "San luis\n",
            "Zulia\n",
            "Monagas\n",
            "Aragua - región central\n",
            "cumana\n",
            "Caracas\n",
            "Miranda\n",
            "Bs.as\n",
            "Tierra del Fuego\n",
            "Santaigo del Estero\n",
            "Tucumán\n",
            "buenos aires\n",
            "Anzoátegui\n",
            "Merida\n",
            "Corrientes\n",
            "Yaracuy\n",
            "la rioja\n",
            "Distrito Capital\n",
            "Guárico\n",
            "Distrito capital\n",
            "santiago del estero\n",
            "Miranda  - Caracas\n",
            "Tachira\n",
            "Bolivar\n",
            "Entre ríos\n",
            "Ciudad de Buenos aires\n",
            "San Juan\n",
            "Lara\n",
            "San Luis\n",
            "Ezequiel zamora\n",
            "Tucuman\n",
            "Táchira\n",
            "Coro\n",
            "Ciudad autónoma de Buenos Aires\n",
            "Maracaibo\n",
            "Sucre\n",
            "Rio negro\n",
            "Pilar\n",
            "Maturin\n",
            "Lima\n",
            "Chubut\n",
            "Mérida\n",
            "Catamarca\n",
            "Cojedes\n",
            "Edo Guárico\n",
            "Rio Negro\n",
            "camarines sur naga city\n",
            "Capital\n",
            "Valencia\n",
            "La Guaira\n",
            "Nueva Esparta\n",
            "Capital Federal\n",
            "Orellana\n",
            "Anzoategui\n",
            "Catia la mar\n",
            "montalban estado carabobo\n",
            "Salta\n",
            "Zulia - Maracaibo\n",
            "Guarico\n",
            "carabobo\n",
            "Edo.Miranda\n",
            "caracas\n",
            "Camarines sur naga city\n",
            "La guaira\n",
            "Estado bolivariano de miranda\n",
            "monagas\n",
            "camarines sur\n",
            "San joaquin\n",
            "Maracay\n",
            "Dtto capital\n",
            "Guasdualito\n",
            "Falcón\n",
            "Andes\n",
            "Misiones\n",
            "Jujuy\n",
            "San salvador de jujuy\n",
            "Santa Fé\n",
            "Falcon\n",
            "Apure\n",
            "Santa cruz\n",
            "Esrado vargas\n",
            "Barinas\n",
            "Municipio Libertad or\n",
            "la pampa\n",
            "Bio Bio\n",
            "Tierra del fuego\n",
            "Neuquén\n",
            "aragua\n",
            "zulia\n",
            "Montalban\n",
            "Tigre\n",
            "maracaibo\n",
            "Tlaxcala\n",
            "Madrid\n",
            "La Habana\n",
            "Barquisimeto\n",
            "Atlántico\n",
            "Andalucía\n",
            "Montevideo\n",
            "Barcelona\n",
            "Puerto la cruz\n",
            "caba\n",
            "santiago\n",
            "Santa fé\n",
            "CARACAS\n",
            "Santa Cruz\n",
            "montalban\n",
            "Estado Anzoátegui\n",
            "Chiclayo\n",
            "entre ríos\n",
            "Veracruz\n",
            "Guayas\n",
            "Las provincias eran las divisiones administrativas utilizadas en Venezuela desde la colonización española hasta la conclusión de la Guerra Federal - cuando una nueva constitución transformó a estas subdivisiones en estados federales\n",
            "Camarines sur\n",
            "Camarines Sur\n",
            "Anzoatequi\n",
            "Río negro\n",
            "Camarinesur\n",
            "Vargas\n",
            "Anzuategui\n",
            "Estado Anzoategui\n",
            "Santiago del estero\n",
            "lara\n",
            "Estado aragua\n",
            "Caba\n",
            "Santiago Del Estero\n",
            "Imbabura\n",
            "Matanzas\n",
            "entre rios\n",
            "Cagua\n",
            "Salta Capital\n",
            "Mar del plata\n",
            "cojedes\n",
            "Santa Cruz de la Sierra\n",
            "Burnos Aires\n",
            "San Cristóbal\n",
            "distrito capital\n",
            "Buenas Aires\n",
            "Bs as\n",
            "falcon\n",
            "Estado Falcon\n",
            "Santa fa\n",
            "anzoategui\n",
            "Trujillo\n",
            "Venezuela\n",
            "Manaus\n",
            "Ciudad Autónoma de Buenos Aires\n",
            "Dosquebradas\n",
            "barinas\n",
            "merida\n",
            "Maracaibo zulia\n",
            "Estado Aragua\n",
            "Carabobo valencia\n",
            "San José\n",
            "caracas distrito capital\n",
            "buenos aries\n",
            "cumbre de curumo\n",
            "Cundinamarca\n",
            "Estado Miranda\n",
            "La Rioja\n",
            "miranda\n",
            "Charallave\n",
            "Buenoas Aires\n",
            "Pichincha\n",
            "Las Tunas\n",
            "Formosa\n",
            "BUENOS AIRES\n",
            "Venezolana\n",
            "Centro occidente\n",
            "capital federal\n",
            "Bogotá D.C\n",
            "Ciudad de Buenos Aires\n",
            "Portuguesa\n",
            "santa cruz\n",
            "valle del cauca\n",
            "Cartago\n",
            "Canelones\n",
            "Maldonado\n",
            "Alajuela\n",
            "Guanta\n",
            "Bogota\n",
            "Valle\n",
            "Estado bolivar\n",
            "Edo. Nueva Esparta\n",
            "San juan\n",
            "Tierra Del Fuego\n",
            "Duaca\n",
            "Amazonas\n",
            "Estado La Guaira\n",
            "De San Francisco\n",
            "Caraca\n"
          ]
        }
      ],
      "source": [
        "for i in df.state.unique():\n",
        "    print(i)"
      ]
    },
    {
      "cell_type": "code",
      "execution_count": null,
      "metadata": {
        "colab": {
          "base_uri": "https://localhost:8080/"
        },
        "id": "XuFJHEOpgA4g",
        "outputId": "c6cd908d-88f8-4247-942e-4f4f8627cdac"
      },
      "outputs": [
        {
          "data": {
            "text/plain": [
              "country\n",
              "ARGENTINA                                                   [BUENOS AIRES]\n",
              "Argentina                [Santa Fe, Santa fe, Entre Rios, Cordoba, Buen...\n",
              "Argentino                                                   [Buenos Aires]\n",
              "Bolivia                              [Santa Cruz de la Sierra, Santa Cruz]\n",
              "Chile                                                  [Bio Bio, santiago]\n",
              "Colombia                 [Atlántico, Dosquebradas, Cundinamarca, Bogotá...\n",
              "Costa Rica                                   [San José, Cartago, Alajuela]\n",
              "Cuba                                      [La Habana, Matanzas, Las Tunas]\n",
              "De Venezuela                                               [Estado Aragua]\n",
              "Ecuador                            [Orellana, Guayas, Imbabura, Pichincha]\n",
              "España                                       [Valencia, Madrid, Andalucía]\n",
              "México                                                [Tlaxcala, Veracruz]\n",
              "Perú                                                      [Lima, Chiclayo]\n",
              "Philippines              [camarines sur naga city, Camarines sur naga c...\n",
              "Uruguay                                 [Montevideo, Canelones, Maldonado]\n",
              "Venenezuela                                                    [Maracaibo]\n",
              "Venezuela                [Aragua, Carabobo, Zulia, Monagas, Aragua - re...\n",
              "Venezuela - Maracaibo                                              [Zulia]\n",
              "argentina                [buenos aires, buenos aries, caba, Buenos Aire...\n",
              "colombia                                                 [valle del cauca]\n",
              "venezuela                [barinas, merida, caracas distrito capital, cu...\n",
              "Name: state, dtype: object"
            ]
          },
          "execution_count": 43,
          "metadata": {},
          "output_type": "execute_result"
        }
      ],
      "source": [
        "state = df.groupby('country')['state'].unique()\n",
        "state"
      ]
    },
    {
      "cell_type": "markdown",
      "metadata": {
        "id": "VoTcpf56gGj6"
      },
      "source": [
        "Con la columna states vamos a tener el mismo problema que con la columna country. Hay muchas versiones que corresponden a un mismo state. En algun momento vamos a tener que arreglar esto."
      ]
    },
    {
      "cell_type": "code",
      "execution_count": null,
      "metadata": {
        "colab": {
          "base_uri": "https://localhost:8080/"
        },
        "id": "IhJndxMSgHMr",
        "outputId": "eabd7501-2e7d-4f55-a250-230da924c4a3"
      },
      "outputs": [
        {
          "data": {
            "text/plain": [
              "array([1997., 1999., 2003., 2000., 2001., 1996., 1994., 1998., 1995.,\n",
              "       1990., 1993., 2002., 1991.,   91., 1986., 1989., 2005.,   nan,\n",
              "       1992.,   97., 1973., 1980., 2021., 1985., 2004., 1987., 1979.,\n",
              "       1983., 1981., 1982., 1966., 1968., 1972., 1988., 1961., 1984.,\n",
              "       1977.,    3., 1978., 1967.,   99.,  200., 1974., 1963., 1959.,\n",
              "       1975., 1976., 1970., 2009., 2022.])"
            ]
          },
          "execution_count": 44,
          "metadata": {},
          "output_type": "execute_result"
        }
      ],
      "source": [
        "df.age.unique()"
      ]
    },
    {
      "cell_type": "code",
      "execution_count": null,
      "metadata": {
        "colab": {
          "base_uri": "https://localhost:8080/"
        },
        "id": "Q0GXzHEVgJ2m",
        "outputId": "5de9b634-e9a7-415d-801d-e410c9c217bf"
      },
      "outputs": [
        {
          "data": {
            "text/plain": [
              "3.00           678\n",
              "91.00        19199\n",
              "97.00         9167\n",
              "99.00         2611\n",
              "200.00         195\n",
              "1,959.00      1555\n",
              "1,961.00      1404\n",
              "1,963.00       429\n",
              "1,966.00      2516\n",
              "1,967.00       752\n",
              "1,968.00      4233\n",
              "1,970.00       975\n",
              "1,972.00      4028\n",
              "1,973.00     14713\n",
              "1,974.00      3295\n",
              "1,975.00      1112\n",
              "1,976.00       240\n",
              "1,977.00       451\n",
              "1,978.00      2576\n",
              "1,979.00      7308\n",
              "1,980.00     11931\n",
              "1,981.00      4227\n",
              "1,982.00      5763\n",
              "1,983.00      5703\n",
              "1,984.00      5048\n",
              "1,985.00      7816\n",
              "1,986.00     17367\n",
              "1,987.00     10587\n",
              "1,988.00      9155\n",
              "1,989.00     45964\n",
              "1,990.00     68330\n",
              "1,991.00    178418\n",
              "1,992.00    117665\n",
              "1,993.00    130687\n",
              "1,994.00    223776\n",
              "1,995.00    244079\n",
              "1,996.00    320012\n",
              "1,997.00    348563\n",
              "1,998.00    365273\n",
              "1,999.00    599284\n",
              "2,000.00    564774\n",
              "2,001.00    392502\n",
              "2,002.00    286027\n",
              "2,003.00    293785\n",
              "2,004.00      8920\n",
              "2,005.00     14851\n",
              "2,009.00       603\n",
              "2,021.00      6370\n",
              "2,022.00       498\n",
              "nan          39077\n",
              "Name: age, dtype: int64"
            ]
          },
          "execution_count": 45,
          "metadata": {},
          "output_type": "execute_result"
        }
      ],
      "source": [
        "df.age.value_counts(dropna=False).sort_index()"
      ]
    },
    {
      "cell_type": "markdown",
      "metadata": {
        "id": "U5YfGYNPgMGl"
      },
      "source": [
        "Notar que la columna age pareciera estar completada con el añoo de nacimiento y no con la edad. Mas adelante vamos a tener que modificar esto.\n",
        "\n",
        "Ademas hay algunos datos raros. Hay 6868 entradas en las que la columna age fue completada con 2021 o 2022."
      ]
    },
    {
      "cell_type": "code",
      "execution_count": null,
      "metadata": {
        "colab": {
          "base_uri": "https://localhost:8080/"
        },
        "id": "znF0mmcNgMz5",
        "outputId": "1ab7ba24-8469-4987-8d9f-6deda23cc5cb"
      },
      "outputs": [
        {
          "data": {
            "text/plain": [
              "count   4,404,492.00\n",
              "mean        1,161.28\n",
              "std           432.13\n",
              "min            -4.00\n",
              "25%         1,100.00\n",
              "50%         1,235.00\n",
              "75%         1,390.00\n",
              "max         2,866.00\n",
              "Name: cups, dtype: float64"
            ]
          },
          "execution_count": 46,
          "metadata": {},
          "output_type": "execute_result"
        }
      ],
      "source": [
        "df.cups.describe()\n",
        "# es raro que el minimo sea negativo... por que sera?"
      ]
    },
    {
      "cell_type": "code",
      "execution_count": null,
      "metadata": {
        "colab": {
          "base_uri": "https://localhost:8080/",
          "height": 424
        },
        "id": "HO5U8z76gPu9",
        "outputId": "fae8797f-ef10-4b4f-dcfc-7324d9651acf"
      },
      "outputs": [
        {
          "data": {
            "text/html": [
              "<div>\n",
              "<style scoped>\n",
              "    .dataframe tbody tr th:only-of-type {\n",
              "        vertical-align: middle;\n",
              "    }\n",
              "\n",
              "    .dataframe tbody tr th {\n",
              "        vertical-align: top;\n",
              "    }\n",
              "\n",
              "    .dataframe thead th {\n",
              "        text-align: right;\n",
              "    }\n",
              "</style>\n",
              "<table border=\"1\" class=\"dataframe\">\n",
              "  <thead>\n",
              "    <tr style=\"text-align: right;\">\n",
              "      <th></th>\n",
              "      <th>id</th>\n",
              "      <th>datetime</th>\n",
              "      <th>has_studies</th>\n",
              "      <th>gender</th>\n",
              "      <th>country</th>\n",
              "      <th>state</th>\n",
              "      <th>age</th>\n",
              "      <th>cups</th>\n",
              "    </tr>\n",
              "  </thead>\n",
              "  <tbody>\n",
              "    <tr>\n",
              "      <th>1809113</th>\n",
              "      <td>684fe39f03758de6a882ae61fa62312b67e5b1e665928c...</td>\n",
              "      <td>2021-12-20 15:01:36</td>\n",
              "      <td>NaN</td>\n",
              "      <td>NaN</td>\n",
              "      <td>NaN</td>\n",
              "      <td>NaN</td>\n",
              "      <td>nan</td>\n",
              "      <td>-4</td>\n",
              "    </tr>\n",
              "    <tr>\n",
              "      <th>1809963</th>\n",
              "      <td>684fe39f03758de6a882ae61fa62312b67e5b1e665928c...</td>\n",
              "      <td>2021-12-20 15:15:56</td>\n",
              "      <td>NaN</td>\n",
              "      <td>NaN</td>\n",
              "      <td>NaN</td>\n",
              "      <td>NaN</td>\n",
              "      <td>nan</td>\n",
              "      <td>-4</td>\n",
              "    </tr>\n",
              "    <tr>\n",
              "      <th>1810296</th>\n",
              "      <td>684fe39f03758de6a882ae61fa62312b67e5b1e665928c...</td>\n",
              "      <td>2021-12-20 15:39:28</td>\n",
              "      <td>NaN</td>\n",
              "      <td>NaN</td>\n",
              "      <td>NaN</td>\n",
              "      <td>NaN</td>\n",
              "      <td>nan</td>\n",
              "      <td>-4</td>\n",
              "    </tr>\n",
              "    <tr>\n",
              "      <th>1810825</th>\n",
              "      <td>684fe39f03758de6a882ae61fa62312b67e5b1e665928c...</td>\n",
              "      <td>2021-12-20 15:45:55</td>\n",
              "      <td>NaN</td>\n",
              "      <td>NaN</td>\n",
              "      <td>NaN</td>\n",
              "      <td>NaN</td>\n",
              "      <td>nan</td>\n",
              "      <td>-4</td>\n",
              "    </tr>\n",
              "    <tr>\n",
              "      <th>1811063</th>\n",
              "      <td>684fe39f03758de6a882ae61fa62312b67e5b1e665928c...</td>\n",
              "      <td>2021-12-20 16:04:53</td>\n",
              "      <td>NaN</td>\n",
              "      <td>NaN</td>\n",
              "      <td>NaN</td>\n",
              "      <td>NaN</td>\n",
              "      <td>nan</td>\n",
              "      <td>-4</td>\n",
              "    </tr>\n",
              "    <tr>\n",
              "      <th>...</th>\n",
              "      <td>...</td>\n",
              "      <td>...</td>\n",
              "      <td>...</td>\n",
              "      <td>...</td>\n",
              "      <td>...</td>\n",
              "      <td>...</td>\n",
              "      <td>...</td>\n",
              "      <td>...</td>\n",
              "    </tr>\n",
              "    <tr>\n",
              "      <th>2325150</th>\n",
              "      <td>684fe39f03758de6a882ae61fa62312b67e5b1e665928c...</td>\n",
              "      <td>2022-01-04 07:16:35</td>\n",
              "      <td>NaN</td>\n",
              "      <td>NaN</td>\n",
              "      <td>NaN</td>\n",
              "      <td>NaN</td>\n",
              "      <td>nan</td>\n",
              "      <td>-4</td>\n",
              "    </tr>\n",
              "    <tr>\n",
              "      <th>2325534</th>\n",
              "      <td>684fe39f03758de6a882ae61fa62312b67e5b1e665928c...</td>\n",
              "      <td>2022-01-04 07:32:05</td>\n",
              "      <td>NaN</td>\n",
              "      <td>NaN</td>\n",
              "      <td>NaN</td>\n",
              "      <td>NaN</td>\n",
              "      <td>nan</td>\n",
              "      <td>-4</td>\n",
              "    </tr>\n",
              "    <tr>\n",
              "      <th>2326111</th>\n",
              "      <td>684fe39f03758de6a882ae61fa62312b67e5b1e665928c...</td>\n",
              "      <td>2022-01-04 08:10:27</td>\n",
              "      <td>NaN</td>\n",
              "      <td>NaN</td>\n",
              "      <td>NaN</td>\n",
              "      <td>NaN</td>\n",
              "      <td>nan</td>\n",
              "      <td>-4</td>\n",
              "    </tr>\n",
              "    <tr>\n",
              "      <th>2326488</th>\n",
              "      <td>684fe39f03758de6a882ae61fa62312b67e5b1e665928c...</td>\n",
              "      <td>2022-01-04 08:37:45</td>\n",
              "      <td>NaN</td>\n",
              "      <td>NaN</td>\n",
              "      <td>NaN</td>\n",
              "      <td>NaN</td>\n",
              "      <td>nan</td>\n",
              "      <td>-4</td>\n",
              "    </tr>\n",
              "    <tr>\n",
              "      <th>2326989</th>\n",
              "      <td>684fe39f03758de6a882ae61fa62312b67e5b1e665928c...</td>\n",
              "      <td>2022-01-04 09:10:09</td>\n",
              "      <td>NaN</td>\n",
              "      <td>NaN</td>\n",
              "      <td>NaN</td>\n",
              "      <td>NaN</td>\n",
              "      <td>nan</td>\n",
              "      <td>-4</td>\n",
              "    </tr>\n",
              "  </tbody>\n",
              "</table>\n",
              "<p>1058 rows × 8 columns</p>\n",
              "</div>"
            ],
            "text/plain": [
              "                                                        id  \\\n",
              "1809113  684fe39f03758de6a882ae61fa62312b67e5b1e665928c...   \n",
              "1809963  684fe39f03758de6a882ae61fa62312b67e5b1e665928c...   \n",
              "1810296  684fe39f03758de6a882ae61fa62312b67e5b1e665928c...   \n",
              "1810825  684fe39f03758de6a882ae61fa62312b67e5b1e665928c...   \n",
              "1811063  684fe39f03758de6a882ae61fa62312b67e5b1e665928c...   \n",
              "...                                                    ...   \n",
              "2325150  684fe39f03758de6a882ae61fa62312b67e5b1e665928c...   \n",
              "2325534  684fe39f03758de6a882ae61fa62312b67e5b1e665928c...   \n",
              "2326111  684fe39f03758de6a882ae61fa62312b67e5b1e665928c...   \n",
              "2326488  684fe39f03758de6a882ae61fa62312b67e5b1e665928c...   \n",
              "2326989  684fe39f03758de6a882ae61fa62312b67e5b1e665928c...   \n",
              "\n",
              "                   datetime has_studies gender country state  age  cups  \n",
              "1809113 2021-12-20 15:01:36         NaN    NaN     NaN   NaN  nan    -4  \n",
              "1809963 2021-12-20 15:15:56         NaN    NaN     NaN   NaN  nan    -4  \n",
              "1810296 2021-12-20 15:39:28         NaN    NaN     NaN   NaN  nan    -4  \n",
              "1810825 2021-12-20 15:45:55         NaN    NaN     NaN   NaN  nan    -4  \n",
              "1811063 2021-12-20 16:04:53         NaN    NaN     NaN   NaN  nan    -4  \n",
              "...                     ...         ...    ...     ...   ...  ...   ...  \n",
              "2325150 2022-01-04 07:16:35         NaN    NaN     NaN   NaN  nan    -4  \n",
              "2325534 2022-01-04 07:32:05         NaN    NaN     NaN   NaN  nan    -4  \n",
              "2326111 2022-01-04 08:10:27         NaN    NaN     NaN   NaN  nan    -4  \n",
              "2326488 2022-01-04 08:37:45         NaN    NaN     NaN   NaN  nan    -4  \n",
              "2326989 2022-01-04 09:10:09         NaN    NaN     NaN   NaN  nan    -4  \n",
              "\n",
              "[1058 rows x 8 columns]"
            ]
          },
          "execution_count": 47,
          "metadata": {},
          "output_type": "execute_result"
        }
      ],
      "source": [
        "df[df.cups == -4]\n",
        "# hay 1058 casos de personas que tienen cups = -4."
      ]
    },
    {
      "cell_type": "code",
      "execution_count": null,
      "metadata": {
        "id": "4BCRFjyZgRXA"
      },
      "outputs": [],
      "source": [
        "neg_df = df[df.cups < 0]\n",
        "# no hay otros valores negativos, asi que el -4 tiene que tener algun significado especifico."
      ]
    },
    {
      "cell_type": "code",
      "execution_count": null,
      "metadata": {
        "colab": {
          "base_uri": "https://localhost:8080/",
          "height": 694
        },
        "id": "IdUNhaejgtpb",
        "outputId": "a641a711-9855-4f74-b6e4-be114f03dfe3"
      },
      "outputs": [
        {
          "data": {
            "text/plain": [
              "<AxesSubplot:>"
            ]
          },
          "execution_count": 49,
          "metadata": {},
          "output_type": "execute_result"
        },
        {
          "data": {
            "image/png": "[encoded data removed]",
            "text/plain": [
              "<Figure size 1800x720 with 3 Axes>"
            ]
          },
          "metadata": {
            "needs_background": "light"
          },
          "output_type": "display_data"
        }
      ],
      "source": [
        "msno.bar(neg_df)"
      ]
    },
    {
      "cell_type": "markdown",
      "metadata": {
        "id": "oBVSsh1rgV5E"
      },
      "source": [
        "Notar que las 1058 observaciones que tienen valor -4 en la columna cups no tienen nada completado de las columnas 'has_studies', 'gender', 'country', 'state' y 'age' asi que probablemente sean casos que tengamos que descartar."
      ]
    },
    {
      "cell_type": "markdown",
      "metadata": {
        "id": "PYF_tlHIgbYr"
      },
      "source": [
        "# Sección 3: Visualización"
      ]
    },
    {
      "cell_type": "markdown",
      "metadata": {
        "id": "-Z42NvjxgcNm"
      },
      "source": [
        "***(1) Realizar los gráficos correspondientes al análisis obtenido en la sección 2.***"
      ]
    },
    {
      "cell_type": "code",
      "execution_count": null,
      "metadata": {
        "id": "lC6H7DResnjp",
        "outputId": "416ef8e4-a028-4f5c-9fd1-2cbeab9de257"
      },
      "outputs": [
        {
          "name": "stdout",
          "output_type": "stream",
          "text": [
            "1999.0\n"
          ]
        }
      ],
      "source": [
        "mode = mode(df.age)\n",
        "print(mode)"
      ]
    },
    {
      "cell_type": "code",
      "execution_count": null,
      "metadata": {
        "colab": {
          "base_uri": "https://localhost:8080/",
          "height": 773
        },
        "id": "oJCv2Reege8I",
        "outputId": "1e104774-3adc-4da8-db3a-10c84fb57bee"
      },
      "outputs": [
        {
          "data": {
            "image/png": "[encoded data removed]",
            "text/plain": [
              "<Figure size 1296x432 with 1 Axes>"
            ]
          },
          "metadata": {
            "needs_background": "light"
          },
          "output_type": "display_data"
        }
      ],
      "source": [
        "fig = plt.figure(figsize = (18,6))\n",
        "sns.histplot(data = df.age[df.age>1950],\n",
        "            bins = 50)\n",
        "\n",
        "plt.axvline(x = df.age.mean(), \n",
        "           color = '#a80000',\n",
        "           label = 'MEAN')\n",
        "\n",
        "plt.axvline(x = df.age.median(),\n",
        "           color = '#ffb14a',\n",
        "           label = 'MEDIAN')\n",
        "plt.axvline(x = mode,\n",
        "           label = 'MODE')\n",
        "\n",
        "plt.legend()\n",
        "\n",
        "plt.title('Distribucion de valores de la columna \"age\"\\n',\n",
        "         loc='left')\n",
        "\n",
        "plt.show()"
      ]
    },
    {
      "cell_type": "code",
      "execution_count": null,
      "metadata": {
        "colab": {
          "base_uri": "https://localhost:8080/"
        },
        "id": "SPoKVsgjhLQh",
        "outputId": "e3b33f23-8b5b-49fa-c3df-40379bd0c6e2"
      },
      "outputs": [
        {
          "data": {
            "text/plain": [
              "Hombre               4035262\n",
              "Mujer                 310705\n",
              "NaN                    39077\n",
              "Prefiero no decir      16671\n",
              "Otro                    2777\n",
              "Name: gender, dtype: int64"
            ]
          },
          "execution_count": 73,
          "metadata": {},
          "output_type": "execute_result"
        }
      ],
      "source": [
        "df.gender.value_counts(dropna = False)"
      ]
    },
    {
      "cell_type": "code",
      "execution_count": null,
      "metadata": {
        "colab": {
          "base_uri": "https://localhost:8080/",
          "height": 355
        },
        "id": "zRCDYre1hRIO",
        "outputId": "0524b674-f7c3-4be0-8ddd-829d5739c38a"
      },
      "outputs": [
        {
          "data": {
            "image/png": "[encoded data removed]",
            "text/plain": [
              "<Figure size 720x360 with 1 Axes>"
            ]
          },
          "metadata": {
            "needs_background": "light"
          },
          "output_type": "display_data"
        }
      ],
      "source": [
        "fig = plt.figure(figsize = (10,5))\n",
        "\n",
        "sns.set_context('talk')\n",
        "sns.countplot(data = df.fillna('NaN'),\n",
        "             x = 'gender')\n",
        "\n",
        "# definimos la escala del eje Y como logartimica porque hay mucha diferencia entre Hombres y los demas generos\n",
        "plt.yscale('log')\n",
        "\n",
        "plt.grid(which = 'major', axis = 'y', alpha = 0.4)\n",
        "\n",
        "plt.show()"
      ]
    },
    {
      "cell_type": "code",
      "execution_count": null,
      "metadata": {
        "colab": {
          "base_uri": "https://localhost:8080/",
          "height": 424
        },
        "id": "IMeOjxqmhTwW",
        "outputId": "f946a988-c5e4-4f10-df07-b6ea64df0daf"
      },
      "outputs": [
        {
          "data": {
            "text/html": [
              "<div>\n",
              "<style scoped>\n",
              "    .dataframe tbody tr th:only-of-type {\n",
              "        vertical-align: middle;\n",
              "    }\n",
              "\n",
              "    .dataframe tbody tr th {\n",
              "        vertical-align: top;\n",
              "    }\n",
              "\n",
              "    .dataframe thead th {\n",
              "        text-align: right;\n",
              "    }\n",
              "</style>\n",
              "<table border=\"1\" class=\"dataframe\">\n",
              "  <thead>\n",
              "    <tr style=\"text-align: right;\">\n",
              "      <th></th>\n",
              "      <th>id</th>\n",
              "      <th>cups</th>\n",
              "    </tr>\n",
              "  </thead>\n",
              "  <tbody>\n",
              "    <tr>\n",
              "      <th>2962092</th>\n",
              "      <td>00037f39cf870a1f49129f9c82d935665d352ffd25ea32...</td>\n",
              "      <td>1019</td>\n",
              "    </tr>\n",
              "    <tr>\n",
              "      <th>2961701</th>\n",
              "      <td>00037f39cf870a1f49129f9c82d935665d352ffd25ea32...</td>\n",
              "      <td>1019</td>\n",
              "    </tr>\n",
              "    <tr>\n",
              "      <th>2845749</th>\n",
              "      <td>00037f39cf870a1f49129f9c82d935665d352ffd25ea32...</td>\n",
              "      <td>1037</td>\n",
              "    </tr>\n",
              "    <tr>\n",
              "      <th>2846145</th>\n",
              "      <td>00037f39cf870a1f49129f9c82d935665d352ffd25ea32...</td>\n",
              "      <td>1037</td>\n",
              "    </tr>\n",
              "    <tr>\n",
              "      <th>2846490</th>\n",
              "      <td>00037f39cf870a1f49129f9c82d935665d352ffd25ea32...</td>\n",
              "      <td>1039</td>\n",
              "    </tr>\n",
              "    <tr>\n",
              "      <th>...</th>\n",
              "      <td>...</td>\n",
              "      <td>...</td>\n",
              "    </tr>\n",
              "    <tr>\n",
              "      <th>3030492</th>\n",
              "      <td>00037f39cf870a1f49129f9c82d935665d352ffd25ea32...</td>\n",
              "      <td>1211</td>\n",
              "    </tr>\n",
              "    <tr>\n",
              "      <th>3031109</th>\n",
              "      <td>00037f39cf870a1f49129f9c82d935665d352ffd25ea32...</td>\n",
              "      <td>1211</td>\n",
              "    </tr>\n",
              "    <tr>\n",
              "      <th>3031722</th>\n",
              "      <td>00037f39cf870a1f49129f9c82d935665d352ffd25ea32...</td>\n",
              "      <td>1211</td>\n",
              "    </tr>\n",
              "    <tr>\n",
              "      <th>3043565</th>\n",
              "      <td>00037f39cf870a1f49129f9c82d935665d352ffd25ea32...</td>\n",
              "      <td>1211</td>\n",
              "    </tr>\n",
              "    <tr>\n",
              "      <th>3041896</th>\n",
              "      <td>00037f39cf870a1f49129f9c82d935665d352ffd25ea32...</td>\n",
              "      <td>1211</td>\n",
              "    </tr>\n",
              "  </tbody>\n",
              "</table>\n",
              "<p>868 rows × 2 columns</p>\n",
              "</div>"
            ],
            "text/plain": [
              "                                                        id  cups\n",
              "2962092  00037f39cf870a1f49129f9c82d935665d352ffd25ea32...  1019\n",
              "2961701  00037f39cf870a1f49129f9c82d935665d352ffd25ea32...  1019\n",
              "2845749  00037f39cf870a1f49129f9c82d935665d352ffd25ea32...  1037\n",
              "2846145  00037f39cf870a1f49129f9c82d935665d352ffd25ea32...  1037\n",
              "2846490  00037f39cf870a1f49129f9c82d935665d352ffd25ea32...  1039\n",
              "...                                                    ...   ...\n",
              "3030492  00037f39cf870a1f49129f9c82d935665d352ffd25ea32...  1211\n",
              "3031109  00037f39cf870a1f49129f9c82d935665d352ffd25ea32...  1211\n",
              "3031722  00037f39cf870a1f49129f9c82d935665d352ffd25ea32...  1211\n",
              "3043565  00037f39cf870a1f49129f9c82d935665d352ffd25ea32...  1211\n",
              "3041896  00037f39cf870a1f49129f9c82d935665d352ffd25ea32...  1211\n",
              "\n",
              "[868 rows x 2 columns]"
            ]
          },
          "execution_count": 75,
          "metadata": {},
          "output_type": "execute_result"
        }
      ],
      "source": [
        "df[df.id == '00037f39cf870a1f49129f9c82d935665d352ffd25ea3296208f6f7b16fd654f'][['id','cups']].sort_values('cups')"
      ]
    },
    {
      "cell_type": "markdown",
      "metadata": {
        "id": "Z_vsM-pbhWja"
      },
      "source": [
        "Tomando un id al azar vemos que el primer dato de copas que tenemos en 1019. Es extranio, porque hubiera esperado que un jugador comience el juego con 0 copas."
      ]
    },
    {
      "cell_type": "code",
      "execution_count": null,
      "metadata": {
        "colab": {
          "base_uri": "https://localhost:8080/",
          "height": 455
        },
        "id": "w5CtJJ4ihYCr",
        "outputId": "f2afd367-2a16-4255-c320-ee945a0021d6"
      },
      "outputs": [
        {
          "data": {
            "text/html": [
              "<div>\n",
              "<style scoped>\n",
              "    .dataframe tbody tr th:only-of-type {\n",
              "        vertical-align: middle;\n",
              "    }\n",
              "\n",
              "    .dataframe tbody tr th {\n",
              "        vertical-align: top;\n",
              "    }\n",
              "\n",
              "    .dataframe thead th {\n",
              "        text-align: right;\n",
              "    }\n",
              "</style>\n",
              "<table border=\"1\" class=\"dataframe\">\n",
              "  <thead>\n",
              "    <tr style=\"text-align: right;\">\n",
              "      <th></th>\n",
              "      <th>age</th>\n",
              "      <th>cups</th>\n",
              "    </tr>\n",
              "    <tr>\n",
              "      <th>id</th>\n",
              "      <th></th>\n",
              "      <th></th>\n",
              "    </tr>\n",
              "  </thead>\n",
              "  <tbody>\n",
              "    <tr>\n",
              "      <th>00037f39cf870a1f49129f9c82d935665d352ffd25ea3296208f6f7b16fd654f</th>\n",
              "      <td>1,997.00</td>\n",
              "      <td>1211</td>\n",
              "    </tr>\n",
              "    <tr>\n",
              "      <th>000f21ac06aceb9cdd0575e82d0d85fc39bed0a7a1d71970ba1641666a44f530</th>\n",
              "      <td>2,003.00</td>\n",
              "      <td>1559</td>\n",
              "    </tr>\n",
              "    <tr>\n",
              "      <th>00328ce57bbc14b33bd6695bc8eb32cdf2fb5f3a7d89ec14a42825e15d39df60</th>\n",
              "      <td>1,996.00</td>\n",
              "      <td>1859</td>\n",
              "    </tr>\n",
              "    <tr>\n",
              "      <th>0038263cc90dfa55d621a6425e46020136a318d12b974340f518892a6ef690ff</th>\n",
              "      <td>1,996.00</td>\n",
              "      <td>1221</td>\n",
              "    </tr>\n",
              "    <tr>\n",
              "      <th>0087cf99a4636ebd9a0f66eaf98fde8bca977e2a274bc832cc903c3561735e9d</th>\n",
              "      <td>1,995.00</td>\n",
              "      <td>1200</td>\n",
              "    </tr>\n",
              "    <tr>\n",
              "      <th>...</th>\n",
              "      <td>...</td>\n",
              "      <td>...</td>\n",
              "    </tr>\n",
              "    <tr>\n",
              "      <th>ff2ccb6ba423d356bd549ed4bfb76e96976a0dcde05a09996a1cdb9f83422ec4</th>\n",
              "      <td>2,000.00</td>\n",
              "      <td>1724</td>\n",
              "    </tr>\n",
              "    <tr>\n",
              "      <th>ff5a1ae012afa5d4c889c50ad427aaf545d31a4fac04ffc1c4d03d403ba4250a</th>\n",
              "      <td>2,000.00</td>\n",
              "      <td>1856</td>\n",
              "    </tr>\n",
              "    <tr>\n",
              "      <th>ffa6059b954a4602a9fa1518d10ca6163bce3f9d4bd3ee51c860eb6c2da16675</th>\n",
              "      <td>2,003.00</td>\n",
              "      <td>1176</td>\n",
              "    </tr>\n",
              "    <tr>\n",
              "      <th>ffab53082b58bed639d2197c3b31c8771f61d58ec398645df95e3340d7bc6e28</th>\n",
              "      <td>1,997.00</td>\n",
              "      <td>1421</td>\n",
              "    </tr>\n",
              "    <tr>\n",
              "      <th>ffd560d182369b08a8b3ed35cfa5ee3cc50b5b5f093ece3139181709813896c3</th>\n",
              "      <td>1,998.00</td>\n",
              "      <td>1242</td>\n",
              "    </tr>\n",
              "  </tbody>\n",
              "</table>\n",
              "<p>1439 rows × 2 columns</p>\n",
              "</div>"
            ],
            "text/plain": [
              "                                                        age  cups\n",
              "id                                                               \n",
              "00037f39cf870a1f49129f9c82d935665d352ffd25ea329... 1,997.00  1211\n",
              "000f21ac06aceb9cdd0575e82d0d85fc39bed0a7a1d7197... 2,003.00  1559\n",
              "00328ce57bbc14b33bd6695bc8eb32cdf2fb5f3a7d89ec1... 1,996.00  1859\n",
              "0038263cc90dfa55d621a6425e46020136a318d12b97434... 1,996.00  1221\n",
              "0087cf99a4636ebd9a0f66eaf98fde8bca977e2a274bc83... 1,995.00  1200\n",
              "...                                                     ...   ...\n",
              "ff2ccb6ba423d356bd549ed4bfb76e96976a0dcde05a099... 2,000.00  1724\n",
              "ff5a1ae012afa5d4c889c50ad427aaf545d31a4fac04ffc... 2,000.00  1856\n",
              "ffa6059b954a4602a9fa1518d10ca6163bce3f9d4bd3ee5... 2,003.00  1176\n",
              "ffab53082b58bed639d2197c3b31c8771f61d58ec398645... 1,997.00  1421\n",
              "ffd560d182369b08a8b3ed35cfa5ee3cc50b5b5f093ece3... 1,998.00  1242\n",
              "\n",
              "[1439 rows x 2 columns]"
            ]
          },
          "execution_count": 76,
          "metadata": {},
          "output_type": "execute_result"
        }
      ],
      "source": [
        "cups = df.groupby('id').max('cups')\n",
        "cups"
      ]
    },
    {
      "cell_type": "code",
      "execution_count": null,
      "metadata": {
        "colab": {
          "base_uri": "https://localhost:8080/",
          "height": 355
        },
        "id": "ZOaG7X0khaP_",
        "outputId": "75f148a2-0198-4060-819e-4470531723fd"
      },
      "outputs": [
        {
          "data": {
            "image/png": "[encoded data removed]",
            "text/plain": [
              "<Figure size 720x360 with 1 Axes>"
            ]
          },
          "metadata": {
            "needs_background": "light"
          },
          "output_type": "display_data"
        }
      ],
      "source": [
        "fig = plt.figure(figsize = (10,5))\n",
        "\n",
        "sns.histplot(data = cups,\n",
        "             x = 'cups',)\n",
        "\n",
        "# agregamos una linea vertical que indica el promedio de copas que tienen los jugadores\n",
        "\n",
        "plt.axvline(x = cups.cups.mean(), \n",
        "           color = 'red',\n",
        "           label = 'Promedio')\n",
        "\n",
        "\n",
        "plt.legend()\n",
        "\n",
        "plt.show()"
      ]
    },
    {
      "cell_type": "markdown",
      "metadata": {
        "id": "kWPKBnTNhipL"
      },
      "source": [
        "Para obtener esta figura lo primero que hicimos fue agrupar los datos por id y luego calcular cual era el valor maximo para la columna cups. de esta manera el grafico muestra la distribucion del numero de copas ganas por los jugadores. ademas calculamos el promedio (1415)."
      ]
    },
    {
      "cell_type": "code",
      "execution_count": null,
      "metadata": {
        "colab": {
          "base_uri": "https://localhost:8080/"
        },
        "id": "UzvpingHhjCS",
        "outputId": "cbe09c10-642d-4dae-bdc0-ee243ffcd8ab"
      },
      "outputs": [
        {
          "data": {
            "text/plain": [
              "Argentina                2962277\n",
              "Venezuela                1312742\n",
              "NaN                        39077\n",
              "Philippines                30906\n",
              "Perú                       13912\n",
              "Ecuador                     9603\n",
              "venezuela                   8277\n",
              "argentina                   6359\n",
              "España                      4532\n",
              "Colombia                    3567\n",
              "Costa Rica                  2990\n",
              "Uruguay                     2827\n",
              "México                      2064\n",
              "Bolivia                     2021\n",
              "Venezuela - Maracaibo        889\n",
              "Cuba                         772\n",
              "Chile                        751\n",
              "Venenezuela                  295\n",
              "Argentino                    220\n",
              "colombia                     197\n",
              "ARGENTINA                    178\n",
              "De Venezuela                  36\n",
              "Name: country, dtype: int64"
            ]
          },
          "execution_count": 83,
          "metadata": {},
          "output_type": "execute_result"
        }
      ],
      "source": [
        "df.country.value_counts(dropna = False)"
      ]
    },
    {
      "cell_type": "code",
      "execution_count": null,
      "metadata": {
        "colab": {
          "base_uri": "https://localhost:8080/",
          "height": 662
        },
        "id": "VDIbldHehl8Q",
        "outputId": "2c0d12e5-c980-413a-a203-057ae3402ffa"
      },
      "outputs": [
        {
          "data": {
            "image/png": "[encoded data removed]",
            "text/plain": [
              "<Figure size 1008x720 with 1 Axes>"
            ]
          },
          "metadata": {
            "needs_background": "light"
          },
          "output_type": "display_data"
        }
      ],
      "source": [
        "from matplotlib import pyplot\n",
        "fig = plt.figure(figsize = (14,10))\n",
        "\n",
        "# esta variable nos va a servir para ordernar las barras de mayor a menor\n",
        "order = df.country.value_counts().index\n",
        "\n",
        "sns.countplot(data = df.fillna('NaN'),\n",
        "             y = 'country',\n",
        "             order = order,\n",
        "             orient = 'h', \n",
        "             color = 'steelblue')\n",
        "# definimos la escala del eje Y como logartimica porque hay mucha diferencia entre Argenitna, Venezuela y los demas paises\n",
        "plt.xscale('log')\n",
        "\n",
        "plt.tick_params(labeltop=True, top=True)\n",
        "\n",
        "plt.grid(which = 'major', axis = 'x', alpha = 0.4)\n",
        "\n",
        "#rotamos los labels del eje x 45 grados\n",
        "#plt.xticks(rotation = 45)\n",
        "\n",
        "plt.show()"
      ]
    },
    {
      "cell_type": "code",
      "execution_count": null,
      "metadata": {
        "colab": {
          "base_uri": "https://localhost:8080/",
          "height": 443
        },
        "id": "hlJTwRe8hyhp",
        "outputId": "cd0fa2ce-2861-4d23-d299-eb3cab99a322"
      },
      "outputs": [
        {
          "data": {
            "text/plain": [
              "(array([0, 1]), [Text(0, 0, 'f'), Text(1, 0, 't')])"
            ]
          },
          "execution_count": 85,
          "metadata": {},
          "output_type": "execute_result"
        },
        {
          "data": {
            "image/png": "[encoded data removed]",
            "text/plain": [
              "<Figure size 576x432 with 1 Axes>"
            ]
          },
          "metadata": {
            "needs_background": "light"
          },
          "output_type": "display_data"
        }
      ],
      "source": [
        "fig = plt.figure(figsize=(8,6))\n",
        "sns.countplot(x=df.has_studies)\n",
        "plt.xticks(rotation=45)"
      ]
    },
    {
      "cell_type": "markdown",
      "metadata": {
        "id": "xu_Tf55Gh7Eu"
      },
      "source": [
        "# Sección 4: (Opcional)"
      ]
    },
    {
      "cell_type": "markdown",
      "metadata": {
        "id": "-R7OxjEyh_Dx"
      },
      "source": [
        "En base al analisis realizado en las secciones anteriores las tareas a realizar la limpiar el dataset son:\n",
        "* Columna 'age': Cambiar nombre de columna a Year. Se puede generar una nueva columna que tenga la edad calculada a partir del anio.\n",
        "* Columna 'country': Estandarizar las diferentes veriones de nombres para cada pais.\n",
        "* Columna 'states': idem que con country"
      ]
    },
    {
      "cell_type": "code",
      "execution_count": null,
      "metadata": {
        "colab": {
          "base_uri": "https://localhost:8080/",
          "height": 206
        },
        "id": "AlUtVL8TiXtG",
        "outputId": "2a191023-e190-4aa3-b2e1-12b95f73c051"
      },
      "outputs": [
        {
          "data": {
            "text/html": [
              "<div>\n",
              "<style scoped>\n",
              "    .dataframe tbody tr th:only-of-type {\n",
              "        vertical-align: middle;\n",
              "    }\n",
              "\n",
              "    .dataframe tbody tr th {\n",
              "        vertical-align: top;\n",
              "    }\n",
              "\n",
              "    .dataframe thead th {\n",
              "        text-align: right;\n",
              "    }\n",
              "</style>\n",
              "<table border=\"1\" class=\"dataframe\">\n",
              "  <thead>\n",
              "    <tr style=\"text-align: right;\">\n",
              "      <th></th>\n",
              "      <th>id</th>\n",
              "      <th>datetime</th>\n",
              "      <th>has_studies</th>\n",
              "      <th>gender</th>\n",
              "      <th>country</th>\n",
              "      <th>state</th>\n",
              "      <th>birth</th>\n",
              "      <th>cups</th>\n",
              "    </tr>\n",
              "  </thead>\n",
              "  <tbody>\n",
              "    <tr>\n",
              "      <th>0</th>\n",
              "      <td>5316ca1c5ddca8e6ceccfce58f3b8540e540ee22f6180f...</td>\n",
              "      <td>2021-11-08 14:05:15</td>\n",
              "      <td>f</td>\n",
              "      <td>Hombre</td>\n",
              "      <td>Argentina</td>\n",
              "      <td>Santa Fe</td>\n",
              "      <td>1,997.00</td>\n",
              "      <td>1268</td>\n",
              "    </tr>\n",
              "    <tr>\n",
              "      <th>1</th>\n",
              "      <td>bbb965ab0c80d6538cf2184babad2a564a010376712012...</td>\n",
              "      <td>2021-11-08 14:05:16</td>\n",
              "      <td>t</td>\n",
              "      <td>Hombre</td>\n",
              "      <td>Argentina</td>\n",
              "      <td>Santa fe</td>\n",
              "      <td>1,999.00</td>\n",
              "      <td>1212</td>\n",
              "    </tr>\n",
              "    <tr>\n",
              "      <th>2</th>\n",
              "      <td>b4944c6ff08dc6f43da2e9c824669b7d927dd1fa976fad...</td>\n",
              "      <td>2021-11-08 14:05:16</td>\n",
              "      <td>f</td>\n",
              "      <td>Hombre</td>\n",
              "      <td>Argentina</td>\n",
              "      <td>Entre Rios</td>\n",
              "      <td>2,003.00</td>\n",
              "      <td>1343</td>\n",
              "    </tr>\n",
              "    <tr>\n",
              "      <th>3</th>\n",
              "      <td>434c9b5ae514646bbd91b50032ca579efec8f22bf0b4aa...</td>\n",
              "      <td>2021-11-08 14:05:16</td>\n",
              "      <td>t</td>\n",
              "      <td>Hombre</td>\n",
              "      <td>Venezuela</td>\n",
              "      <td>Aragua</td>\n",
              "      <td>2,000.00</td>\n",
              "      <td>1237</td>\n",
              "    </tr>\n",
              "    <tr>\n",
              "      <th>4</th>\n",
              "      <td>cd70bea023f752a0564abb6ed08d42c1440f2e33e29914...</td>\n",
              "      <td>2021-11-08 14:05:16</td>\n",
              "      <td>t</td>\n",
              "      <td>Hombre</td>\n",
              "      <td>Venezuela</td>\n",
              "      <td>Carabobo</td>\n",
              "      <td>2,000.00</td>\n",
              "      <td>1191</td>\n",
              "    </tr>\n",
              "  </tbody>\n",
              "</table>\n",
              "</div>"
            ],
            "text/plain": [
              "                                                  id            datetime  \\\n",
              "0  5316ca1c5ddca8e6ceccfce58f3b8540e540ee22f6180f... 2021-11-08 14:05:15   \n",
              "1  bbb965ab0c80d6538cf2184babad2a564a010376712012... 2021-11-08 14:05:16   \n",
              "2  b4944c6ff08dc6f43da2e9c824669b7d927dd1fa976fad... 2021-11-08 14:05:16   \n",
              "3  434c9b5ae514646bbd91b50032ca579efec8f22bf0b4aa... 2021-11-08 14:05:16   \n",
              "4  cd70bea023f752a0564abb6ed08d42c1440f2e33e29914... 2021-11-08 14:05:16   \n",
              "\n",
              "  has_studies  gender    country       state    birth  cups  \n",
              "0           f  Hombre  Argentina    Santa Fe 1,997.00  1268  \n",
              "1           t  Hombre  Argentina    Santa fe 1,999.00  1212  \n",
              "2           f  Hombre  Argentina  Entre Rios 2,003.00  1343  \n",
              "3           t  Hombre  Venezuela      Aragua 2,000.00  1237  \n",
              "4           t  Hombre  Venezuela    Carabobo 2,000.00  1191  "
            ]
          },
          "execution_count": 87,
          "metadata": {},
          "output_type": "execute_result"
        }
      ],
      "source": [
        "df.rename(columns = {'age':'birth'}, inplace = True)\n",
        "df.head()"
      ]
    },
    {
      "cell_type": "code",
      "execution_count": null,
      "metadata": {
        "colab": {
          "base_uri": "https://localhost:8080/"
        },
        "id": "ICDKuoiniabV",
        "outputId": "5091695c-c7b8-431d-a710-6c4aef08bdbf"
      },
      "outputs": [
        {
          "data": {
            "text/plain": [
              "3.00           678\n",
              "91.00        19199\n",
              "97.00         9167\n",
              "99.00         2611\n",
              "200.00         195\n",
              "1,959.00      1555\n",
              "1,961.00      1404\n",
              "1,963.00       429\n",
              "1,966.00      2516\n",
              "1,967.00       752\n",
              "1,968.00      4233\n",
              "1,970.00       975\n",
              "1,972.00      4028\n",
              "1,973.00     14713\n",
              "1,974.00      3295\n",
              "1,975.00      1112\n",
              "1,976.00       240\n",
              "1,977.00       451\n",
              "1,978.00      2576\n",
              "1,979.00      7308\n",
              "1,980.00     11931\n",
              "1,981.00      4227\n",
              "1,982.00      5763\n",
              "1,983.00      5703\n",
              "1,984.00      5048\n",
              "1,985.00      7816\n",
              "1,986.00     17367\n",
              "1,987.00     10587\n",
              "1,988.00      9155\n",
              "1,989.00     45964\n",
              "1,990.00     68330\n",
              "1,991.00    178418\n",
              "1,992.00    117665\n",
              "1,993.00    130687\n",
              "1,994.00    223776\n",
              "1,995.00    244079\n",
              "1,996.00    320012\n",
              "1,997.00    348563\n",
              "1,998.00    365273\n",
              "1,999.00    599284\n",
              "2,000.00    564774\n",
              "2,001.00    392502\n",
              "2,002.00    286027\n",
              "2,003.00    293785\n",
              "2,004.00      8920\n",
              "2,005.00     14851\n",
              "2,009.00       603\n",
              "2,021.00      6370\n",
              "2,022.00       498\n",
              "nan          39077\n",
              "Name: birth, dtype: int64"
            ]
          },
          "execution_count": 88,
          "metadata": {},
          "output_type": "execute_result"
        }
      ],
      "source": [
        "df.birth.value_counts(dropna=False).sort_index()"
      ]
    },
    {
      "cell_type": "code",
      "execution_count": null,
      "metadata": {
        "id": "qOGX6BInic25"
      },
      "outputs": [],
      "source": [
        "replacement_mapping_dict = {3:2003, \n",
        "                            91:1991,\n",
        "                            97:1997,\n",
        "                            99:1999,\n",
        "                            200:2000\n",
        "                           }\n",
        "\n",
        "df.birth.replace(replacement_mapping_dict, inplace = True)"
      ]
    },
    {
      "cell_type": "code",
      "execution_count": null,
      "metadata": {
        "colab": {
          "base_uri": "https://localhost:8080/"
        },
        "id": "w1ZkpaKbifvy",
        "outputId": "589c60b9-e6ba-43f2-8857-1745f5fd855a"
      },
      "outputs": [
        {
          "data": {
            "text/plain": [
              "1,959.00      1555\n",
              "1,961.00      1404\n",
              "1,963.00       429\n",
              "1,966.00      2516\n",
              "1,967.00       752\n",
              "1,968.00      4233\n",
              "1,970.00       975\n",
              "1,972.00      4028\n",
              "1,973.00     14713\n",
              "1,974.00      3295\n",
              "1,975.00      1112\n",
              "1,976.00       240\n",
              "1,977.00       451\n",
              "1,978.00      2576\n",
              "1,979.00      7308\n",
              "1,980.00     11931\n",
              "1,981.00      4227\n",
              "1,982.00      5763\n",
              "1,983.00      5703\n",
              "1,984.00      5048\n",
              "1,985.00      7816\n",
              "1,986.00     17367\n",
              "1,987.00     10587\n",
              "1,988.00      9155\n",
              "1,989.00     45964\n",
              "1,990.00     68330\n",
              "1,991.00    197617\n",
              "1,992.00    117665\n",
              "1,993.00    130687\n",
              "1,994.00    223776\n",
              "1,995.00    244079\n",
              "1,996.00    320012\n",
              "1,997.00    357730\n",
              "1,998.00    365273\n",
              "1,999.00    601895\n",
              "2,000.00    564969\n",
              "2,001.00    392502\n",
              "2,002.00    286027\n",
              "2,003.00    294463\n",
              "2,004.00      8920\n",
              "2,005.00     14851\n",
              "2,009.00       603\n",
              "2,021.00      6370\n",
              "2,022.00       498\n",
              "nan          39077\n",
              "Name: birth, dtype: int64"
            ]
          },
          "execution_count": 90,
          "metadata": {},
          "output_type": "execute_result"
        }
      ],
      "source": [
        "df.birth.value_counts(dropna=False).sort_index()"
      ]
    },
    {
      "cell_type": "markdown",
      "metadata": {
        "id": "PnClEhAXii6T"
      },
      "source": [
        "Con este bloque confirmamos que las modificaciones sobre la columa birth (antes age) se realizaron correctamente."
      ]
    },
    {
      "cell_type": "code",
      "execution_count": null,
      "metadata": {
        "colab": {
          "base_uri": "https://localhost:8080/"
        },
        "id": "CPv4ODuBijga",
        "outputId": "3f907ec7-b355-44c3-a372-1343a97a191a"
      },
      "outputs": [
        {
          "data": {
            "text/plain": [
              "ARGENTINA                    178\n",
              "Argentina                2962277\n",
              "Argentino                    220\n",
              "Bolivia                     2021\n",
              "Chile                        751\n",
              "Colombia                    3567\n",
              "Costa Rica                  2990\n",
              "Cuba                         772\n",
              "De Venezuela                  36\n",
              "Ecuador                     9603\n",
              "España                      4532\n",
              "México                      2064\n",
              "Perú                       13912\n",
              "Philippines                30906\n",
              "Uruguay                     2827\n",
              "Venenezuela                  295\n",
              "Venezuela                1312742\n",
              "Venezuela - Maracaibo        889\n",
              "argentina                   6359\n",
              "colombia                     197\n",
              "venezuela                   8277\n",
              "NaN                        39077\n",
              "Name: country, dtype: int64"
            ]
          },
          "execution_count": 91,
          "metadata": {},
          "output_type": "execute_result"
        }
      ],
      "source": [
        "df.country.value_counts(dropna=False).sort_index()"
      ]
    },
    {
      "cell_type": "code",
      "execution_count": null,
      "metadata": {
        "id": "7p3r9bifim5j"
      },
      "outputs": [],
      "source": [
        "# este bloque realiza el cambio de nombres de los paises.\n",
        "#Argenitna\n",
        "df.country.replace(to_replace = ['ARGENTINA', 'Argentino', 'argentina'], \n",
        "                   value = 'Argentina',\n",
        "                   inplace = True)\n",
        "#Venezuela\n",
        "df.country.replace(to_replace = ['De Venezuela', 'Venenezuela', 'Venezuela - Maracaibo', 'venezuela'],\n",
        "                   value = 'Venezuela',\n",
        "                   inplace = True)\n",
        "#Colombia\n",
        "df.country.replace(to_replace = 'colombia',\n",
        "                   value = 'Colombia',\n",
        "                   inplace = True)\n",
        "#Filipinas\n",
        "df.country.replace(to_replace = 'Philippines',\n",
        "                   value = 'Filipinas',\n",
        "                   inplace = True)\n",
        "#Mejico. Cambiamos 'x' por 'j' para que quede en castellano y le scamos la tilde para evitar problemas despues.\n",
        "df.country.replace(to_replace = 'México',\n",
        "                   value = 'Mejico',\n",
        "                   inplace = True)\n",
        "#Peru. Le sacamos la tilde\n",
        "df.country.replace(to_replace = 'Perú',\n",
        "                   value = 'Peru',\n",
        "                   inplace = True)"
      ]
    },
    {
      "cell_type": "code",
      "execution_count": null,
      "metadata": {
        "colab": {
          "base_uri": "https://localhost:8080/"
        },
        "id": "RGNEpr2GipEi",
        "outputId": "98f1adf3-1b96-4c48-a672-b68d89b057ba"
      },
      "outputs": [
        {
          "data": {
            "text/plain": [
              "Argentina     2969034\n",
              "Bolivia          2021\n",
              "Chile             751\n",
              "Colombia         3764\n",
              "Costa Rica       2990\n",
              "Cuba              772\n",
              "Ecuador          9603\n",
              "España           4532\n",
              "Filipinas       30906\n",
              "Mejico           2064\n",
              "Peru            13912\n",
              "Uruguay          2827\n",
              "Venezuela     1322239\n",
              "NaN             39077\n",
              "Name: country, dtype: int64"
            ]
          },
          "execution_count": 93,
          "metadata": {},
          "output_type": "execute_result"
        }
      ],
      "source": [
        "df.country.value_counts(dropna=False).sort_index()"
      ]
    },
    {
      "cell_type": "markdown",
      "metadata": {
        "id": "zX50A9zjiq-4"
      },
      "source": [
        "Con este ultimo boque confirmamos que se realizaron las modificaciones de los nombres de los paises."
      ]
    },
    {
      "cell_type": "code",
      "execution_count": null,
      "metadata": {
        "colab": {
          "base_uri": "https://localhost:8080/",
          "height": 1000
        },
        "id": "n7uU2WxCirT-",
        "outputId": "e3e72dcb-c122-4228-8cc7-e9d6b3738ba4"
      },
      "outputs": [
        {
          "data": {
            "text/html": [
              "<div>\n",
              "<style scoped>\n",
              "    .dataframe tbody tr th:only-of-type {\n",
              "        vertical-align: middle;\n",
              "    }\n",
              "\n",
              "    .dataframe tbody tr th {\n",
              "        vertical-align: top;\n",
              "    }\n",
              "\n",
              "    .dataframe thead th {\n",
              "        text-align: right;\n",
              "    }\n",
              "</style>\n",
              "<table border=\"1\" class=\"dataframe\">\n",
              "  <thead>\n",
              "    <tr style=\"text-align: right;\">\n",
              "      <th></th>\n",
              "      <th>state</th>\n",
              "    </tr>\n",
              "  </thead>\n",
              "  <tbody>\n",
              "    <tr>\n",
              "      <th>BUENOS AIRES</th>\n",
              "      <td>178</td>\n",
              "    </tr>\n",
              "    <tr>\n",
              "      <th>Bs as</th>\n",
              "      <td>2108</td>\n",
              "    </tr>\n",
              "    <tr>\n",
              "      <th>Bs.as</th>\n",
              "      <td>10367</td>\n",
              "    </tr>\n",
              "    <tr>\n",
              "      <th>Buenas Aires</th>\n",
              "      <td>2219</td>\n",
              "    </tr>\n",
              "    <tr>\n",
              "      <th>Bueno Aires</th>\n",
              "      <td>18240</td>\n",
              "    </tr>\n",
              "    <tr>\n",
              "      <th>Buenoas Aires</th>\n",
              "      <td>1069</td>\n",
              "    </tr>\n",
              "    <tr>\n",
              "      <th>Buenos Aires</th>\n",
              "      <td>926677</td>\n",
              "    </tr>\n",
              "    <tr>\n",
              "      <th>Buenos aires</th>\n",
              "      <td>343018</td>\n",
              "    </tr>\n",
              "    <tr>\n",
              "      <th>Burnos Aires</th>\n",
              "      <td>55</td>\n",
              "    </tr>\n",
              "    <tr>\n",
              "      <th>C.A.B.A</th>\n",
              "      <td>13559</td>\n",
              "    </tr>\n",
              "    <tr>\n",
              "      <th>CABA</th>\n",
              "      <td>37553</td>\n",
              "    </tr>\n",
              "    <tr>\n",
              "      <th>Caba</th>\n",
              "      <td>1674</td>\n",
              "    </tr>\n",
              "    <tr>\n",
              "      <th>Capital Federal</th>\n",
              "      <td>7163</td>\n",
              "    </tr>\n",
              "    <tr>\n",
              "      <th>Catamarca</th>\n",
              "      <td>7014</td>\n",
              "    </tr>\n",
              "    <tr>\n",
              "      <th>Chaco</th>\n",
              "      <td>62952</td>\n",
              "    </tr>\n",
              "    <tr>\n",
              "      <th>Chubut</th>\n",
              "      <td>20094</td>\n",
              "    </tr>\n",
              "    <tr>\n",
              "      <th>Ciudad Autónoma de Buenos Aires</th>\n",
              "      <td>403</td>\n",
              "    </tr>\n",
              "    <tr>\n",
              "      <th>Ciudad autónoma de Buenos Aires</th>\n",
              "      <td>9846</td>\n",
              "    </tr>\n",
              "    <tr>\n",
              "      <th>Ciudad de Buenos Aires</th>\n",
              "      <td>857</td>\n",
              "    </tr>\n",
              "    <tr>\n",
              "      <th>Ciudad de Buenos aires</th>\n",
              "      <td>12191</td>\n",
              "    </tr>\n",
              "    <tr>\n",
              "      <th>Cordoba</th>\n",
              "      <td>100682</td>\n",
              "    </tr>\n",
              "    <tr>\n",
              "      <th>Corrientes</th>\n",
              "      <td>18698</td>\n",
              "    </tr>\n",
              "    <tr>\n",
              "      <th>Córdoba</th>\n",
              "      <td>110813</td>\n",
              "    </tr>\n",
              "    <tr>\n",
              "      <th>Entre Rios</th>\n",
              "      <td>32532</td>\n",
              "    </tr>\n",
              "    <tr>\n",
              "      <th>Entre Ríos</th>\n",
              "      <td>75640</td>\n",
              "    </tr>\n",
              "    <tr>\n",
              "      <th>Entre rios</th>\n",
              "      <td>21380</td>\n",
              "    </tr>\n",
              "    <tr>\n",
              "      <th>Entre ríos</th>\n",
              "      <td>12724</td>\n",
              "    </tr>\n",
              "    <tr>\n",
              "      <th>Formosa</th>\n",
              "      <td>882</td>\n",
              "    </tr>\n",
              "    <tr>\n",
              "      <th>Jujuy</th>\n",
              "      <td>13570</td>\n",
              "    </tr>\n",
              "    <tr>\n",
              "      <th>La Rioja</th>\n",
              "      <td>354</td>\n",
              "    </tr>\n",
              "    <tr>\n",
              "      <th>Mar del plata</th>\n",
              "      <td>2199</td>\n",
              "    </tr>\n",
              "    <tr>\n",
              "      <th>Mendoza</th>\n",
              "      <td>83152</td>\n",
              "    </tr>\n",
              "    <tr>\n",
              "      <th>Misiones</th>\n",
              "      <td>3447</td>\n",
              "    </tr>\n",
              "    <tr>\n",
              "      <th>Neuquen</th>\n",
              "      <td>30963</td>\n",
              "    </tr>\n",
              "    <tr>\n",
              "      <th>Neuquén</th>\n",
              "      <td>15062</td>\n",
              "    </tr>\n",
              "    <tr>\n",
              "      <th>Pilar</th>\n",
              "      <td>6260</td>\n",
              "    </tr>\n",
              "    <tr>\n",
              "      <th>Rio Negro</th>\n",
              "      <td>13582</td>\n",
              "    </tr>\n",
              "    <tr>\n",
              "      <th>Rio negro</th>\n",
              "      <td>9558</td>\n",
              "    </tr>\n",
              "    <tr>\n",
              "      <th>Río negro</th>\n",
              "      <td>3194</td>\n",
              "    </tr>\n",
              "    <tr>\n",
              "      <th>Salta</th>\n",
              "      <td>19427</td>\n",
              "    </tr>\n",
              "    <tr>\n",
              "      <th>Salta Capital</th>\n",
              "      <td>219</td>\n",
              "    </tr>\n",
              "    <tr>\n",
              "      <th>San Juan</th>\n",
              "      <td>5677</td>\n",
              "    </tr>\n",
              "    <tr>\n",
              "      <th>San Luis</th>\n",
              "      <td>8586</td>\n",
              "    </tr>\n",
              "    <tr>\n",
              "      <th>San luis</th>\n",
              "      <td>8995</td>\n",
              "    </tr>\n",
              "    <tr>\n",
              "      <th>San salvador de jujuy</th>\n",
              "      <td>4402</td>\n",
              "    </tr>\n",
              "    <tr>\n",
              "      <th>Santa Cruz</th>\n",
              "      <td>4827</td>\n",
              "    </tr>\n",
              "    <tr>\n",
              "      <th>Santa Fe</th>\n",
              "      <td>383791</td>\n",
              "    </tr>\n",
              "    <tr>\n",
              "      <th>Santa Fé</th>\n",
              "      <td>5707</td>\n",
              "    </tr>\n",
              "    <tr>\n",
              "      <th>Santa cruz</th>\n",
              "      <td>5342</td>\n",
              "    </tr>\n",
              "    <tr>\n",
              "      <th>Santa fa</th>\n",
              "      <td>926</td>\n",
              "    </tr>\n",
              "    <tr>\n",
              "      <th>Santa fe</th>\n",
              "      <td>172305</td>\n",
              "    </tr>\n",
              "    <tr>\n",
              "      <th>Santa fé</th>\n",
              "      <td>3652</td>\n",
              "    </tr>\n",
              "    <tr>\n",
              "      <th>Santafe</th>\n",
              "      <td>11701</td>\n",
              "    </tr>\n",
              "    <tr>\n",
              "      <th>Santaigo del Estero</th>\n",
              "      <td>6342</td>\n",
              "    </tr>\n",
              "    <tr>\n",
              "      <th>Santiago Del Estero</th>\n",
              "      <td>177</td>\n",
              "    </tr>\n",
              "    <tr>\n",
              "      <th>Santiago del Estero</th>\n",
              "      <td>54965</td>\n",
              "    </tr>\n",
              "    <tr>\n",
              "      <th>Santiago del estero</th>\n",
              "      <td>6032</td>\n",
              "    </tr>\n",
              "    <tr>\n",
              "      <th>Tierra Del Fuego</th>\n",
              "      <td>269</td>\n",
              "    </tr>\n",
              "    <tr>\n",
              "      <th>Tierra del Fuego</th>\n",
              "      <td>14611</td>\n",
              "    </tr>\n",
              "    <tr>\n",
              "      <th>Tierra del fuego</th>\n",
              "      <td>1254</td>\n",
              "    </tr>\n",
              "    <tr>\n",
              "      <th>Tigre</th>\n",
              "      <td>533</td>\n",
              "    </tr>\n",
              "    <tr>\n",
              "      <th>Tucuman</th>\n",
              "      <td>5824</td>\n",
              "    </tr>\n",
              "    <tr>\n",
              "      <th>Tucumán</th>\n",
              "      <td>22642</td>\n",
              "    </tr>\n",
              "    <tr>\n",
              "      <th>buenos aires</th>\n",
              "      <td>58392</td>\n",
              "    </tr>\n",
              "    <tr>\n",
              "      <th>buenos aries</th>\n",
              "      <td>1479</td>\n",
              "    </tr>\n",
              "    <tr>\n",
              "      <th>caba</th>\n",
              "      <td>3246</td>\n",
              "    </tr>\n",
              "    <tr>\n",
              "      <th>capital federal</th>\n",
              "      <td>927</td>\n",
              "    </tr>\n",
              "    <tr>\n",
              "      <th>cordoba</th>\n",
              "      <td>10346</td>\n",
              "    </tr>\n",
              "    <tr>\n",
              "      <th>entre rios</th>\n",
              "      <td>1314</td>\n",
              "    </tr>\n",
              "    <tr>\n",
              "      <th>entre ríos</th>\n",
              "      <td>4481</td>\n",
              "    </tr>\n",
              "    <tr>\n",
              "      <th>la Rioja</th>\n",
              "      <td>10894</td>\n",
              "    </tr>\n",
              "    <tr>\n",
              "      <th>la pampa</th>\n",
              "      <td>4565</td>\n",
              "    </tr>\n",
              "    <tr>\n",
              "      <th>la rioja</th>\n",
              "      <td>6191</td>\n",
              "    </tr>\n",
              "    <tr>\n",
              "      <th>santa cruz</th>\n",
              "      <td>473</td>\n",
              "    </tr>\n",
              "    <tr>\n",
              "      <th>santa fe</th>\n",
              "      <td>60347</td>\n",
              "    </tr>\n",
              "    <tr>\n",
              "      <th>santiago del estero</th>\n",
              "      <td>6235</td>\n",
              "    </tr>\n",
              "    <tr>\n",
              "      <th>NaN</th>\n",
              "      <td>20009</td>\n",
              "    </tr>\n",
              "  </tbody>\n",
              "</table>\n",
              "</div>"
            ],
            "text/plain": [
              "                                  state\n",
              "BUENOS AIRES                        178\n",
              "Bs as                              2108\n",
              "Bs.as                             10367\n",
              "Buenas Aires                       2219\n",
              "Bueno Aires                       18240\n",
              "Buenoas Aires                      1069\n",
              "Buenos Aires                     926677\n",
              "Buenos aires                     343018\n",
              "Burnos Aires                         55\n",
              "C.A.B.A                           13559\n",
              "CABA                              37553\n",
              "Caba                               1674\n",
              "Capital Federal                    7163\n",
              "Catamarca                          7014\n",
              "Chaco                             62952\n",
              "Chubut                            20094\n",
              "Ciudad Autónoma de Buenos Aires     403\n",
              "Ciudad autónoma de Buenos Aires    9846\n",
              "Ciudad de Buenos Aires              857\n",
              "Ciudad de Buenos aires            12191\n",
              "Cordoba                          100682\n",
              "Corrientes                        18698\n",
              "Córdoba                          110813\n",
              "Entre Rios                        32532\n",
              "Entre Ríos                        75640\n",
              "Entre rios                        21380\n",
              "Entre ríos                        12724\n",
              "Formosa                             882\n",
              "Jujuy                             13570\n",
              "La Rioja                            354\n",
              "Mar del plata                      2199\n",
              "Mendoza                           83152\n",
              "Misiones                           3447\n",
              "Neuquen                           30963\n",
              "Neuquén                           15062\n",
              "Pilar                              6260\n",
              "Rio Negro                         13582\n",
              "Rio negro                          9558\n",
              "Río negro                          3194\n",
              "Salta                             19427\n",
              "Salta Capital                       219\n",
              "San Juan                           5677\n",
              "San Luis                           8586\n",
              "San luis                           8995\n",
              "San salvador de jujuy              4402\n",
              "Santa Cruz                         4827\n",
              "Santa Fe                         383791\n",
              "Santa Fé                           5707\n",
              "Santa cruz                         5342\n",
              "Santa fa                            926\n",
              "Santa fe                         172305\n",
              "Santa fé                           3652\n",
              "Santafe                           11701\n",
              "Santaigo del Estero                6342\n",
              "Santiago Del Estero                 177\n",
              "Santiago del Estero               54965\n",
              "Santiago del estero                6032\n",
              "Tierra Del Fuego                    269\n",
              "Tierra del Fuego                  14611\n",
              "Tierra del fuego                   1254\n",
              "Tigre                               533\n",
              "Tucuman                            5824\n",
              "Tucumán                           22642\n",
              "buenos aires                      58392\n",
              "buenos aries                       1479\n",
              "caba                               3246\n",
              "capital federal                     927\n",
              "cordoba                           10346\n",
              "entre rios                         1314\n",
              "entre ríos                         4481\n",
              "la Rioja                          10894\n",
              "la pampa                           4565\n",
              "la rioja                           6191\n",
              "santa cruz                          473\n",
              "santa fe                          60347\n",
              "santiago del estero                6235\n",
              "NaN                               20009"
            ]
          },
          "execution_count": 94,
          "metadata": {},
          "output_type": "execute_result"
        }
      ],
      "source": [
        "arg_states = df.state[df.country == 'Argentina'].value_counts(dropna=False).sort_index().to_frame()\n",
        "pd.options.display.max_rows = 100\n",
        "arg_states\n",
        " "
      ]
    },
    {
      "cell_type": "code",
      "execution_count": null,
      "metadata": {
        "id": "zQsdiCkDiw8J"
      },
      "outputs": [],
      "source": [
        "#Argenitna\n",
        "# A las ciudades que tienen nombres con tilde los reemplazamos por el nombre sin tilde.\n",
        "\n",
        "la_pampa = ('la pampa')\n",
        "\n",
        "la_rioja = ('la Rioja',\n",
        "           'la rioja')\n",
        "\n",
        "tucuman = ('Tucumán')\n",
        "\n",
        "tierra_del_fuego = ('Tierra Del Fuego',\n",
        "               'Tierra del fuego')\n",
        "\n",
        "santiago_del_estero = ('Santiago Del Estero',\n",
        "                'Santaigo del Estero',\n",
        "                'Santiago del estero',\n",
        "               'santiago del estero')\n",
        "\n",
        "santa_fe = ('Santa Fé',\n",
        "       'Santa fa',\n",
        "        'Santa fe',\n",
        "        'Santa fé',\n",
        "        'Santafe',\n",
        "       'santa fe')\n",
        "\n",
        "santa_cruz = ('Santa cruz',\n",
        "         'santa cruz')\n",
        "\n",
        "san_salvador_de_jujuy = ('San salvador de jujuy')\n",
        "\n",
        "san_luis = ('San luis')\n",
        "\n",
        "rio_negro = ('Rio negro',\n",
        "          'Río negro')\n",
        "\n",
        "neuquen = ('Neuquén')\n",
        "\n",
        "entre_rios = ('Entre Ríos',\n",
        "          'Entre rios',\n",
        "          'Entre ríos',\n",
        "         'entre rios',\n",
        "         'entre ríos')\n",
        "\n",
        "cordoba = ('Córdoba',\n",
        "       'cordoba')\n",
        "\n",
        "\n",
        "buenos_aires = ('BUENOS AIRES',\n",
        "              'Bs as',\n",
        "              'Bs.as',\n",
        "              'Buenas Aires',\n",
        "              'Bueno Aires',\n",
        "              'Buenoas Aires',\n",
        "              'Buenos aires',\n",
        "              'Burnos Aires',\n",
        "        'buenos aires',\n",
        "        'buenos aries')\n",
        "\n",
        "caba = ('C.A.B.A',\n",
        "        'Caba',\n",
        "        'Capital Federal',\n",
        "        'Ciudad Autónoma de Buenos Aires',\n",
        "        'Ciudad autónoma de Buenos Aires',\n",
        "        'Ciudad de Buenos Aires',\n",
        "        'Ciudad de Buenos aires',\n",
        "       'caba',\n",
        "       'capital federal')\n",
        "\n",
        "replace_dic = {la_pampa: 'La Pampa', la_rioja : 'La Rioja', tucuman : 'Tucuman', tierra_del_fuego : 'Tierra del Fuego',\n",
        "                santiago_del_estero : 'Santiago del Estero', santa_fe : 'Santa Fe', santa_cruz: 'Santa Cruz', \n",
        "                san_salvador_de_jujuy : 'San Salvador de Jujuy', san_luis : 'San Luis', rio_negro : 'Rio Negro',\n",
        "                neuquen : 'Neuquen', entre_rios : 'Entre Rios', cordoba : 'Cordoba', buenos_aires : 'Buenos Aires',\n",
        "                caba : 'CABA'}"
      ]
    },
    {
      "cell_type": "code",
      "execution_count": null,
      "metadata": {
        "id": "EJrV-Loui8tE"
      },
      "outputs": [],
      "source": [
        "for replace, city in replace_dic.items():\n",
        "    df.state.replace(to_replace = replace, \n",
        "                   value = city,\n",
        "                   inplace = True)"
      ]
    },
    {
      "cell_type": "code",
      "execution_count": null,
      "metadata": {
        "colab": {
          "base_uri": "https://localhost:8080/",
          "height": 990
        },
        "id": "muhSKlYwi-R0",
        "outputId": "a1b1d29b-3f43-4b18-f9a7-05651b744166"
      },
      "outputs": [
        {
          "data": {
            "text/html": [
              "<div>\n",
              "<style scoped>\n",
              "    .dataframe tbody tr th:only-of-type {\n",
              "        vertical-align: middle;\n",
              "    }\n",
              "\n",
              "    .dataframe tbody tr th {\n",
              "        vertical-align: top;\n",
              "    }\n",
              "\n",
              "    .dataframe thead th {\n",
              "        text-align: right;\n",
              "    }\n",
              "</style>\n",
              "<table border=\"1\" class=\"dataframe\">\n",
              "  <thead>\n",
              "    <tr style=\"text-align: right;\">\n",
              "      <th></th>\n",
              "      <th>state</th>\n",
              "    </tr>\n",
              "  </thead>\n",
              "  <tbody>\n",
              "    <tr>\n",
              "      <th>Buenos Aires</th>\n",
              "      <td>1363802</td>\n",
              "    </tr>\n",
              "    <tr>\n",
              "      <th>CABA</th>\n",
              "      <td>87419</td>\n",
              "    </tr>\n",
              "    <tr>\n",
              "      <th>Catamarca</th>\n",
              "      <td>7014</td>\n",
              "    </tr>\n",
              "    <tr>\n",
              "      <th>Chaco</th>\n",
              "      <td>62952</td>\n",
              "    </tr>\n",
              "    <tr>\n",
              "      <th>Chubut</th>\n",
              "      <td>20094</td>\n",
              "    </tr>\n",
              "    <tr>\n",
              "      <th>Cordoba</th>\n",
              "      <td>221841</td>\n",
              "    </tr>\n",
              "    <tr>\n",
              "      <th>Corrientes</th>\n",
              "      <td>18698</td>\n",
              "    </tr>\n",
              "    <tr>\n",
              "      <th>Entre Rios</th>\n",
              "      <td>148071</td>\n",
              "    </tr>\n",
              "    <tr>\n",
              "      <th>Formosa</th>\n",
              "      <td>882</td>\n",
              "    </tr>\n",
              "    <tr>\n",
              "      <th>Jujuy</th>\n",
              "      <td>13570</td>\n",
              "    </tr>\n",
              "    <tr>\n",
              "      <th>La Pampa</th>\n",
              "      <td>4565</td>\n",
              "    </tr>\n",
              "    <tr>\n",
              "      <th>La Rioja</th>\n",
              "      <td>17439</td>\n",
              "    </tr>\n",
              "    <tr>\n",
              "      <th>Mar del plata</th>\n",
              "      <td>2199</td>\n",
              "    </tr>\n",
              "    <tr>\n",
              "      <th>Mendoza</th>\n",
              "      <td>83152</td>\n",
              "    </tr>\n",
              "    <tr>\n",
              "      <th>Misiones</th>\n",
              "      <td>3447</td>\n",
              "    </tr>\n",
              "    <tr>\n",
              "      <th>Neuquen</th>\n",
              "      <td>46025</td>\n",
              "    </tr>\n",
              "    <tr>\n",
              "      <th>Pilar</th>\n",
              "      <td>6260</td>\n",
              "    </tr>\n",
              "    <tr>\n",
              "      <th>Rio Negro</th>\n",
              "      <td>26334</td>\n",
              "    </tr>\n",
              "    <tr>\n",
              "      <th>Salta</th>\n",
              "      <td>19427</td>\n",
              "    </tr>\n",
              "    <tr>\n",
              "      <th>Salta Capital</th>\n",
              "      <td>219</td>\n",
              "    </tr>\n",
              "    <tr>\n",
              "      <th>San Juan</th>\n",
              "      <td>5677</td>\n",
              "    </tr>\n",
              "    <tr>\n",
              "      <th>San Luis</th>\n",
              "      <td>17581</td>\n",
              "    </tr>\n",
              "    <tr>\n",
              "      <th>San Salvador de Jujuy</th>\n",
              "      <td>4402</td>\n",
              "    </tr>\n",
              "    <tr>\n",
              "      <th>Santa Cruz</th>\n",
              "      <td>10642</td>\n",
              "    </tr>\n",
              "    <tr>\n",
              "      <th>Santa Fe</th>\n",
              "      <td>638429</td>\n",
              "    </tr>\n",
              "    <tr>\n",
              "      <th>Santiago del Estero</th>\n",
              "      <td>73751</td>\n",
              "    </tr>\n",
              "    <tr>\n",
              "      <th>Tierra del Fuego</th>\n",
              "      <td>16134</td>\n",
              "    </tr>\n",
              "    <tr>\n",
              "      <th>Tigre</th>\n",
              "      <td>533</td>\n",
              "    </tr>\n",
              "    <tr>\n",
              "      <th>Tucuman</th>\n",
              "      <td>28466</td>\n",
              "    </tr>\n",
              "    <tr>\n",
              "      <th>NaN</th>\n",
              "      <td>20009</td>\n",
              "    </tr>\n",
              "  </tbody>\n",
              "</table>\n",
              "</div>"
            ],
            "text/plain": [
              "                         state\n",
              "Buenos Aires           1363802\n",
              "CABA                     87419\n",
              "Catamarca                 7014\n",
              "Chaco                    62952\n",
              "Chubut                   20094\n",
              "Cordoba                 221841\n",
              "Corrientes               18698\n",
              "Entre Rios              148071\n",
              "Formosa                    882\n",
              "Jujuy                    13570\n",
              "La Pampa                  4565\n",
              "La Rioja                 17439\n",
              "Mar del plata             2199\n",
              "Mendoza                  83152\n",
              "Misiones                  3447\n",
              "Neuquen                  46025\n",
              "Pilar                     6260\n",
              "Rio Negro                26334\n",
              "Salta                    19427\n",
              "Salta Capital              219\n",
              "San Juan                  5677\n",
              "San Luis                 17581\n",
              "San Salvador de Jujuy     4402\n",
              "Santa Cruz               10642\n",
              "Santa Fe                638429\n",
              "Santiago del Estero      73751\n",
              "Tierra del Fuego         16134\n",
              "Tigre                      533\n",
              "Tucuman                  28466\n",
              "NaN                      20009"
            ]
          },
          "execution_count": 97,
          "metadata": {},
          "output_type": "execute_result"
        }
      ],
      "source": [
        "arg_states = df.state[df.country == 'Argentina'].value_counts(dropna=False).sort_index().to_frame()\n",
        "pd.options.display.max_rows = 100\n",
        "arg_states\n"
      ]
    },
    {
      "cell_type": "code",
      "execution_count": null,
      "metadata": {
        "colab": {
          "base_uri": "https://localhost:8080/",
          "height": 112
        },
        "id": "SyozpqE7jCOx",
        "outputId": "06498239-8a0b-4149-cb98-3e56bc7201ba"
      },
      "outputs": [
        {
          "data": {
            "text/html": [
              "<div>\n",
              "<style scoped>\n",
              "    .dataframe tbody tr th:only-of-type {\n",
              "        vertical-align: middle;\n",
              "    }\n",
              "\n",
              "    .dataframe tbody tr th {\n",
              "        vertical-align: top;\n",
              "    }\n",
              "\n",
              "    .dataframe thead th {\n",
              "        text-align: right;\n",
              "    }\n",
              "</style>\n",
              "<table border=\"1\" class=\"dataframe\">\n",
              "  <thead>\n",
              "    <tr style=\"text-align: right;\">\n",
              "      <th></th>\n",
              "      <th>state</th>\n",
              "    </tr>\n",
              "  </thead>\n",
              "  <tbody>\n",
              "    <tr>\n",
              "      <th>Santa Cruz</th>\n",
              "      <td>301</td>\n",
              "    </tr>\n",
              "    <tr>\n",
              "      <th>Santa Cruz de la Sierra</th>\n",
              "      <td>1720</td>\n",
              "    </tr>\n",
              "  </tbody>\n",
              "</table>\n",
              "</div>"
            ],
            "text/plain": [
              "                         state\n",
              "Santa Cruz                 301\n",
              "Santa Cruz de la Sierra   1720"
            ]
          },
          "execution_count": 98,
          "metadata": {},
          "output_type": "execute_result"
        }
      ],
      "source": [
        "blv_states = df.state[df.country == 'Bolivia'].value_counts(dropna=False).sort_index().to_frame()\n",
        "pd.options.display.max_rows = 100\n",
        "blv_states"
      ]
    },
    {
      "cell_type": "code",
      "execution_count": null,
      "metadata": {
        "id": "pqhsr1BtjF72"
      },
      "outputs": [],
      "source": [
        "df.state.replace(to_replace = 'Santa Cruz', \n",
        "                   value = 'Santa Cruz de la Sierra',\n",
        "                   inplace = True)"
      ]
    },
    {
      "cell_type": "code",
      "execution_count": null,
      "metadata": {
        "colab": {
          "base_uri": "https://localhost:8080/",
          "height": 81
        },
        "id": "7bsKaZbqjIX4",
        "outputId": "8b6d07b3-6dae-49b5-8862-28c76927f06c"
      },
      "outputs": [
        {
          "data": {
            "text/html": [
              "<div>\n",
              "<style scoped>\n",
              "    .dataframe tbody tr th:only-of-type {\n",
              "        vertical-align: middle;\n",
              "    }\n",
              "\n",
              "    .dataframe tbody tr th {\n",
              "        vertical-align: top;\n",
              "    }\n",
              "\n",
              "    .dataframe thead th {\n",
              "        text-align: right;\n",
              "    }\n",
              "</style>\n",
              "<table border=\"1\" class=\"dataframe\">\n",
              "  <thead>\n",
              "    <tr style=\"text-align: right;\">\n",
              "      <th></th>\n",
              "      <th>state</th>\n",
              "    </tr>\n",
              "  </thead>\n",
              "  <tbody>\n",
              "    <tr>\n",
              "      <th>Santa Cruz de la Sierra</th>\n",
              "      <td>2021</td>\n",
              "    </tr>\n",
              "  </tbody>\n",
              "</table>\n",
              "</div>"
            ],
            "text/plain": [
              "                         state\n",
              "Santa Cruz de la Sierra   2021"
            ]
          },
          "execution_count": 100,
          "metadata": {},
          "output_type": "execute_result"
        }
      ],
      "source": [
        "blv_states = df.state[df.country == 'Bolivia'].value_counts(dropna=False).sort_index().to_frame()\n",
        "pd.options.display.max_rows = 100\n",
        "blv_states"
      ]
    },
    {
      "cell_type": "code",
      "execution_count": null,
      "metadata": {
        "colab": {
          "base_uri": "https://localhost:8080/",
          "height": 112
        },
        "id": "SgCUCjWijJ12",
        "outputId": "d9fd0dfd-d564-4e20-f15a-5b7a8b480c30"
      },
      "outputs": [
        {
          "data": {
            "text/html": [
              "<div>\n",
              "<style scoped>\n",
              "    .dataframe tbody tr th:only-of-type {\n",
              "        vertical-align: middle;\n",
              "    }\n",
              "\n",
              "    .dataframe tbody tr th {\n",
              "        vertical-align: top;\n",
              "    }\n",
              "\n",
              "    .dataframe thead th {\n",
              "        text-align: right;\n",
              "    }\n",
              "</style>\n",
              "<table border=\"1\" class=\"dataframe\">\n",
              "  <thead>\n",
              "    <tr style=\"text-align: right;\">\n",
              "      <th></th>\n",
              "      <th>state</th>\n",
              "    </tr>\n",
              "  </thead>\n",
              "  <tbody>\n",
              "    <tr>\n",
              "      <th>Bio Bio</th>\n",
              "      <td>507</td>\n",
              "    </tr>\n",
              "    <tr>\n",
              "      <th>santiago</th>\n",
              "      <td>244</td>\n",
              "    </tr>\n",
              "  </tbody>\n",
              "</table>\n",
              "</div>"
            ],
            "text/plain": [
              "          state\n",
              "Bio Bio     507\n",
              "santiago    244"
            ]
          },
          "execution_count": 101,
          "metadata": {},
          "output_type": "execute_result"
        }
      ],
      "source": [
        "chl_states = df.state[df.country == 'Chile'].value_counts(dropna=False).sort_index().to_frame()\n",
        "pd.options.display.max_rows = 100\n",
        "chl_states"
      ]
    },
    {
      "cell_type": "code",
      "execution_count": null,
      "metadata": {
        "id": "ZTNq7girjLOy"
      },
      "outputs": [],
      "source": [
        "df.state.replace(to_replace = 'santiago', \n",
        "                   value = 'Santiago de Chile',\n",
        "                   inplace = True)"
      ]
    },
    {
      "cell_type": "code",
      "execution_count": null,
      "metadata": {
        "colab": {
          "base_uri": "https://localhost:8080/",
          "height": 112
        },
        "id": "8J--hNlyjMWa",
        "outputId": "cec0e8a5-8179-4f13-aeff-7ef35210f20d"
      },
      "outputs": [
        {
          "data": {
            "text/html": [
              "<div>\n",
              "<style scoped>\n",
              "    .dataframe tbody tr th:only-of-type {\n",
              "        vertical-align: middle;\n",
              "    }\n",
              "\n",
              "    .dataframe tbody tr th {\n",
              "        vertical-align: top;\n",
              "    }\n",
              "\n",
              "    .dataframe thead th {\n",
              "        text-align: right;\n",
              "    }\n",
              "</style>\n",
              "<table border=\"1\" class=\"dataframe\">\n",
              "  <thead>\n",
              "    <tr style=\"text-align: right;\">\n",
              "      <th></th>\n",
              "      <th>state</th>\n",
              "    </tr>\n",
              "  </thead>\n",
              "  <tbody>\n",
              "    <tr>\n",
              "      <th>Bio Bio</th>\n",
              "      <td>507</td>\n",
              "    </tr>\n",
              "    <tr>\n",
              "      <th>Santiago de Chile</th>\n",
              "      <td>244</td>\n",
              "    </tr>\n",
              "  </tbody>\n",
              "</table>\n",
              "</div>"
            ],
            "text/plain": [
              "                   state\n",
              "Bio Bio              507\n",
              "Santiago de Chile    244"
            ]
          },
          "execution_count": 103,
          "metadata": {},
          "output_type": "execute_result"
        }
      ],
      "source": [
        "chl_states = df.state[df.country == 'Chile'].value_counts(dropna=False).sort_index().to_frame()\n",
        "pd.options.display.max_rows = 100\n",
        "chl_states"
      ]
    },
    {
      "cell_type": "code",
      "execution_count": null,
      "metadata": {
        "colab": {
          "base_uri": "https://localhost:8080/",
          "height": 269
        },
        "id": "jGpD31gXjNvU",
        "outputId": "ec30ed6f-7123-4594-a543-59b2521d988b"
      },
      "outputs": [
        {
          "data": {
            "text/html": [
              "<div>\n",
              "<style scoped>\n",
              "    .dataframe tbody tr th:only-of-type {\n",
              "        vertical-align: middle;\n",
              "    }\n",
              "\n",
              "    .dataframe tbody tr th {\n",
              "        vertical-align: top;\n",
              "    }\n",
              "\n",
              "    .dataframe thead th {\n",
              "        text-align: right;\n",
              "    }\n",
              "</style>\n",
              "<table border=\"1\" class=\"dataframe\">\n",
              "  <thead>\n",
              "    <tr style=\"text-align: right;\">\n",
              "      <th></th>\n",
              "      <th>state</th>\n",
              "    </tr>\n",
              "  </thead>\n",
              "  <tbody>\n",
              "    <tr>\n",
              "      <th>Atlántico</th>\n",
              "      <td>49</td>\n",
              "    </tr>\n",
              "    <tr>\n",
              "      <th>Bogota</th>\n",
              "      <td>406</td>\n",
              "    </tr>\n",
              "    <tr>\n",
              "      <th>Bogotá D.C</th>\n",
              "      <td>906</td>\n",
              "    </tr>\n",
              "    <tr>\n",
              "      <th>Cundinamarca</th>\n",
              "      <td>211</td>\n",
              "    </tr>\n",
              "    <tr>\n",
              "      <th>Dosquebradas</th>\n",
              "      <td>1620</td>\n",
              "    </tr>\n",
              "    <tr>\n",
              "      <th>Valle</th>\n",
              "      <td>375</td>\n",
              "    </tr>\n",
              "    <tr>\n",
              "      <th>valle del cauca</th>\n",
              "      <td>197</td>\n",
              "    </tr>\n",
              "  </tbody>\n",
              "</table>\n",
              "</div>"
            ],
            "text/plain": [
              "                 state\n",
              "Atlántico           49\n",
              "Bogota             406\n",
              "Bogotá D.C         906\n",
              "Cundinamarca       211\n",
              "Dosquebradas      1620\n",
              "Valle              375\n",
              "valle del cauca    197"
            ]
          },
          "execution_count": 104,
          "metadata": {},
          "output_type": "execute_result"
        }
      ],
      "source": [
        "col_states = df.state[df.country == 'Colombia'].value_counts(dropna=False).sort_index().to_frame()\n",
        "pd.options.display.max_rows = 100\n",
        "col_states"
      ]
    },
    {
      "cell_type": "code",
      "execution_count": null,
      "metadata": {
        "id": "Zz2saxhxjPBp"
      },
      "outputs": [],
      "source": [
        "df.state.replace(to_replace = 'Bogotá D.C', \n",
        "                   value = 'Bogota',\n",
        "                   inplace = True)\n",
        "\n",
        "\n",
        "df.state.replace(to_replace = ['Valle', 'valle del cauca'], \n",
        "                   value = 'Valle del Cauca',\n",
        "                   inplace = True)"
      ]
    },
    {
      "cell_type": "code",
      "execution_count": null,
      "metadata": {
        "colab": {
          "base_uri": "https://localhost:8080/",
          "height": 206
        },
        "id": "z691dF3fjQNg",
        "outputId": "309fe054-8629-43a2-bcf2-fc9841d2edbd"
      },
      "outputs": [
        {
          "data": {
            "text/html": [
              "<div>\n",
              "<style scoped>\n",
              "    .dataframe tbody tr th:only-of-type {\n",
              "        vertical-align: middle;\n",
              "    }\n",
              "\n",
              "    .dataframe tbody tr th {\n",
              "        vertical-align: top;\n",
              "    }\n",
              "\n",
              "    .dataframe thead th {\n",
              "        text-align: right;\n",
              "    }\n",
              "</style>\n",
              "<table border=\"1\" class=\"dataframe\">\n",
              "  <thead>\n",
              "    <tr style=\"text-align: right;\">\n",
              "      <th></th>\n",
              "      <th>state</th>\n",
              "    </tr>\n",
              "  </thead>\n",
              "  <tbody>\n",
              "    <tr>\n",
              "      <th>Atlántico</th>\n",
              "      <td>49</td>\n",
              "    </tr>\n",
              "    <tr>\n",
              "      <th>Bogota</th>\n",
              "      <td>1312</td>\n",
              "    </tr>\n",
              "    <tr>\n",
              "      <th>Cundinamarca</th>\n",
              "      <td>211</td>\n",
              "    </tr>\n",
              "    <tr>\n",
              "      <th>Dosquebradas</th>\n",
              "      <td>1620</td>\n",
              "    </tr>\n",
              "    <tr>\n",
              "      <th>Valle del Cauca</th>\n",
              "      <td>572</td>\n",
              "    </tr>\n",
              "  </tbody>\n",
              "</table>\n",
              "</div>"
            ],
            "text/plain": [
              "                 state\n",
              "Atlántico           49\n",
              "Bogota            1312\n",
              "Cundinamarca       211\n",
              "Dosquebradas      1620\n",
              "Valle del Cauca    572"
            ]
          },
          "execution_count": 106,
          "metadata": {},
          "output_type": "execute_result"
        }
      ],
      "source": [
        "col_states = df.state[df.country == 'Colombia'].value_counts(dropna=False).sort_index().to_frame()\n",
        "pd.options.display.max_rows = 100\n",
        "col_states"
      ]
    },
    {
      "cell_type": "code",
      "execution_count": null,
      "metadata": {
        "colab": {
          "base_uri": "https://localhost:8080/",
          "height": 143
        },
        "id": "F5on6lqcjR2_",
        "outputId": "04af037d-2099-4801-905a-f68bc1215043"
      },
      "outputs": [
        {
          "data": {
            "text/html": [
              "<div>\n",
              "<style scoped>\n",
              "    .dataframe tbody tr th:only-of-type {\n",
              "        vertical-align: middle;\n",
              "    }\n",
              "\n",
              "    .dataframe tbody tr th {\n",
              "        vertical-align: top;\n",
              "    }\n",
              "\n",
              "    .dataframe thead th {\n",
              "        text-align: right;\n",
              "    }\n",
              "</style>\n",
              "<table border=\"1\" class=\"dataframe\">\n",
              "  <thead>\n",
              "    <tr style=\"text-align: right;\">\n",
              "      <th></th>\n",
              "      <th>state</th>\n",
              "    </tr>\n",
              "  </thead>\n",
              "  <tbody>\n",
              "    <tr>\n",
              "      <th>Alajuela</th>\n",
              "      <td>516</td>\n",
              "    </tr>\n",
              "    <tr>\n",
              "      <th>Cartago</th>\n",
              "      <td>605</td>\n",
              "    </tr>\n",
              "    <tr>\n",
              "      <th>San José</th>\n",
              "      <td>1869</td>\n",
              "    </tr>\n",
              "  </tbody>\n",
              "</table>\n",
              "</div>"
            ],
            "text/plain": [
              "          state\n",
              "Alajuela    516\n",
              "Cartago     605\n",
              "San José   1869"
            ]
          },
          "execution_count": 107,
          "metadata": {},
          "output_type": "execute_result"
        }
      ],
      "source": [
        "cr_states = df.state[df.country == 'Costa Rica'].value_counts(dropna=False).sort_index().to_frame()\n",
        "pd.options.display.max_rows = 100\n",
        "cr_states"
      ]
    },
    {
      "cell_type": "code",
      "execution_count": null,
      "metadata": {
        "colab": {
          "base_uri": "https://localhost:8080/",
          "height": 143
        },
        "id": "OFTVSeZdjTVX",
        "outputId": "64e3b66e-d552-4475-c791-bfa0a4e5106a"
      },
      "outputs": [
        {
          "data": {
            "text/html": [
              "<div>\n",
              "<style scoped>\n",
              "    .dataframe tbody tr th:only-of-type {\n",
              "        vertical-align: middle;\n",
              "    }\n",
              "\n",
              "    .dataframe tbody tr th {\n",
              "        vertical-align: top;\n",
              "    }\n",
              "\n",
              "    .dataframe thead th {\n",
              "        text-align: right;\n",
              "    }\n",
              "</style>\n",
              "<table border=\"1\" class=\"dataframe\">\n",
              "  <thead>\n",
              "    <tr style=\"text-align: right;\">\n",
              "      <th></th>\n",
              "      <th>state</th>\n",
              "    </tr>\n",
              "  </thead>\n",
              "  <tbody>\n",
              "    <tr>\n",
              "      <th>La Habana</th>\n",
              "      <td>49</td>\n",
              "    </tr>\n",
              "    <tr>\n",
              "      <th>Las Tunas</th>\n",
              "      <td>646</td>\n",
              "    </tr>\n",
              "    <tr>\n",
              "      <th>Matanzas</th>\n",
              "      <td>77</td>\n",
              "    </tr>\n",
              "  </tbody>\n",
              "</table>\n",
              "</div>"
            ],
            "text/plain": [
              "           state\n",
              "La Habana     49\n",
              "Las Tunas    646\n",
              "Matanzas      77"
            ]
          },
          "execution_count": 108,
          "metadata": {},
          "output_type": "execute_result"
        }
      ],
      "source": [
        "cuba_states = df.state[df.country == 'Cuba'].value_counts(dropna=False).sort_index().to_frame()\n",
        "pd.options.display.max_rows = 100\n",
        "cuba_states"
      ]
    },
    {
      "cell_type": "code",
      "execution_count": null,
      "metadata": {
        "colab": {
          "base_uri": "https://localhost:8080/",
          "height": 175
        },
        "id": "NEOdgo4ijZjw",
        "outputId": "42bce75c-443c-4721-920e-363fd8fc71d3"
      },
      "outputs": [
        {
          "data": {
            "text/html": [
              "<div>\n",
              "<style scoped>\n",
              "    .dataframe tbody tr th:only-of-type {\n",
              "        vertical-align: middle;\n",
              "    }\n",
              "\n",
              "    .dataframe tbody tr th {\n",
              "        vertical-align: top;\n",
              "    }\n",
              "\n",
              "    .dataframe thead th {\n",
              "        text-align: right;\n",
              "    }\n",
              "</style>\n",
              "<table border=\"1\" class=\"dataframe\">\n",
              "  <thead>\n",
              "    <tr style=\"text-align: right;\">\n",
              "      <th></th>\n",
              "      <th>state</th>\n",
              "    </tr>\n",
              "  </thead>\n",
              "  <tbody>\n",
              "    <tr>\n",
              "      <th>Guayas</th>\n",
              "      <td>3601</td>\n",
              "    </tr>\n",
              "    <tr>\n",
              "      <th>Imbabura</th>\n",
              "      <td>2822</td>\n",
              "    </tr>\n",
              "    <tr>\n",
              "      <th>Orellana</th>\n",
              "      <td>2312</td>\n",
              "    </tr>\n",
              "    <tr>\n",
              "      <th>Pichincha</th>\n",
              "      <td>868</td>\n",
              "    </tr>\n",
              "  </tbody>\n",
              "</table>\n",
              "</div>"
            ],
            "text/plain": [
              "           state\n",
              "Guayas      3601\n",
              "Imbabura    2822\n",
              "Orellana    2312\n",
              "Pichincha    868"
            ]
          },
          "execution_count": 109,
          "metadata": {},
          "output_type": "execute_result"
        }
      ],
      "source": [
        "ecu_states = df.state[df.country == 'Ecuador'].value_counts(dropna=False).sort_index().to_frame()\n",
        "pd.options.display.max_rows = 100\n",
        "ecu_states"
      ]
    },
    {
      "cell_type": "code",
      "execution_count": null,
      "metadata": {
        "colab": {
          "base_uri": "https://localhost:8080/",
          "height": 143
        },
        "id": "8g8xml97ja37",
        "outputId": "32dd8814-1ae2-4e69-b452-69358ba83e3f"
      },
      "outputs": [
        {
          "data": {
            "text/html": [
              "<div>\n",
              "<style scoped>\n",
              "    .dataframe tbody tr th:only-of-type {\n",
              "        vertical-align: middle;\n",
              "    }\n",
              "\n",
              "    .dataframe tbody tr th {\n",
              "        vertical-align: top;\n",
              "    }\n",
              "\n",
              "    .dataframe thead th {\n",
              "        text-align: right;\n",
              "    }\n",
              "</style>\n",
              "<table border=\"1\" class=\"dataframe\">\n",
              "  <thead>\n",
              "    <tr style=\"text-align: right;\">\n",
              "      <th></th>\n",
              "      <th>state</th>\n",
              "    </tr>\n",
              "  </thead>\n",
              "  <tbody>\n",
              "    <tr>\n",
              "      <th>Andalucía</th>\n",
              "      <td>428</td>\n",
              "    </tr>\n",
              "    <tr>\n",
              "      <th>Madrid</th>\n",
              "      <td>2884</td>\n",
              "    </tr>\n",
              "    <tr>\n",
              "      <th>Valencia</th>\n",
              "      <td>1220</td>\n",
              "    </tr>\n",
              "  </tbody>\n",
              "</table>\n",
              "</div>"
            ],
            "text/plain": [
              "           state\n",
              "Andalucía    428\n",
              "Madrid      2884\n",
              "Valencia    1220"
            ]
          },
          "execution_count": 110,
          "metadata": {},
          "output_type": "execute_result"
        }
      ],
      "source": [
        "esp_states = df.state[df.country == 'España'].value_counts(dropna=False).sort_index().to_frame()\n",
        "pd.options.display.max_rows = 100\n",
        "esp_states"
      ]
    },
    {
      "cell_type": "code",
      "execution_count": null,
      "metadata": {
        "colab": {
          "base_uri": "https://localhost:8080/",
          "height": 237
        },
        "id": "WzXS2mqwjcU3",
        "outputId": "3eed684e-6d45-4a9c-adb9-8effe1349568"
      },
      "outputs": [
        {
          "data": {
            "text/html": [
              "<div>\n",
              "<style scoped>\n",
              "    .dataframe tbody tr th:only-of-type {\n",
              "        vertical-align: middle;\n",
              "    }\n",
              "\n",
              "    .dataframe tbody tr th {\n",
              "        vertical-align: top;\n",
              "    }\n",
              "\n",
              "    .dataframe thead th {\n",
              "        text-align: right;\n",
              "    }\n",
              "</style>\n",
              "<table border=\"1\" class=\"dataframe\">\n",
              "  <thead>\n",
              "    <tr style=\"text-align: right;\">\n",
              "      <th></th>\n",
              "      <th>state</th>\n",
              "    </tr>\n",
              "  </thead>\n",
              "  <tbody>\n",
              "    <tr>\n",
              "      <th>Camarines Sur</th>\n",
              "      <td>3219</td>\n",
              "    </tr>\n",
              "    <tr>\n",
              "      <th>Camarines sur</th>\n",
              "      <td>3562</td>\n",
              "    </tr>\n",
              "    <tr>\n",
              "      <th>Camarines sur naga city</th>\n",
              "      <td>5458</td>\n",
              "    </tr>\n",
              "    <tr>\n",
              "      <th>Camarinesur</th>\n",
              "      <td>1778</td>\n",
              "    </tr>\n",
              "    <tr>\n",
              "      <th>camarines sur</th>\n",
              "      <td>9663</td>\n",
              "    </tr>\n",
              "    <tr>\n",
              "      <th>camarines sur naga city</th>\n",
              "      <td>7226</td>\n",
              "    </tr>\n",
              "  </tbody>\n",
              "</table>\n",
              "</div>"
            ],
            "text/plain": [
              "                         state\n",
              "Camarines Sur             3219\n",
              "Camarines sur             3562\n",
              "Camarines sur naga city   5458\n",
              "Camarinesur               1778\n",
              "camarines sur             9663\n",
              "camarines sur naga city   7226"
            ]
          },
          "execution_count": 111,
          "metadata": {},
          "output_type": "execute_result"
        }
      ],
      "source": [
        "flp_states = df.state[df.country == 'Filipinas'].value_counts(dropna=False).sort_index().to_frame()\n",
        "pd.options.display.max_rows = 100\n",
        "flp_states"
      ]
    },
    {
      "cell_type": "code",
      "execution_count": null,
      "metadata": {
        "id": "EPpgSv1ejeRG"
      },
      "outputs": [],
      "source": [
        "camarines_sur = ('Camarines sur','Camarinesur', 'camarines sur')\n",
        "naga = ('Camarines sur naga city','camarines sur naga city')\n",
        "\n",
        "replace_dic = {camarines_sur : 'Camarines Sur', naga : 'Camarines Sur (Naga)'}"
      ]
    },
    {
      "cell_type": "code",
      "execution_count": null,
      "metadata": {
        "id": "bD96acgIjfWY"
      },
      "outputs": [],
      "source": [
        "for replace, city in replace_dic.items():\n",
        "    df.state.replace(to_replace = replace, \n",
        "                   value = city,\n",
        "                   inplace = True)"
      ]
    },
    {
      "cell_type": "code",
      "execution_count": null,
      "metadata": {
        "colab": {
          "base_uri": "https://localhost:8080/",
          "height": 112
        },
        "id": "p3z2TpAyjgby",
        "outputId": "6cf4ced2-9e85-4348-eec0-a4c7bc7981be"
      },
      "outputs": [
        {
          "data": {
            "text/html": [
              "<div>\n",
              "<style scoped>\n",
              "    .dataframe tbody tr th:only-of-type {\n",
              "        vertical-align: middle;\n",
              "    }\n",
              "\n",
              "    .dataframe tbody tr th {\n",
              "        vertical-align: top;\n",
              "    }\n",
              "\n",
              "    .dataframe thead th {\n",
              "        text-align: right;\n",
              "    }\n",
              "</style>\n",
              "<table border=\"1\" class=\"dataframe\">\n",
              "  <thead>\n",
              "    <tr style=\"text-align: right;\">\n",
              "      <th></th>\n",
              "      <th>state</th>\n",
              "    </tr>\n",
              "  </thead>\n",
              "  <tbody>\n",
              "    <tr>\n",
              "      <th>Camarines Sur</th>\n",
              "      <td>18222</td>\n",
              "    </tr>\n",
              "    <tr>\n",
              "      <th>Camarines Sur (Naga)</th>\n",
              "      <td>12684</td>\n",
              "    </tr>\n",
              "  </tbody>\n",
              "</table>\n",
              "</div>"
            ],
            "text/plain": [
              "                      state\n",
              "Camarines Sur         18222\n",
              "Camarines Sur (Naga)  12684"
            ]
          },
          "execution_count": 114,
          "metadata": {},
          "output_type": "execute_result"
        }
      ],
      "source": [
        "flp_states = df.state[df.country == 'Filipinas'].value_counts(dropna=False).sort_index().to_frame()\n",
        "pd.options.display.max_rows = 100\n",
        "flp_states"
      ]
    },
    {
      "cell_type": "code",
      "execution_count": null,
      "metadata": {
        "colab": {
          "base_uri": "https://localhost:8080/",
          "height": 112
        },
        "id": "b7fj1Fbhjh2o",
        "outputId": "6eaf6b1a-beb1-4778-c460-d4f4f580c1ef"
      },
      "outputs": [
        {
          "data": {
            "text/html": [
              "<div>\n",
              "<style scoped>\n",
              "    .dataframe tbody tr th:only-of-type {\n",
              "        vertical-align: middle;\n",
              "    }\n",
              "\n",
              "    .dataframe tbody tr th {\n",
              "        vertical-align: top;\n",
              "    }\n",
              "\n",
              "    .dataframe thead th {\n",
              "        text-align: right;\n",
              "    }\n",
              "</style>\n",
              "<table border=\"1\" class=\"dataframe\">\n",
              "  <thead>\n",
              "    <tr style=\"text-align: right;\">\n",
              "      <th></th>\n",
              "      <th>state</th>\n",
              "    </tr>\n",
              "  </thead>\n",
              "  <tbody>\n",
              "    <tr>\n",
              "      <th>Tlaxcala</th>\n",
              "      <td>165</td>\n",
              "    </tr>\n",
              "    <tr>\n",
              "      <th>Veracruz</th>\n",
              "      <td>1899</td>\n",
              "    </tr>\n",
              "  </tbody>\n",
              "</table>\n",
              "</div>"
            ],
            "text/plain": [
              "          state\n",
              "Tlaxcala    165\n",
              "Veracruz   1899"
            ]
          },
          "execution_count": 115,
          "metadata": {},
          "output_type": "execute_result"
        }
      ],
      "source": [
        "mco_states = df.state[df.country == 'Mejico'].value_counts(dropna=False).sort_index().to_frame()\n",
        "pd.options.display.max_rows = 100\n",
        "mco_states"
      ]
    },
    {
      "cell_type": "code",
      "execution_count": null,
      "metadata": {
        "colab": {
          "base_uri": "https://localhost:8080/",
          "height": 112
        },
        "id": "igs7U96VjjAg",
        "outputId": "068e7a2d-a2d0-46df-e9e2-12c35f3550d2"
      },
      "outputs": [
        {
          "data": {
            "text/html": [
              "<div>\n",
              "<style scoped>\n",
              "    .dataframe tbody tr th:only-of-type {\n",
              "        vertical-align: middle;\n",
              "    }\n",
              "\n",
              "    .dataframe tbody tr th {\n",
              "        vertical-align: top;\n",
              "    }\n",
              "\n",
              "    .dataframe thead th {\n",
              "        text-align: right;\n",
              "    }\n",
              "</style>\n",
              "<table border=\"1\" class=\"dataframe\">\n",
              "  <thead>\n",
              "    <tr style=\"text-align: right;\">\n",
              "      <th></th>\n",
              "      <th>state</th>\n",
              "    </tr>\n",
              "  </thead>\n",
              "  <tbody>\n",
              "    <tr>\n",
              "      <th>Chiclayo</th>\n",
              "      <td>480</td>\n",
              "    </tr>\n",
              "    <tr>\n",
              "      <th>Lima</th>\n",
              "      <td>13432</td>\n",
              "    </tr>\n",
              "  </tbody>\n",
              "</table>\n",
              "</div>"
            ],
            "text/plain": [
              "          state\n",
              "Chiclayo    480\n",
              "Lima      13432"
            ]
          },
          "execution_count": 116,
          "metadata": {},
          "output_type": "execute_result"
        }
      ],
      "source": [
        "peru_states = df.state[df.country == 'Peru'].value_counts(dropna=False).sort_index().to_frame()\n",
        "pd.options.display.max_rows = 100\n",
        "peru_states"
      ]
    },
    {
      "cell_type": "code",
      "execution_count": null,
      "metadata": {
        "colab": {
          "base_uri": "https://localhost:8080/",
          "height": 143
        },
        "id": "HHe67_ZQjkzs",
        "outputId": "ffe8074a-d042-4c79-8fbd-6f4170d757e4"
      },
      "outputs": [
        {
          "data": {
            "text/html": [
              "<div>\n",
              "<style scoped>\n",
              "    .dataframe tbody tr th:only-of-type {\n",
              "        vertical-align: middle;\n",
              "    }\n",
              "\n",
              "    .dataframe tbody tr th {\n",
              "        vertical-align: top;\n",
              "    }\n",
              "\n",
              "    .dataframe thead th {\n",
              "        text-align: right;\n",
              "    }\n",
              "</style>\n",
              "<table border=\"1\" class=\"dataframe\">\n",
              "  <thead>\n",
              "    <tr style=\"text-align: right;\">\n",
              "      <th></th>\n",
              "      <th>state</th>\n",
              "    </tr>\n",
              "  </thead>\n",
              "  <tbody>\n",
              "    <tr>\n",
              "      <th>Canelones</th>\n",
              "      <td>814</td>\n",
              "    </tr>\n",
              "    <tr>\n",
              "      <th>Maldonado</th>\n",
              "      <td>779</td>\n",
              "    </tr>\n",
              "    <tr>\n",
              "      <th>Montevideo</th>\n",
              "      <td>1234</td>\n",
              "    </tr>\n",
              "  </tbody>\n",
              "</table>\n",
              "</div>"
            ],
            "text/plain": [
              "            state\n",
              "Canelones     814\n",
              "Maldonado     779\n",
              "Montevideo   1234"
            ]
          },
          "execution_count": 117,
          "metadata": {},
          "output_type": "execute_result"
        }
      ],
      "source": [
        "uru_states = df.state[df.country == 'Uruguay'].value_counts(dropna=False).sort_index().to_frame()\n",
        "pd.options.display.max_rows = 100\n",
        "uru_states"
      ]
    },
    {
      "cell_type": "code",
      "execution_count": null,
      "metadata": {
        "colab": {
          "base_uri": "https://localhost:8080/",
          "height": 1000
        },
        "id": "8jloSYt9jmOP",
        "outputId": "59c11c5f-c048-4b61-89ac-f2746e465846"
      },
      "outputs": [
        {
          "data": {
            "text/html": [
              "<div>\n",
              "<style scoped>\n",
              "    .dataframe tbody tr th:only-of-type {\n",
              "        vertical-align: middle;\n",
              "    }\n",
              "\n",
              "    .dataframe tbody tr th {\n",
              "        vertical-align: top;\n",
              "    }\n",
              "\n",
              "    .dataframe thead th {\n",
              "        text-align: right;\n",
              "    }\n",
              "</style>\n",
              "<table border=\"1\" class=\"dataframe\">\n",
              "  <thead>\n",
              "    <tr style=\"text-align: right;\">\n",
              "      <th></th>\n",
              "      <th>state</th>\n",
              "    </tr>\n",
              "  </thead>\n",
              "  <tbody>\n",
              "    <tr>\n",
              "      <th>Amazonas</th>\n",
              "      <td>131</td>\n",
              "    </tr>\n",
              "    <tr>\n",
              "      <th>Andes</th>\n",
              "      <td>1270</td>\n",
              "    </tr>\n",
              "    <tr>\n",
              "      <th>Anzoategui</th>\n",
              "      <td>20485</td>\n",
              "    </tr>\n",
              "    <tr>\n",
              "      <th>Anzoatequi</th>\n",
              "      <td>756</td>\n",
              "    </tr>\n",
              "    <tr>\n",
              "      <th>Anzoátegui</th>\n",
              "      <td>36584</td>\n",
              "    </tr>\n",
              "    <tr>\n",
              "      <th>Anzuategui</th>\n",
              "      <td>3206</td>\n",
              "    </tr>\n",
              "    <tr>\n",
              "      <th>Apure</th>\n",
              "      <td>3423</td>\n",
              "    </tr>\n",
              "    <tr>\n",
              "      <th>Aragua</th>\n",
              "      <td>79158</td>\n",
              "    </tr>\n",
              "    <tr>\n",
              "      <th>Aragua - región central</th>\n",
              "      <td>11504</td>\n",
              "    </tr>\n",
              "    <tr>\n",
              "      <th>Barcelona</th>\n",
              "      <td>1417</td>\n",
              "    </tr>\n",
              "    <tr>\n",
              "      <th>Barinas</th>\n",
              "      <td>1160</td>\n",
              "    </tr>\n",
              "    <tr>\n",
              "      <th>Barquisimeto</th>\n",
              "      <td>1752</td>\n",
              "    </tr>\n",
              "    <tr>\n",
              "      <th>Bolivar</th>\n",
              "      <td>14132</td>\n",
              "    </tr>\n",
              "    <tr>\n",
              "      <th>Buenos Aires</th>\n",
              "      <td>2012</td>\n",
              "    </tr>\n",
              "    <tr>\n",
              "      <th>CARACAS</th>\n",
              "      <td>236</td>\n",
              "    </tr>\n",
              "    <tr>\n",
              "      <th>Cagua</th>\n",
              "      <td>140</td>\n",
              "    </tr>\n",
              "    <tr>\n",
              "      <th>Capital</th>\n",
              "      <td>5899</td>\n",
              "    </tr>\n",
              "    <tr>\n",
              "      <th>Carabobo</th>\n",
              "      <td>84131</td>\n",
              "    </tr>\n",
              "    <tr>\n",
              "      <th>Carabobo valencia</th>\n",
              "      <td>5</td>\n",
              "    </tr>\n",
              "    <tr>\n",
              "      <th>Caraca</th>\n",
              "      <td>88</td>\n",
              "    </tr>\n",
              "    <tr>\n",
              "      <th>Caracas</th>\n",
              "      <td>112512</td>\n",
              "    </tr>\n",
              "    <tr>\n",
              "      <th>Catia la mar</th>\n",
              "      <td>5402</td>\n",
              "    </tr>\n",
              "    <tr>\n",
              "      <th>Centro occidente</th>\n",
              "      <td>642</td>\n",
              "    </tr>\n",
              "    <tr>\n",
              "      <th>Charallave</th>\n",
              "      <td>1133</td>\n",
              "    </tr>\n",
              "    <tr>\n",
              "      <th>Cojedes</th>\n",
              "      <td>5206</td>\n",
              "    </tr>\n",
              "    <tr>\n",
              "      <th>Coro</th>\n",
              "      <td>5928</td>\n",
              "    </tr>\n",
              "    <tr>\n",
              "      <th>De San Francisco</th>\n",
              "      <td>122</td>\n",
              "    </tr>\n",
              "    <tr>\n",
              "      <th>Distrito Capital</th>\n",
              "      <td>30216</td>\n",
              "    </tr>\n",
              "    <tr>\n",
              "      <th>Distrito capital</th>\n",
              "      <td>28285</td>\n",
              "    </tr>\n",
              "    <tr>\n",
              "      <th>Dtto capital</th>\n",
              "      <td>2699</td>\n",
              "    </tr>\n",
              "    <tr>\n",
              "      <th>Duaca</th>\n",
              "      <td>157</td>\n",
              "    </tr>\n",
              "    <tr>\n",
              "      <th>Edo Guárico</th>\n",
              "      <td>2561</td>\n",
              "    </tr>\n",
              "    <tr>\n",
              "      <th>Edo. Nueva Esparta</th>\n",
              "      <td>167</td>\n",
              "    </tr>\n",
              "    <tr>\n",
              "      <th>Edo.Miranda</th>\n",
              "      <td>835</td>\n",
              "    </tr>\n",
              "    <tr>\n",
              "      <th>Esrado vargas</th>\n",
              "      <td>2011</td>\n",
              "    </tr>\n",
              "    <tr>\n",
              "      <th>Estado Anzoategui</th>\n",
              "      <td>2258</td>\n",
              "    </tr>\n",
              "    <tr>\n",
              "      <th>Estado Anzoátegui</th>\n",
              "      <td>859</td>\n",
              "    </tr>\n",
              "    <tr>\n",
              "      <th>Estado Aragua</th>\n",
              "      <td>36</td>\n",
              "    </tr>\n",
              "    <tr>\n",
              "      <th>Estado Falcon</th>\n",
              "      <td>586</td>\n",
              "    </tr>\n",
              "    <tr>\n",
              "      <th>Estado La Guaira</th>\n",
              "      <td>123</td>\n",
              "    </tr>\n",
              "    <tr>\n",
              "      <th>Estado Miranda</th>\n",
              "      <td>1299</td>\n",
              "    </tr>\n",
              "    <tr>\n",
              "      <th>Estado aragua</th>\n",
              "      <td>50</td>\n",
              "    </tr>\n",
              "    <tr>\n",
              "      <th>Estado bolivar</th>\n",
              "      <td>250</td>\n",
              "    </tr>\n",
              "    <tr>\n",
              "      <th>Estado bolivariano de miranda</th>\n",
              "      <td>5488</td>\n",
              "    </tr>\n",
              "    <tr>\n",
              "      <th>Ezequiel zamora</th>\n",
              "      <td>9395</td>\n",
              "    </tr>\n",
              "    <tr>\n",
              "      <th>Falcon</th>\n",
              "      <td>9287</td>\n",
              "    </tr>\n",
              "    <tr>\n",
              "      <th>Falcón</th>\n",
              "      <td>4630</td>\n",
              "    </tr>\n",
              "    <tr>\n",
              "      <th>Guanta</th>\n",
              "      <td>99</td>\n",
              "    </tr>\n",
              "    <tr>\n",
              "      <th>Guarico</th>\n",
              "      <td>3256</td>\n",
              "    </tr>\n",
              "    <tr>\n",
              "      <th>Guasdualito</th>\n",
              "      <td>2789</td>\n",
              "    </tr>\n",
              "    <tr>\n",
              "      <th>Guárico</th>\n",
              "      <td>8158</td>\n",
              "    </tr>\n",
              "    <tr>\n",
              "      <th>La Guaira</th>\n",
              "      <td>5528</td>\n",
              "    </tr>\n",
              "    <tr>\n",
              "      <th>La guaira</th>\n",
              "      <td>5918</td>\n",
              "    </tr>\n",
              "    <tr>\n",
              "      <th>Lara</th>\n",
              "      <td>42064</td>\n",
              "    </tr>\n",
              "    <tr>\n",
              "      <th>Las provincias eran las divisiones administrativas utilizadas en Venezuela desde la colonización española hasta la conclusión de la Guerra Federal - cuando una nueva constitución transformó a estas subdivisiones en estados federales</th>\n",
              "      <td>231</td>\n",
              "    </tr>\n",
              "    <tr>\n",
              "      <th>Manaus</th>\n",
              "      <td>453</td>\n",
              "    </tr>\n",
              "    <tr>\n",
              "      <th>Maracaibo</th>\n",
              "      <td>38412</td>\n",
              "    </tr>\n",
              "    <tr>\n",
              "      <th>Maracaibo zulia</th>\n",
              "      <td>375</td>\n",
              "    </tr>\n",
              "    <tr>\n",
              "      <th>Maracay</th>\n",
              "      <td>6326</td>\n",
              "    </tr>\n",
              "    <tr>\n",
              "      <th>Maturin</th>\n",
              "      <td>8130</td>\n",
              "    </tr>\n",
              "    <tr>\n",
              "      <th>Merida</th>\n",
              "      <td>21100</td>\n",
              "    </tr>\n",
              "    <tr>\n",
              "      <th>Miranda</th>\n",
              "      <td>102973</td>\n",
              "    </tr>\n",
              "    <tr>\n",
              "      <th>Miranda  - Caracas</th>\n",
              "      <td>8715</td>\n",
              "    </tr>\n",
              "    <tr>\n",
              "      <th>Monagas</th>\n",
              "      <td>92197</td>\n",
              "    </tr>\n",
              "    <tr>\n",
              "      <th>Montalban</th>\n",
              "      <td>2329</td>\n",
              "    </tr>\n",
              "    <tr>\n",
              "      <th>Municipio Libertad or</th>\n",
              "      <td>266</td>\n",
              "    </tr>\n",
              "    <tr>\n",
              "      <th>Mérida</th>\n",
              "      <td>36607</td>\n",
              "    </tr>\n",
              "    <tr>\n",
              "      <th>Nueva Esparta</th>\n",
              "      <td>7037</td>\n",
              "    </tr>\n",
              "    <tr>\n",
              "      <th>Portuguesa</th>\n",
              "      <td>985</td>\n",
              "    </tr>\n",
              "    <tr>\n",
              "      <th>Puerto la cruz</th>\n",
              "      <td>1444</td>\n",
              "    </tr>\n",
              "    <tr>\n",
              "      <th>San Cristóbal</th>\n",
              "      <td>270</td>\n",
              "    </tr>\n",
              "    <tr>\n",
              "      <th>San joaquin</th>\n",
              "      <td>838</td>\n",
              "    </tr>\n",
              "    <tr>\n",
              "      <th>San juan</th>\n",
              "      <td>279</td>\n",
              "    </tr>\n",
              "    <tr>\n",
              "      <th>Sucre</th>\n",
              "      <td>13194</td>\n",
              "    </tr>\n",
              "    <tr>\n",
              "      <th>Tachira</th>\n",
              "      <td>7131</td>\n",
              "    </tr>\n",
              "    <tr>\n",
              "      <th>Trujillo</th>\n",
              "      <td>3532</td>\n",
              "    </tr>\n",
              "    <tr>\n",
              "      <th>Táchira</th>\n",
              "      <td>28186</td>\n",
              "    </tr>\n",
              "    <tr>\n",
              "      <th>Valencia</th>\n",
              "      <td>24359</td>\n",
              "    </tr>\n",
              "    <tr>\n",
              "      <th>Vargas</th>\n",
              "      <td>3861</td>\n",
              "    </tr>\n",
              "    <tr>\n",
              "      <th>Venezolana</th>\n",
              "      <td>98</td>\n",
              "    </tr>\n",
              "    <tr>\n",
              "      <th>Venezuela</th>\n",
              "      <td>1047</td>\n",
              "    </tr>\n",
              "    <tr>\n",
              "      <th>Yaracuy</th>\n",
              "      <td>48757</td>\n",
              "    </tr>\n",
              "    <tr>\n",
              "      <th>Zulia</th>\n",
              "      <td>235140</td>\n",
              "    </tr>\n",
              "    <tr>\n",
              "      <th>Zulia - Maracaibo</th>\n",
              "      <td>2686</td>\n",
              "    </tr>\n",
              "    <tr>\n",
              "      <th>anzoategui</th>\n",
              "      <td>3322</td>\n",
              "    </tr>\n",
              "    <tr>\n",
              "      <th>aragua</th>\n",
              "      <td>4591</td>\n",
              "    </tr>\n",
              "    <tr>\n",
              "      <th>barinas</th>\n",
              "      <td>1171</td>\n",
              "    </tr>\n",
              "    <tr>\n",
              "      <th>carabobo</th>\n",
              "      <td>5594</td>\n",
              "    </tr>\n",
              "    <tr>\n",
              "      <th>caracas</th>\n",
              "      <td>6025</td>\n",
              "    </tr>\n",
              "    <tr>\n",
              "      <th>caracas distrito capital</th>\n",
              "      <td>939</td>\n",
              "    </tr>\n",
              "    <tr>\n",
              "      <th>cojedes</th>\n",
              "      <td>459</td>\n",
              "    </tr>\n",
              "    <tr>\n",
              "      <th>cumana</th>\n",
              "      <td>10710</td>\n",
              "    </tr>\n",
              "    <tr>\n",
              "      <th>cumbre de curumo</th>\n",
              "      <td>1290</td>\n",
              "    </tr>\n",
              "    <tr>\n",
              "      <th>distrito capital</th>\n",
              "      <td>3241</td>\n",
              "    </tr>\n",
              "    <tr>\n",
              "      <th>falcon</th>\n",
              "      <td>17</td>\n",
              "    </tr>\n",
              "    <tr>\n",
              "      <th>lara</th>\n",
              "      <td>539</td>\n",
              "    </tr>\n",
              "    <tr>\n",
              "      <th>maracaibo</th>\n",
              "      <td>392</td>\n",
              "    </tr>\n",
              "    <tr>\n",
              "      <th>merida</th>\n",
              "      <td>1423</td>\n",
              "    </tr>\n",
              "    <tr>\n",
              "      <th>miranda</th>\n",
              "      <td>1448</td>\n",
              "    </tr>\n",
              "    <tr>\n",
              "      <th>monagas</th>\n",
              "      <td>7739</td>\n",
              "    </tr>\n",
              "    <tr>\n",
              "      <th>montalban</th>\n",
              "      <td>3386</td>\n",
              "    </tr>\n",
              "    <tr>\n",
              "      <th>montalban estado carabobo</th>\n",
              "      <td>3691</td>\n",
              "    </tr>\n",
              "    <tr>\n",
              "      <th>zulia</th>\n",
              "      <td>1866</td>\n",
              "    </tr>\n",
              "  </tbody>\n",
              "</table>\n",
              "</div>"
            ],
            "text/plain": [
              "                                                     state\n",
              "Amazonas                                               131\n",
              "Andes                                                 1270\n",
              "Anzoategui                                           20485\n",
              "Anzoatequi                                             756\n",
              "Anzoátegui                                           36584\n",
              "Anzuategui                                            3206\n",
              "Apure                                                 3423\n",
              "Aragua                                               79158\n",
              "Aragua - región central                              11504\n",
              "Barcelona                                             1417\n",
              "Barinas                                               1160\n",
              "Barquisimeto                                          1752\n",
              "Bolivar                                              14132\n",
              "Buenos Aires                                          2012\n",
              "CARACAS                                                236\n",
              "Cagua                                                  140\n",
              "Capital                                               5899\n",
              "Carabobo                                             84131\n",
              "Carabobo valencia                                        5\n",
              "Caraca                                                  88\n",
              "Caracas                                             112512\n",
              "Catia la mar                                          5402\n",
              "Centro occidente                                       642\n",
              "Charallave                                            1133\n",
              "Cojedes                                               5206\n",
              "Coro                                                  5928\n",
              "De San Francisco                                       122\n",
              "Distrito Capital                                     30216\n",
              "Distrito capital                                     28285\n",
              "Dtto capital                                          2699\n",
              "Duaca                                                  157\n",
              "Edo Guárico                                           2561\n",
              "Edo. Nueva Esparta                                     167\n",
              "Edo.Miranda                                            835\n",
              "Esrado vargas                                         2011\n",
              "Estado Anzoategui                                     2258\n",
              "Estado Anzoátegui                                      859\n",
              "Estado Aragua                                           36\n",
              "Estado Falcon                                          586\n",
              "Estado La Guaira                                       123\n",
              "Estado Miranda                                        1299\n",
              "Estado aragua                                           50\n",
              "Estado bolivar                                         250\n",
              "Estado bolivariano de miranda                         5488\n",
              "Ezequiel zamora                                       9395\n",
              "Falcon                                                9287\n",
              "Falcón                                                4630\n",
              "Guanta                                                  99\n",
              "Guarico                                               3256\n",
              "Guasdualito                                           2789\n",
              "Guárico                                               8158\n",
              "La Guaira                                             5528\n",
              "La guaira                                             5918\n",
              "Lara                                                 42064\n",
              "Las provincias eran las divisiones administrati...     231\n",
              "Manaus                                                 453\n",
              "Maracaibo                                            38412\n",
              "Maracaibo zulia                                        375\n",
              "Maracay                                               6326\n",
              "Maturin                                               8130\n",
              "Merida                                               21100\n",
              "Miranda                                             102973\n",
              "Miranda  - Caracas                                    8715\n",
              "Monagas                                              92197\n",
              "Montalban                                             2329\n",
              "Municipio Libertad or                                  266\n",
              "Mérida                                               36607\n",
              "Nueva Esparta                                         7037\n",
              "Portuguesa                                             985\n",
              "Puerto la cruz                                        1444\n",
              "San Cristóbal                                          270\n",
              "San joaquin                                            838\n",
              "San juan                                               279\n",
              "Sucre                                                13194\n",
              "Tachira                                               7131\n",
              "Trujillo                                              3532\n",
              "Táchira                                              28186\n",
              "Valencia                                             24359\n",
              "Vargas                                                3861\n",
              "Venezolana                                              98\n",
              "Venezuela                                             1047\n",
              "Yaracuy                                              48757\n",
              "Zulia                                               235140\n",
              "Zulia - Maracaibo                                     2686\n",
              "anzoategui                                            3322\n",
              "aragua                                                4591\n",
              "barinas                                               1171\n",
              "carabobo                                              5594\n",
              "caracas                                               6025\n",
              "caracas distrito capital                               939\n",
              "cojedes                                                459\n",
              "cumana                                               10710\n",
              "cumbre de curumo                                      1290\n",
              "distrito capital                                      3241\n",
              "falcon                                                  17\n",
              "lara                                                   539\n",
              "maracaibo                                              392\n",
              "merida                                                1423\n",
              "miranda                                               1448\n",
              "monagas                                               7739\n",
              "montalban                                             3386\n",
              "montalban estado carabobo                             3691\n",
              "zulia                                                 1866"
            ]
          },
          "execution_count": 118,
          "metadata": {},
          "output_type": "execute_result"
        }
      ],
      "source": [
        "vnz_states = df.state[df.country == 'Venezuela'].value_counts(dropna=False).sort_index().to_frame()\n",
        "pd.options.display.max_rows = 110\n",
        "vnz_states"
      ]
    },
    {
      "cell_type": "code",
      "execution_count": null,
      "metadata": {
        "colab": {
          "base_uri": "https://localhost:8080/",
          "height": 424
        },
        "id": "xGB7pLy-jobF",
        "outputId": "20d6f8ce-4c2c-4a2f-b704-58a8435aee19"
      },
      "outputs": [
        {
          "data": {
            "text/html": [
              "<div>\n",
              "<style scoped>\n",
              "    .dataframe tbody tr th:only-of-type {\n",
              "        vertical-align: middle;\n",
              "    }\n",
              "\n",
              "    .dataframe tbody tr th {\n",
              "        vertical-align: top;\n",
              "    }\n",
              "\n",
              "    .dataframe thead th {\n",
              "        text-align: right;\n",
              "    }\n",
              "</style>\n",
              "<table border=\"1\" class=\"dataframe\">\n",
              "  <thead>\n",
              "    <tr style=\"text-align: right;\">\n",
              "      <th></th>\n",
              "      <th>id</th>\n",
              "      <th>datetime</th>\n",
              "      <th>has_studies</th>\n",
              "      <th>gender</th>\n",
              "      <th>country</th>\n",
              "      <th>state</th>\n",
              "      <th>birth</th>\n",
              "      <th>cups</th>\n",
              "    </tr>\n",
              "  </thead>\n",
              "  <tbody>\n",
              "    <tr>\n",
              "      <th>2680835</th>\n",
              "      <td>e39eef82f61b21e2e7f762fcc4307358f165757f2e77ec...</td>\n",
              "      <td>2022-01-19 19:11:33</td>\n",
              "      <td>t</td>\n",
              "      <td>Hombre</td>\n",
              "      <td>Venezuela</td>\n",
              "      <td>Las provincias eran las divisiones administrat...</td>\n",
              "      <td>2,003.00</td>\n",
              "      <td>1037</td>\n",
              "    </tr>\n",
              "    <tr>\n",
              "      <th>2681651</th>\n",
              "      <td>e39eef82f61b21e2e7f762fcc4307358f165757f2e77ec...</td>\n",
              "      <td>2022-01-19 19:31:24</td>\n",
              "      <td>t</td>\n",
              "      <td>Hombre</td>\n",
              "      <td>Venezuela</td>\n",
              "      <td>Las provincias eran las divisiones administrat...</td>\n",
              "      <td>2,003.00</td>\n",
              "      <td>1037</td>\n",
              "    </tr>\n",
              "    <tr>\n",
              "      <th>2681826</th>\n",
              "      <td>e39eef82f61b21e2e7f762fcc4307358f165757f2e77ec...</td>\n",
              "      <td>2022-01-19 20:12:26</td>\n",
              "      <td>t</td>\n",
              "      <td>Hombre</td>\n",
              "      <td>Venezuela</td>\n",
              "      <td>Las provincias eran las divisiones administrat...</td>\n",
              "      <td>2,003.00</td>\n",
              "      <td>1037</td>\n",
              "    </tr>\n",
              "    <tr>\n",
              "      <th>2682369</th>\n",
              "      <td>e39eef82f61b21e2e7f762fcc4307358f165757f2e77ec...</td>\n",
              "      <td>2022-01-19 20:31:15</td>\n",
              "      <td>t</td>\n",
              "      <td>Hombre</td>\n",
              "      <td>Venezuela</td>\n",
              "      <td>Las provincias eran las divisiones administrat...</td>\n",
              "      <td>2,003.00</td>\n",
              "      <td>1037</td>\n",
              "    </tr>\n",
              "    <tr>\n",
              "      <th>2683130</th>\n",
              "      <td>e39eef82f61b21e2e7f762fcc4307358f165757f2e77ec...</td>\n",
              "      <td>2022-01-19 21:10:25</td>\n",
              "      <td>t</td>\n",
              "      <td>Hombre</td>\n",
              "      <td>Venezuela</td>\n",
              "      <td>Las provincias eran las divisiones administrat...</td>\n",
              "      <td>2,003.00</td>\n",
              "      <td>1037</td>\n",
              "    </tr>\n",
              "    <tr>\n",
              "      <th>...</th>\n",
              "      <td>...</td>\n",
              "      <td>...</td>\n",
              "      <td>...</td>\n",
              "      <td>...</td>\n",
              "      <td>...</td>\n",
              "      <td>...</td>\n",
              "      <td>...</td>\n",
              "      <td>...</td>\n",
              "    </tr>\n",
              "    <tr>\n",
              "      <th>2791669</th>\n",
              "      <td>e39eef82f61b21e2e7f762fcc4307358f165757f2e77ec...</td>\n",
              "      <td>2022-01-24 11:31:15</td>\n",
              "      <td>t</td>\n",
              "      <td>Hombre</td>\n",
              "      <td>Venezuela</td>\n",
              "      <td>Las provincias eran las divisiones administrat...</td>\n",
              "      <td>2,003.00</td>\n",
              "      <td>912</td>\n",
              "    </tr>\n",
              "    <tr>\n",
              "      <th>2792386</th>\n",
              "      <td>e39eef82f61b21e2e7f762fcc4307358f165757f2e77ec...</td>\n",
              "      <td>2022-01-24 12:14:54</td>\n",
              "      <td>t</td>\n",
              "      <td>Hombre</td>\n",
              "      <td>Venezuela</td>\n",
              "      <td>Las provincias eran las divisiones administrat...</td>\n",
              "      <td>2,003.00</td>\n",
              "      <td>912</td>\n",
              "    </tr>\n",
              "    <tr>\n",
              "      <th>2792535</th>\n",
              "      <td>e39eef82f61b21e2e7f762fcc4307358f165757f2e77ec...</td>\n",
              "      <td>2022-01-24 12:35:59</td>\n",
              "      <td>t</td>\n",
              "      <td>Hombre</td>\n",
              "      <td>Venezuela</td>\n",
              "      <td>Las provincias eran las divisiones administrat...</td>\n",
              "      <td>2,003.00</td>\n",
              "      <td>912</td>\n",
              "    </tr>\n",
              "    <tr>\n",
              "      <th>2793406</th>\n",
              "      <td>e39eef82f61b21e2e7f762fcc4307358f165757f2e77ec...</td>\n",
              "      <td>2022-01-24 13:23:24</td>\n",
              "      <td>t</td>\n",
              "      <td>Hombre</td>\n",
              "      <td>Venezuela</td>\n",
              "      <td>Las provincias eran las divisiones administrat...</td>\n",
              "      <td>2,003.00</td>\n",
              "      <td>912</td>\n",
              "    </tr>\n",
              "    <tr>\n",
              "      <th>2793412</th>\n",
              "      <td>e39eef82f61b21e2e7f762fcc4307358f165757f2e77ec...</td>\n",
              "      <td>2022-01-24 13:24:31</td>\n",
              "      <td>t</td>\n",
              "      <td>Hombre</td>\n",
              "      <td>Venezuela</td>\n",
              "      <td>Las provincias eran las divisiones administrat...</td>\n",
              "      <td>2,003.00</td>\n",
              "      <td>912</td>\n",
              "    </tr>\n",
              "  </tbody>\n",
              "</table>\n",
              "<p>231 rows × 8 columns</p>\n",
              "</div>"
            ],
            "text/plain": [
              "                                                        id  \\\n",
              "2680835  e39eef82f61b21e2e7f762fcc4307358f165757f2e77ec...   \n",
              "2681651  e39eef82f61b21e2e7f762fcc4307358f165757f2e77ec...   \n",
              "2681826  e39eef82f61b21e2e7f762fcc4307358f165757f2e77ec...   \n",
              "2682369  e39eef82f61b21e2e7f762fcc4307358f165757f2e77ec...   \n",
              "2683130  e39eef82f61b21e2e7f762fcc4307358f165757f2e77ec...   \n",
              "...                                                    ...   \n",
              "2791669  e39eef82f61b21e2e7f762fcc4307358f165757f2e77ec...   \n",
              "2792386  e39eef82f61b21e2e7f762fcc4307358f165757f2e77ec...   \n",
              "2792535  e39eef82f61b21e2e7f762fcc4307358f165757f2e77ec...   \n",
              "2793406  e39eef82f61b21e2e7f762fcc4307358f165757f2e77ec...   \n",
              "2793412  e39eef82f61b21e2e7f762fcc4307358f165757f2e77ec...   \n",
              "\n",
              "                   datetime has_studies  gender    country  \\\n",
              "2680835 2022-01-19 19:11:33           t  Hombre  Venezuela   \n",
              "2681651 2022-01-19 19:31:24           t  Hombre  Venezuela   \n",
              "2681826 2022-01-19 20:12:26           t  Hombre  Venezuela   \n",
              "2682369 2022-01-19 20:31:15           t  Hombre  Venezuela   \n",
              "2683130 2022-01-19 21:10:25           t  Hombre  Venezuela   \n",
              "...                     ...         ...     ...        ...   \n",
              "2791669 2022-01-24 11:31:15           t  Hombre  Venezuela   \n",
              "2792386 2022-01-24 12:14:54           t  Hombre  Venezuela   \n",
              "2792535 2022-01-24 12:35:59           t  Hombre  Venezuela   \n",
              "2793406 2022-01-24 13:23:24           t  Hombre  Venezuela   \n",
              "2793412 2022-01-24 13:24:31           t  Hombre  Venezuela   \n",
              "\n",
              "                                                     state    birth  cups  \n",
              "2680835  Las provincias eran las divisiones administrat... 2,003.00  1037  \n",
              "2681651  Las provincias eran las divisiones administrat... 2,003.00  1037  \n",
              "2681826  Las provincias eran las divisiones administrat... 2,003.00  1037  \n",
              "2682369  Las provincias eran las divisiones administrat... 2,003.00  1037  \n",
              "2683130  Las provincias eran las divisiones administrat... 2,003.00  1037  \n",
              "...                                                    ...      ...   ...  \n",
              "2791669  Las provincias eran las divisiones administrat... 2,003.00   912  \n",
              "2792386  Las provincias eran las divisiones administrat... 2,003.00   912  \n",
              "2792535  Las provincias eran las divisiones administrat... 2,003.00   912  \n",
              "2793406  Las provincias eran las divisiones administrat... 2,003.00   912  \n",
              "2793412  Las provincias eran las divisiones administrat... 2,003.00   912  \n",
              "\n",
              "[231 rows x 8 columns]"
            ]
          },
          "execution_count": 119,
          "metadata": {},
          "output_type": "execute_result"
        }
      ],
      "source": [
        "df_00 = df[df.state == 'Las provincias eran las divisiones administrativas utilizadas en Venezuela desde la colonización española hasta la conclusión de la Guerra Federal - cuando una nueva constitución transformó a estas subdivisiones en estados federales']\n",
        "df_00"
      ]
    },
    {
      "cell_type": "code",
      "execution_count": null,
      "metadata": {
        "id": "xofMOvTJjqk3"
      },
      "outputs": [],
      "source": [
        "# Venezuela\n",
        "anzoategui = ('Anzoatequi',\n",
        "              'Anzoátegui',\n",
        "              'Anzuategui',\n",
        "              'Estado Anzoategui',\n",
        "              'Estado Anzoátegui',\n",
        "              'anzoategui'\n",
        "              )\n",
        "\n",
        "aragua = ('Aragua - región central',\n",
        "         'Estado Aragua',\n",
        "         'Estado aragua',\n",
        "         'aragua')\n",
        "\n",
        "caracas = ('CARACAS',\n",
        "          'Caraca',\n",
        "          'caracas',\n",
        "          'Miranda - Caracas',\n",
        "          'Miranda  - Caracas')\n",
        "\n",
        "distrito_capital = ('Distrito capital',\n",
        "                   'Dtto capital',\n",
        "                   'caracas distrito capital',\n",
        "                   'distrito capital')\n",
        "\n",
        "la_guaira = ('La guaira')\n",
        "\n",
        "maracaibo = ('Maracaibo zulia',\n",
        "            'maracaibo')\n",
        "\n",
        "san_joaquin = ('San Joaquin')\n",
        "\n",
        "san_juan = ('San Juan')\n",
        "\n",
        "tachira = ('Táchira')\n",
        "\n",
        "carabobo_valencia = ('Carabobo Valencia', \n",
        "                    'carabobo',\n",
        "                    'montalban estado carabobo',\n",
        "                    'Carabobo valencia')\n",
        "\n",
        "catia_la_mar = ('Catia la mar')\n",
        "\n",
        "guarico = ('Edo Guárico',\n",
        "           'Guarico',\n",
        "           'Guárico')\n",
        "\n",
        "estado_xx = ('Las provincias eran las divisiones administrativas utilizadas en Venezuela desde la colonización española hasta la conclusión de la Guerra Federal - cuando una nueva constitución transformó a estas subdivisiones en estados federales')\n",
        "\n",
        "nueva_esparta = ('Edo. Nueva Esparta')\n",
        "\n",
        "miranda = ('Edo.Miranda',\n",
        "          'Estado Miranda',\n",
        "          'Estado bolivariano de miranda',\n",
        "          'miranda')\n",
        "\n",
        "merida = ('merida')\n",
        "\n",
        "monagas = ('monagas')\n",
        "\n",
        "montalban = ('montalban')\n",
        "\n",
        "zulia = ('zulia',\n",
        "        'Zulia - Maracaibo',\n",
        "        'Zulia - Maracaibo')\n",
        "vargas = ('Esrado vargas')\n",
        "\n",
        "falcon = ('Estado Falcon',\n",
        "         'Falcón',\n",
        "         'falcon')\n",
        "\n",
        "la_guaira = ('Estado La Guaira')\n",
        "\n",
        "bolivar = ('Estado bolivar')\n",
        "\n",
        "ezeequiel_zamora = ('Ezequiel zamora')\n",
        "\n",
        "puerto_la_cruz = ('Puerto la cruz')\n",
        "\n",
        "municipio_libertador = ('Municipio Libertad or')\n",
        "\n",
        "lara = ('lara')\n",
        "\n",
        "barinas = ('barinas')\n",
        "\n",
        "cojedes = ('cojedes')\n",
        "\n",
        "cumana = ('cumana')\n",
        "\n",
        "cumbres_de_curumo = ('cumbre de curumo')\n",
        "\n",
        "san_joaquin = ('San joaquin')\n",
        "\n",
        "san_juan = ('San juan')\n",
        "\n",
        "\n",
        "\n",
        "replace_dic = {anzoategui : 'Anzoategui', aragua : 'Aragua',  caracas : 'Caracas', distrito_capital : 'Distrito Capital',\n",
        "              la_guaira : 'La Guaira', maracaibo : 'Maracaibo', san_joaquin : 'San Joaquin', san_juan : 'San Juan',\n",
        "              tachira : 'Tachira', carabobo_valencia : 'Carabobo', catia_la_mar : 'Catia la Mar', \n",
        "              guarico : 'Guarico', estado_xx : None, nueva_esparta : 'Nueva Esparta', miranda : 'Miranda', \n",
        "              vargas : 'Vargas', falcon : 'Falcon', la_guaira : 'La Guaira', bolivar : 'Bolivar',\n",
        "              ezeequiel_zamora : 'Ezequiel Zamora', puerto_la_cruz : 'Puerto la Cruz', \n",
        "              municipio_libertador : 'Munucipio Libertador', lara : 'Lara', merida : 'Merida', monagas : 'Monagas',\n",
        "              montalban : 'Montalban', zulia : 'Zulia', barinas : 'Barinas', cojedes : 'Cojedes', cumana : 'Cumana',\n",
        "              cumbres_de_curumo : 'Cumbres de Curumo', san_joaquin : 'San Joaquin', san_juan : 'San Juan'}"
      ]
    },
    {
      "cell_type": "code",
      "execution_count": null,
      "metadata": {
        "id": "7usSgyyXjsYF"
      },
      "outputs": [],
      "source": [
        "for replace, city in replace_dic.items():\n",
        "    df.state.replace(to_replace = replace, \n",
        "                   value = city,\n",
        "                   inplace = True)"
      ]
    },
    {
      "cell_type": "code",
      "execution_count": null,
      "metadata": {
        "colab": {
          "base_uri": "https://localhost:8080/",
          "height": 1000
        },
        "id": "mxyr4gsKjts9",
        "outputId": "a91eae57-a266-4f99-ee79-ce992b5f1fd3"
      },
      "outputs": [
        {
          "data": {
            "text/html": [
              "<div>\n",
              "<style scoped>\n",
              "    .dataframe tbody tr th:only-of-type {\n",
              "        vertical-align: middle;\n",
              "    }\n",
              "\n",
              "    .dataframe tbody tr th {\n",
              "        vertical-align: top;\n",
              "    }\n",
              "\n",
              "    .dataframe thead th {\n",
              "        text-align: right;\n",
              "    }\n",
              "</style>\n",
              "<table border=\"1\" class=\"dataframe\">\n",
              "  <thead>\n",
              "    <tr style=\"text-align: right;\">\n",
              "      <th></th>\n",
              "      <th>state</th>\n",
              "    </tr>\n",
              "  </thead>\n",
              "  <tbody>\n",
              "    <tr>\n",
              "      <th>Amazonas</th>\n",
              "      <td>131</td>\n",
              "    </tr>\n",
              "    <tr>\n",
              "      <th>Andes</th>\n",
              "      <td>1270</td>\n",
              "    </tr>\n",
              "    <tr>\n",
              "      <th>Anzoategui</th>\n",
              "      <td>67491</td>\n",
              "    </tr>\n",
              "    <tr>\n",
              "      <th>Apure</th>\n",
              "      <td>3423</td>\n",
              "    </tr>\n",
              "    <tr>\n",
              "      <th>Aragua</th>\n",
              "      <td>95343</td>\n",
              "    </tr>\n",
              "    <tr>\n",
              "      <th>Barcelona</th>\n",
              "      <td>1417</td>\n",
              "    </tr>\n",
              "    <tr>\n",
              "      <th>Barinas</th>\n",
              "      <td>2331</td>\n",
              "    </tr>\n",
              "    <tr>\n",
              "      <th>Barquisimeto</th>\n",
              "      <td>1752</td>\n",
              "    </tr>\n",
              "    <tr>\n",
              "      <th>Bolivar</th>\n",
              "      <td>14382</td>\n",
              "    </tr>\n",
              "    <tr>\n",
              "      <th>Buenos Aires</th>\n",
              "      <td>2071</td>\n",
              "    </tr>\n",
              "    <tr>\n",
              "      <th>CABA</th>\n",
              "      <td>13</td>\n",
              "    </tr>\n",
              "    <tr>\n",
              "      <th>Cagua</th>\n",
              "      <td>140</td>\n",
              "    </tr>\n",
              "    <tr>\n",
              "      <th>Camarines Sur</th>\n",
              "      <td>11</td>\n",
              "    </tr>\n",
              "    <tr>\n",
              "      <th>Capital</th>\n",
              "      <td>5899</td>\n",
              "    </tr>\n",
              "    <tr>\n",
              "      <th>Carabobo</th>\n",
              "      <td>93421</td>\n",
              "    </tr>\n",
              "    <tr>\n",
              "      <th>Caracas</th>\n",
              "      <td>127577</td>\n",
              "    </tr>\n",
              "    <tr>\n",
              "      <th>Catia la Mar</th>\n",
              "      <td>5402</td>\n",
              "    </tr>\n",
              "    <tr>\n",
              "      <th>Centro occidente</th>\n",
              "      <td>642</td>\n",
              "    </tr>\n",
              "    <tr>\n",
              "      <th>Charallave</th>\n",
              "      <td>1133</td>\n",
              "    </tr>\n",
              "    <tr>\n",
              "      <th>Cojedes</th>\n",
              "      <td>5665</td>\n",
              "    </tr>\n",
              "    <tr>\n",
              "      <th>Cordoba</th>\n",
              "      <td>1</td>\n",
              "    </tr>\n",
              "    <tr>\n",
              "      <th>Coro</th>\n",
              "      <td>5928</td>\n",
              "    </tr>\n",
              "    <tr>\n",
              "      <th>Cumana</th>\n",
              "      <td>10717</td>\n",
              "    </tr>\n",
              "    <tr>\n",
              "      <th>Cumbres de Curumo</th>\n",
              "      <td>1290</td>\n",
              "    </tr>\n",
              "    <tr>\n",
              "      <th>De San Francisco</th>\n",
              "      <td>122</td>\n",
              "    </tr>\n",
              "    <tr>\n",
              "      <th>Distrito Capital</th>\n",
              "      <td>65381</td>\n",
              "    </tr>\n",
              "    <tr>\n",
              "      <th>Duaca</th>\n",
              "      <td>157</td>\n",
              "    </tr>\n",
              "    <tr>\n",
              "      <th>Entre Rios</th>\n",
              "      <td>1</td>\n",
              "    </tr>\n",
              "    <tr>\n",
              "      <th>Ezequiel Zamora</th>\n",
              "      <td>9395</td>\n",
              "    </tr>\n",
              "    <tr>\n",
              "      <th>Falcon</th>\n",
              "      <td>14521</td>\n",
              "    </tr>\n",
              "    <tr>\n",
              "      <th>Guanta</th>\n",
              "      <td>99</td>\n",
              "    </tr>\n",
              "    <tr>\n",
              "      <th>Guarico</th>\n",
              "      <td>13975</td>\n",
              "    </tr>\n",
              "    <tr>\n",
              "      <th>Guasdualito</th>\n",
              "      <td>2789</td>\n",
              "    </tr>\n",
              "    <tr>\n",
              "      <th>Guayas</th>\n",
              "      <td>1</td>\n",
              "    </tr>\n",
              "    <tr>\n",
              "      <th>La Guaira</th>\n",
              "      <td>5652</td>\n",
              "    </tr>\n",
              "    <tr>\n",
              "      <th>La guaira</th>\n",
              "      <td>5918</td>\n",
              "    </tr>\n",
              "    <tr>\n",
              "      <th>Lara</th>\n",
              "      <td>42603</td>\n",
              "    </tr>\n",
              "    <tr>\n",
              "      <th>Madrid</th>\n",
              "      <td>1</td>\n",
              "    </tr>\n",
              "    <tr>\n",
              "      <th>Manaus</th>\n",
              "      <td>453</td>\n",
              "    </tr>\n",
              "    <tr>\n",
              "      <th>Maracaibo</th>\n",
              "      <td>39180</td>\n",
              "    </tr>\n",
              "    <tr>\n",
              "      <th>Maracay</th>\n",
              "      <td>6326</td>\n",
              "    </tr>\n",
              "    <tr>\n",
              "      <th>Maturin</th>\n",
              "      <td>8130</td>\n",
              "    </tr>\n",
              "    <tr>\n",
              "      <th>Merida</th>\n",
              "      <td>22523</td>\n",
              "    </tr>\n",
              "    <tr>\n",
              "      <th>Miranda</th>\n",
              "      <td>112063</td>\n",
              "    </tr>\n",
              "    <tr>\n",
              "      <th>Monagas</th>\n",
              "      <td>99938</td>\n",
              "    </tr>\n",
              "    <tr>\n",
              "      <th>Montalban</th>\n",
              "      <td>5715</td>\n",
              "    </tr>\n",
              "    <tr>\n",
              "      <th>Munucipio Libertador</th>\n",
              "      <td>266</td>\n",
              "    </tr>\n",
              "    <tr>\n",
              "      <th>Mérida</th>\n",
              "      <td>36612</td>\n",
              "    </tr>\n",
              "    <tr>\n",
              "      <th>Neuquen</th>\n",
              "      <td>1</td>\n",
              "    </tr>\n",
              "    <tr>\n",
              "      <th>Nueva Esparta</th>\n",
              "      <td>7205</td>\n",
              "    </tr>\n",
              "    <tr>\n",
              "      <th>Portuguesa</th>\n",
              "      <td>985</td>\n",
              "    </tr>\n",
              "    <tr>\n",
              "      <th>Puerto la Cruz</th>\n",
              "      <td>1450</td>\n",
              "    </tr>\n",
              "    <tr>\n",
              "      <th>San Cristóbal</th>\n",
              "      <td>270</td>\n",
              "    </tr>\n",
              "    <tr>\n",
              "      <th>San Joaquin</th>\n",
              "      <td>838</td>\n",
              "    </tr>\n",
              "    <tr>\n",
              "      <th>San Juan</th>\n",
              "      <td>279</td>\n",
              "    </tr>\n",
              "    <tr>\n",
              "      <th>Santa Fe</th>\n",
              "      <td>54</td>\n",
              "    </tr>\n",
              "    <tr>\n",
              "      <th>Sucre</th>\n",
              "      <td>13194</td>\n",
              "    </tr>\n",
              "    <tr>\n",
              "      <th>Tachira</th>\n",
              "      <td>35320</td>\n",
              "    </tr>\n",
              "    <tr>\n",
              "      <th>Trujillo</th>\n",
              "      <td>3532</td>\n",
              "    </tr>\n",
              "    <tr>\n",
              "      <th>Tucuman</th>\n",
              "      <td>1</td>\n",
              "    </tr>\n",
              "    <tr>\n",
              "      <th>Valencia</th>\n",
              "      <td>24360</td>\n",
              "    </tr>\n",
              "    <tr>\n",
              "      <th>Vargas</th>\n",
              "      <td>5872</td>\n",
              "    </tr>\n",
              "    <tr>\n",
              "      <th>Venezolana</th>\n",
              "      <td>98</td>\n",
              "    </tr>\n",
              "    <tr>\n",
              "      <th>Venezuela</th>\n",
              "      <td>1047</td>\n",
              "    </tr>\n",
              "    <tr>\n",
              "      <th>Yaracuy</th>\n",
              "      <td>48761</td>\n",
              "    </tr>\n",
              "    <tr>\n",
              "      <th>Zulia</th>\n",
              "      <td>239701</td>\n",
              "    </tr>\n",
              "  </tbody>\n",
              "</table>\n",
              "</div>"
            ],
            "text/plain": [
              "                       state\n",
              "Amazonas                 131\n",
              "Andes                   1270\n",
              "Anzoategui             67491\n",
              "Apure                   3423\n",
              "Aragua                 95343\n",
              "Barcelona               1417\n",
              "Barinas                 2331\n",
              "Barquisimeto            1752\n",
              "Bolivar                14382\n",
              "Buenos Aires            2071\n",
              "CABA                      13\n",
              "Cagua                    140\n",
              "Camarines Sur             11\n",
              "Capital                 5899\n",
              "Carabobo               93421\n",
              "Caracas               127577\n",
              "Catia la Mar            5402\n",
              "Centro occidente         642\n",
              "Charallave              1133\n",
              "Cojedes                 5665\n",
              "Cordoba                    1\n",
              "Coro                    5928\n",
              "Cumana                 10717\n",
              "Cumbres de Curumo       1290\n",
              "De San Francisco         122\n",
              "Distrito Capital       65381\n",
              "Duaca                    157\n",
              "Entre Rios                 1\n",
              "Ezequiel Zamora         9395\n",
              "Falcon                 14521\n",
              "Guanta                    99\n",
              "Guarico                13975\n",
              "Guasdualito             2789\n",
              "Guayas                     1\n",
              "La Guaira               5652\n",
              "La guaira               5918\n",
              "Lara                   42603\n",
              "Madrid                     1\n",
              "Manaus                   453\n",
              "Maracaibo              39180\n",
              "Maracay                 6326\n",
              "Maturin                 8130\n",
              "Merida                 22523\n",
              "Miranda               112063\n",
              "Monagas                99938\n",
              "Montalban               5715\n",
              "Munucipio Libertador     266\n",
              "Mérida                 36612\n",
              "Neuquen                    1\n",
              "Nueva Esparta           7205\n",
              "Portuguesa               985\n",
              "Puerto la Cruz          1450\n",
              "San Cristóbal            270\n",
              "San Joaquin              838\n",
              "San Juan                 279\n",
              "Santa Fe                  54\n",
              "Sucre                  13194\n",
              "Tachira                35320\n",
              "Trujillo                3532\n",
              "Tucuman                    1\n",
              "Valencia               24360\n",
              "Vargas                  5872\n",
              "Venezolana                98\n",
              "Venezuela               1047\n",
              "Yaracuy                48761\n",
              "Zulia                 239701"
            ]
          },
          "execution_count": 122,
          "metadata": {},
          "output_type": "execute_result"
        }
      ],
      "source": [
        "vnz_states = df.state[df.country == 'Venezuela'].value_counts(dropna=False).sort_index().to_frame()\n",
        "pd.options.display.max_rows = 110\n",
        "vnz_states"
      ]
    },
    {
      "cell_type": "code",
      "execution_count": null,
      "metadata": {
        "colab": {
          "base_uri": "https://localhost:8080/",
          "height": 81
        },
        "id": "rc2LLqtujv14",
        "outputId": "8ba8e34d-837e-45ac-87af-85074609a221"
      },
      "outputs": [
        {
          "data": {
            "text/html": [
              "<div>\n",
              "<style scoped>\n",
              "    .dataframe tbody tr th:only-of-type {\n",
              "        vertical-align: middle;\n",
              "    }\n",
              "\n",
              "    .dataframe tbody tr th {\n",
              "        vertical-align: top;\n",
              "    }\n",
              "\n",
              "    .dataframe thead th {\n",
              "        text-align: right;\n",
              "    }\n",
              "</style>\n",
              "<table border=\"1\" class=\"dataframe\">\n",
              "  <thead>\n",
              "    <tr style=\"text-align: right;\">\n",
              "      <th></th>\n",
              "      <th>state</th>\n",
              "    </tr>\n",
              "  </thead>\n",
              "  <tbody>\n",
              "    <tr>\n",
              "      <th>nan</th>\n",
              "      <td>39077</td>\n",
              "    </tr>\n",
              "  </tbody>\n",
              "</table>\n",
              "</div>"
            ],
            "text/plain": [
              "     state\n",
              "nan  39077"
            ]
          },
          "execution_count": 123,
          "metadata": {},
          "output_type": "execute_result"
        }
      ],
      "source": [
        "nan_states = df.state[df.country.isna()].value_counts(dropna=False).sort_index().to_frame()\n",
        "pd.options.display.max_rows = 100\n",
        "nan_states"
      ]
    },
    {
      "cell_type": "code",
      "execution_count": null,
      "metadata": {
        "id": "XAOTtUFZjxAl"
      },
      "outputs": [],
      "source": [
        "df.to_csv('datos_jugadores_clean.csv', index = False)"
      ]
    },
    {
      "cell_type": "code",
      "execution_count": null,
      "metadata": {
        "colab": {
          "base_uri": "https://localhost:8080/",
          "height": 206
        },
        "id": "8revfDLSjy7_",
        "outputId": "977997de-c0f3-46d9-998a-44c3f74b352a"
      },
      "outputs": [
        {
          "data": {
            "text/html": [
              "<div>\n",
              "<style scoped>\n",
              "    .dataframe tbody tr th:only-of-type {\n",
              "        vertical-align: middle;\n",
              "    }\n",
              "\n",
              "    .dataframe tbody tr th {\n",
              "        vertical-align: top;\n",
              "    }\n",
              "\n",
              "    .dataframe thead th {\n",
              "        text-align: right;\n",
              "    }\n",
              "</style>\n",
              "<table border=\"1\" class=\"dataframe\">\n",
              "  <thead>\n",
              "    <tr style=\"text-align: right;\">\n",
              "      <th></th>\n",
              "      <th>id</th>\n",
              "      <th>datetime</th>\n",
              "      <th>has_studies</th>\n",
              "      <th>gender</th>\n",
              "      <th>country</th>\n",
              "      <th>state</th>\n",
              "      <th>birth</th>\n",
              "      <th>cups</th>\n",
              "    </tr>\n",
              "  </thead>\n",
              "  <tbody>\n",
              "    <tr>\n",
              "      <th>0</th>\n",
              "      <td>5316ca1c5ddca8e6ceccfce58f3b8540e540ee22f6180f...</td>\n",
              "      <td>2021-11-08 14:05:15</td>\n",
              "      <td>f</td>\n",
              "      <td>Hombre</td>\n",
              "      <td>Argentina</td>\n",
              "      <td>Santa Fe</td>\n",
              "      <td>1,997.00</td>\n",
              "      <td>1268</td>\n",
              "    </tr>\n",
              "    <tr>\n",
              "      <th>1</th>\n",
              "      <td>bbb965ab0c80d6538cf2184babad2a564a010376712012...</td>\n",
              "      <td>2021-11-08 14:05:16</td>\n",
              "      <td>t</td>\n",
              "      <td>Hombre</td>\n",
              "      <td>Argentina</td>\n",
              "      <td>Santa Fe</td>\n",
              "      <td>1,999.00</td>\n",
              "      <td>1212</td>\n",
              "    </tr>\n",
              "    <tr>\n",
              "      <th>2</th>\n",
              "      <td>b4944c6ff08dc6f43da2e9c824669b7d927dd1fa976fad...</td>\n",
              "      <td>2021-11-08 14:05:16</td>\n",
              "      <td>f</td>\n",
              "      <td>Hombre</td>\n",
              "      <td>Argentina</td>\n",
              "      <td>Entre Rios</td>\n",
              "      <td>2,003.00</td>\n",
              "      <td>1343</td>\n",
              "    </tr>\n",
              "    <tr>\n",
              "      <th>3</th>\n",
              "      <td>434c9b5ae514646bbd91b50032ca579efec8f22bf0b4aa...</td>\n",
              "      <td>2021-11-08 14:05:16</td>\n",
              "      <td>t</td>\n",
              "      <td>Hombre</td>\n",
              "      <td>Venezuela</td>\n",
              "      <td>Aragua</td>\n",
              "      <td>2,000.00</td>\n",
              "      <td>1237</td>\n",
              "    </tr>\n",
              "    <tr>\n",
              "      <th>4</th>\n",
              "      <td>cd70bea023f752a0564abb6ed08d42c1440f2e33e29914...</td>\n",
              "      <td>2021-11-08 14:05:16</td>\n",
              "      <td>t</td>\n",
              "      <td>Hombre</td>\n",
              "      <td>Venezuela</td>\n",
              "      <td>Carabobo</td>\n",
              "      <td>2,000.00</td>\n",
              "      <td>1191</td>\n",
              "    </tr>\n",
              "  </tbody>\n",
              "</table>\n",
              "</div>"
            ],
            "text/plain": [
              "                                                  id             datetime  \\\n",
              "0  5316ca1c5ddca8e6ceccfce58f3b8540e540ee22f6180f...  2021-11-08 14:05:15   \n",
              "1  bbb965ab0c80d6538cf2184babad2a564a010376712012...  2021-11-08 14:05:16   \n",
              "2  b4944c6ff08dc6f43da2e9c824669b7d927dd1fa976fad...  2021-11-08 14:05:16   \n",
              "3  434c9b5ae514646bbd91b50032ca579efec8f22bf0b4aa...  2021-11-08 14:05:16   \n",
              "4  cd70bea023f752a0564abb6ed08d42c1440f2e33e29914...  2021-11-08 14:05:16   \n",
              "\n",
              "  has_studies  gender    country       state    birth  cups  \n",
              "0           f  Hombre  Argentina    Santa Fe 1,997.00  1268  \n",
              "1           t  Hombre  Argentina    Santa Fe 1,999.00  1212  \n",
              "2           f  Hombre  Argentina  Entre Rios 2,003.00  1343  \n",
              "3           t  Hombre  Venezuela      Aragua 2,000.00  1237  \n",
              "4           t  Hombre  Venezuela    Carabobo 2,000.00  1191  "
            ]
          },
          "execution_count": 125,
          "metadata": {},
          "output_type": "execute_result"
        }
      ],
      "source": [
        "# chequear si el archivo se guardo correctamente\n",
        "import pandas as pd\n",
        "df = pd.read_csv('datos_jugadores_clean.csv')\n",
        "df.head()"
      ]
    }
  ],
  "metadata": {
    "colab": {
      "collapsed_sections": [],
      "name": "Entregable_1_mentorias.ipynb",
      "provenance": []
    },
    "kernelspec": {
      "display_name": "Python 3",
      "language": "python",
      "name": "python3"
    },
    "language_info": {
      "codemirror_mode": {
        "name": "ipython",
        "version": 3
      },
      "file_extension": ".py",
      "mimetype": "text/x-python",
      "name": "python",
      "nbconvert_exporter": "python",
      "pygments_lexer": "ipython3",
      "version": "3.8.6"
    }
  },
  "nbformat": 4,
  "nbformat_minor": 0
}